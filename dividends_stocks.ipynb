{
 "cells": [
  {
   "cell_type": "code",
   "execution_count": 9,
   "metadata": {},
   "outputs": [],
   "source": [
    "import bs4 as BeautifulSoup\n",
    "import pandas as pd\n",
    "import re\n",
    "import requests\n",
    "from selenium import webdriver\n",
    "url = 'http://www.stockpup.com/data/'"
   ]
  },
  {
   "cell_type": "code",
   "execution_count": 11,
   "metadata": {},
   "outputs": [],
   "source": [
    "jj = webdriver.Chrome()"
   ]
  },
  {
   "cell_type": "code",
   "execution_count": 14,
   "metadata": {},
   "outputs": [],
   "source": [
    "ins = webdriver.Chrome()\n",
    "ins.get(url)\n",
    "source = BeautifulSoup.BeautifulSoup(ins.page_source)\n",
    "div = source.find_all('div', {'class':'col-md-4 col-md-offset-1'})\n",
    "all_as = div[0].find_all('a')\n",
    "\n",
    "href = ''\n",
    "for i in range(len(all_as)):\n",
    "    if 'CSV' in all_as[i].text:\n",
    "        href = all_as[i]['href']\n",
    "        ins.get('http://www.stockpup.com/{}'.format(href))\n",
    "        data.to_csv(give the path where you want to save)\n",
    "        break\n",
    "        "
   ]
  },
  {
   "cell_type": "code",
   "execution_count": null,
   "metadata": {},
   "outputs": [],
   "source": []
  }
 ],
 "metadata": {
  "kernelspec": {
   "display_name": "Python 3",
   "language": "python",
   "name": "python3"
  },
  "language_info": {
   "codemirror_mode": {
    "name": "ipython",
    "version": 3
   },
   "file_extension": ".py",
   "mimetype": "text/x-python",
   "name": "python",
   "nbconvert_exporter": "python",
   "pygments_lexer": "ipython3",
   "version": "3.7.3"
  }
 },
 "nbformat": 4,
 "nbformat_minor": 2
}
