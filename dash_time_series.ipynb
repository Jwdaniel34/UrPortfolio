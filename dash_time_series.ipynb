{
 "cells": [
  {
   "cell_type": "code",
   "execution_count": 9,
   "metadata": {},
   "outputs": [],
   "source": [
    "import bs4 as bs\n",
    "import pickle\n",
    "import requests\n",
    "import datetime as dt\n",
    "import os\n",
    "import pandas as pd\n",
    "import numpy as np\n",
    "import pandas_datareader.data as web\n",
    "import matplotlib.pyplot as plt\n",
    "from math import sqrt\n",
    "from matplotlib import style\n",
    "%matplotlib inline\n",
    "style.use('ggplot')"
   ]
  },
  {
   "cell_type": "code",
   "execution_count": 3,
   "metadata": {},
   "outputs": [],
   "source": [
    "df = pd.read_csv('csv_files/companies.csv')\n",
    "df = df['symbol'].unique()\n",
    "tickers = df.tolist()"
   ]
  },
  {
   "cell_type": "code",
   "execution_count": 28,
   "metadata": {},
   "outputs": [],
   "source": [
    "def get_data_from_yahoo(reload_df500 = False):\n",
    "    if not os.path.exists('stock_dfs'):\n",
    "        os.makedirs('stock_dfs')\n",
    "\n",
    "    start = dt.datetime(2000,1,1).strftime('%Y-%m-%d')\n",
    "    end = dt.datetime.now().strftime('%Y-%m-%d')\n",
    "    \n",
    "    \n",
    "    for ticker in tqdm(tickers):\n",
    "        print(ticker)\n",
    "        try:\n",
    "            df = web.DataReader(ticker, 'yahoo', start, end)\n",
    "            df.to_csv('stock_dfs/{}.csv'.format(ticker))\n",
    "        except:\n",
    "            print(f'{ticker} not found')\n",
    "    \n",
    "    return df"
   ]
  },
  {
   "cell_type": "code",
   "execution_count": 21,
   "metadata": {},
   "outputs": [],
   "source": [
    "def compile_data():\n",
    "    Y = []\n",
    "    for count, ticker in enumerate(tickers):\n",
    "        try:\n",
    "            df = pd.read_csv('stock_dfs/{}.csv'.format(ticker))\n",
    "            df['stock'] = ticker\n",
    "            Y.append(df)\n",
    "            if count % 10 == 0: \n",
    "                print(count)\n",
    "                \n",
    "        except FileNotFoundError:\n",
    "            pass\n",
    "    \n",
    "    main_df = pd.concat(Y)    \n",
    "    print(main_df.head())\n",
    "    main_df.to_csv('dash_setup/dash_timeseries.csv')"
   ]
  }
 ],
 "metadata": {
  "kernelspec": {
   "display_name": "Python 3",
   "language": "python",
   "name": "python3"
  },
  "language_info": {
   "codemirror_mode": {
    "name": "ipython",
    "version": 3
   },
   "file_extension": ".py",
   "mimetype": "text/x-python",
   "name": "python",
   "nbconvert_exporter": "python",
   "pygments_lexer": "ipython3",
   "version": "3.7.3"
  }
 },
 "nbformat": 4,
 "nbformat_minor": 2
}
