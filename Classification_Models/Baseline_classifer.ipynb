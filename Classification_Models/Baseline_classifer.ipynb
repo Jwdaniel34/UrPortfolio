{
 "cells": [
  {
   "cell_type": "code",
   "execution_count": 86,
   "metadata": {},
   "outputs": [],
   "source": [
    "import pandas as pd\n",
    "import numpy as np\n",
    "import matplotlib.pyplot as plt\n",
    "from sklearn.model_selection import train_test_split\n",
    "from sklearn.metrics import accuracy_score\n",
    "from sklearn.metrics import precision_score, recall_score, accuracy_score, f1_score, confusion_matrix\n",
    "from sklearn.model_selection import train_test_split, GridSearchCV, cross_val_score\n",
    "from sklearn.metrics import classification_report\n",
    "from sklearn.dummy import DummyClassifier\n",
    "import pickle\n",
    "import seaborn as sns; sns.set(style ='white', color_codes = True)"
   ]
  },
  {
   "cell_type": "code",
   "execution_count": 98,
   "metadata": {},
   "outputs": [],
   "source": [
    "feature = pd.read_csv('classification_feat.csv')\n",
    "predictor = pd.read_csv('classification_pred.csv', header = 0)\n",
    "feature['Quarter end'] = pd.to_datetime(feature['Quarter end'])\n",
    "feature.set_index(\"Quarter end\", inplace=True)\n",
    "predictor = predictor.drop(columns = 'Unnamed: 0')"
   ]
  },
  {
   "cell_type": "code",
   "execution_count": 99,
   "metadata": {},
   "outputs": [],
   "source": [
    "y = predictor\n",
    "\n",
    "X  = feature"
   ]
  },
  {
   "cell_type": "code",
   "execution_count": 100,
   "metadata": {},
   "outputs": [],
   "source": [
    "#train_test_littttttt\n",
    "X_train, X_test, y_train, y_test = train_test_split(X, y, test_size=0.33, random_state=42)"
   ]
  },
  {
   "cell_type": "code",
   "execution_count": 101,
   "metadata": {
    "scrolled": true
   },
   "outputs": [
    {
     "name": "stdout",
     "output_type": "stream",
     "text": [
      "Accuracy Score Found: \n",
      "51.36326286696048\n",
      "\n",
      "Recall Score Found: \n",
      "41.44916955648841\n"
     ]
    }
   ],
   "source": [
    "dummy = DummyClassifier()\n",
    "dummy = dummy.fit(X_train, y_train)\n",
    "\n",
    "test_preds = dummy.predict(X_test)\n",
    "\n",
    "print(\"Accuracy Score Found: \")\n",
    "print(accuracy_score(y_test, test_preds) *100)\n",
    "print(\"\\nRecall Score Found: \")\n",
    "print(recall_score(y_test, test_preds)* 100)\n",
    "\n",
    "\n",
    "# Accuracy Score Found: \n",
    "# 51.36326286696048\n",
    "\n",
    "# Recall Score Found: \n",
    "# 41.4491695564884"
   ]
  },
  {
   "cell_type": "code",
   "execution_count": 120,
   "metadata": {},
   "outputs": [],
   "source": [
    "labels = ['Value', 'Growth']\n",
    "def plot_confusion_matrix(y_true, y_pred, classes,\n",
    "                          normalize=False,\n",
    "                          title=None,\n",
    "                          cmap=plt.cm.Greys):\n",
    "    \n",
    "    # Compute confusion matrix\n",
    "#     cmat = pd.crosstab(y_test, test_preds, rownames=['True'], colnames=['Predicted'], margins=True)\n",
    "#     print(cmat)\n",
    "    cm = confusion_matrix(y_true, y_pred)\n",
    "    fig, ax = plt.subplots()\n",
    "    im = ax.imshow(cm, interpolation='nearest', cmap=cmap)\n",
    "    ax.figure.colorbar(im, ax=ax)\n",
    "    # We want to show all ticks...\n",
    "    ax.set(xticks=np.arange(cm.shape[1]),\n",
    "           yticks=np.arange(cm.shape[0]),\n",
    "           # ... and label them with the respective list entries\n",
    "           xticklabels=classes, yticklabels=classes,\n",
    "           title=title,\n",
    "           ylabel='True label',\n",
    "           xlabel='Predicted label')\n",
    "\n",
    "    # Rotate the tick labels and set their alignment.\n",
    "    plt.setp(ax.get_xticklabels(), rotation=45, ha=\"right\",\n",
    "             rotation_mode=\"anchor\")\n",
    "\n",
    "    # Loop over data dimensions and create text annotations.\n",
    "    fmt = '.2f' if normalize else 'd'\n",
    "    thresh = cm.max() / 2.\n",
    "    for i in range(cm.shape[0]):\n",
    "        for j in range(cm.shape[1]):\n",
    "            ax.text(j, i, format(cm[i, j], fmt),\n",
    "                    ha=\"center\", va=\"center\",\n",
    "                    color=\"white\" if cm[i, j] > thresh else \"black\")\n",
    "    fig.tight_layout()\n",
    "    return ax"
   ]
  },
  {
   "cell_type": "code",
   "execution_count": 103,
   "metadata": {},
   "outputs": [
    {
     "name": "stdout",
     "output_type": "stream",
     "text": [
      "Mean Cross Validation Score: 51.34%\n"
     ]
    }
   ],
   "source": [
    "dummy_cv_score = cross_val_score(dummy, X_train, y_train, cv=3)\n",
    "mean_dummy_cv_score = np.mean(dummy_cv_score)\n",
    "\n",
    "print(\"Mean Cross Validation Score: {:.4}%\".format(mean_dummy_cv_score * 100))\n",
    "\n",
    "# Mean Cross Validation Score: 51.34%"
   ]
  },
  {
   "cell_type": "code",
   "execution_count": 104,
   "metadata": {},
   "outputs": [
    {
     "name": "stdout",
     "output_type": "stream",
     "text": [
      "Accuracy Score: 0.5136326286696048\n",
      "Precision Score: 0.4074273412271259\n",
      "Recall Score: 0.4144916955648841\n",
      "F1 Score: 0.410929159504207\n",
      "\n",
      "              precision    recall  f1-score   support\n",
      "\n",
      "           0       0.59      0.58      0.59      7908\n",
      "           1       0.41      0.41      0.41      5479\n",
      "\n",
      "    accuracy                           0.51     13387\n",
      "   macro avg       0.50      0.50      0.50     13387\n",
      "weighted avg       0.51      0.51      0.51     13387\n",
      "\n"
     ]
    }
   ],
   "source": [
    "def print_metrics(labels, preds):\n",
    "    print(\"Accuracy Score: {}\".format(accuracy_score(labels, preds)))\n",
    "    print(\"Precision Score: {}\".format(precision_score(labels, preds)))\n",
    "    print(\"Recall Score: {}\".format(recall_score(labels, preds)))\n",
    "    print(\"F1 Score: {}\".format(f1_score(labels, preds)))\n",
    "    \n",
    "print_metrics(y_test, test_preds)\n",
    "print(f'\\n{classification_report(y_test, test_preds)}')\n",
    "\n",
    "# Accuracy Score: 0.5136326286696048\n",
    "# Precision Score: 0.4074273412271259\n",
    "# Recall Score: 0.4144916955648841\n",
    "# F1 Score: 0.410929159504207\n",
    "\n",
    "#               precision    recall  f1-score   support\n",
    "\n",
    "#            0       0.59      0.58      0.59      7908\n",
    "#            1       0.41      0.41      0.41      5479\n",
    "\n",
    "#     accuracy                           0.51     13387\n",
    "#    macro avg       0.50      0.50      0.50     13387\n",
    "# weighted avg       0.51      0.51      0.51     13387"
   ]
  },
  {
   "cell_type": "code",
   "execution_count": 113,
   "metadata": {},
   "outputs": [
    {
     "data": {
      "text/plain": [
       "array([[4605, 3303],\n",
       "       [3208, 2271]])"
      ]
     },
     "execution_count": 113,
     "metadata": {},
     "output_type": "execute_result"
    }
   ],
   "source": [
    "confusion_matrix(y_test,test_preds)"
   ]
  },
  {
   "cell_type": "code",
   "execution_count": 123,
   "metadata": {
    "code_folding": []
   },
   "outputs": [
    {
     "data": {
      "image/png": "[encoded data removed]",
      "text/plain": [
       "<Figure size 432x288 with 2 Axes>"
      ]
     },
     "metadata": {},
     "output_type": "display_data"
    },
    {
     "name": "stdout",
     "output_type": "stream",
     "text": [
      "              precision    recall  f1-score   support\n",
      "\n",
      "           0       0.59      0.58      0.59      7908\n",
      "           1       0.41      0.41      0.41      5479\n",
      "\n",
      "    accuracy                           0.51     13387\n",
      "   macro avg       0.50      0.50      0.50     13387\n",
      "weighted avg       0.51      0.51      0.51     13387\n",
      "\n"
     ]
    }
   ],
   "source": [
    "np.set_printoptions(precision=1)\n",
    "\n",
    "# Plot non-normalized confusion matrix\n",
    "plot_confusion_matrix(y_test, test_preds,classes = labels,title='Dummy Classifcation Confusion matrix')\n",
    "\n",
    "plt.show()\n",
    "\n",
    "print(classification_report(y_test, test_preds))"
   ]
  }
 ],
 "metadata": {
  "kernelspec": {
   "display_name": "Python 3",
   "language": "python",
   "name": "python3"
  },
  "language_info": {
   "codemirror_mode": {
    "name": "ipython",
    "version": 3
   },
   "file_extension": ".py",
   "mimetype": "text/x-python",
   "name": "python",
   "nbconvert_exporter": "python",
   "pygments_lexer": "ipython3",
   "version": "3.7.3"
  }
 },
 "nbformat": 4,
 "nbformat_minor": 2
}
