{
 "cells": [
  {
   "cell_type": "code",
   "execution_count": 6,
   "metadata": {},
   "outputs": [
    {
     "name": "stderr",
     "output_type": "stream",
     "text": [
      "Using TensorFlow backend.\n"
     ]
    }
   ],
   "source": [
    "import pandas as pd\n",
    "# import pyreadstat as prs #in order to read SPSS files\n",
    "import matplotlib.pyplot as plt\n",
    "import numpy as np\n",
    "import warnings\n",
    "warnings.filterwarnings('ignore')\n",
    "import seaborn as sns\n",
    "from sklearn import metrics\n",
    "from sklearn.preprocessing import StandardScaler\n",
    "from sklearn.linear_model import LogisticRegression\n",
    "from sklearn.feature_selection import SelectKBest, f_regression,mutual_info_regression\n",
    "from sklearn.metrics import precision_score, recall_score, accuracy_score, f1_score,roc_curve, roc_auc_score,r2_score, mean_squared_error  \n",
    "from sklearn.neighbors import KNeighborsClassifier\n",
    "from sklearn.tree import DecisionTreeClassifier, DecisionTreeRegressor\n",
    "from sklearn.ensemble import RandomForestClassifier, AdaBoostClassifier\n",
    "from sklearn.model_selection import train_test_split, GridSearchCV, cross_val_score\n",
    "from sklearn.dummy import DummyClassifier\n",
    "from xgboost import XGBClassifier\n",
    "import xgboost as xgb\n",
    "from sklearn.metrics import confusion_matrix,classification_report\n",
    "from imblearn.over_sampling import SMOTE\n",
    "from mpl_toolkits import mplot3d\n",
    "from mpl_toolkits.mplot3d import Axes3D\n",
    "import os\n",
    "os.environ['KMP_DUPLICATE_LIB_OK']='True'\n",
    "from xgboost import XGBClassifier\n",
    "from sklearn.decomposition import PCA"
   ]
  },
  {
   "cell_type": "code",
   "execution_count": 7,
   "metadata": {},
   "outputs": [],
   "source": [
    "from sklearn.svm import SVC\n",
    "from sklearn.preprocessing import StandardScaler\n",
    "from sklearn.datasets import load_iris\n",
    "from sklearn.model_selection import StratifiedShuffleSplit\n",
    "from sklearn.model_selection import GridSearchCV"
   ]
  },
  {
   "cell_type": "code",
   "execution_count": 32,
   "metadata": {},
   "outputs": [],
   "source": [
    "feature = pd.read_csv('classification_feat.csv')\n",
    "predictor = pd.read_csv('classification_pred.csv', header = 0)\n",
    "feature['Quarter end'] = pd.to_datetime(feature['Quarter end'])\n",
    "feature.set_index(\"Quarter end\", inplace=True)\n",
    "predictor = predictor.drop(columns = 'Unnamed: 0')"
   ]
  },
  {
   "cell_type": "code",
   "execution_count": 23,
   "metadata": {},
   "outputs": [],
   "source": [
    "features = feature.drop(columns= 'symbol', axis =1)"
   ]
  },
  {
   "cell_type": "markdown",
   "metadata": {},
   "source": [
    "### Confusion Matrix Function Plot"
   ]
  },
  {
   "cell_type": "code",
   "execution_count": 33,
   "metadata": {},
   "outputs": [],
   "source": [
    "labels = ['Growth', 'Value']\n",
    "def plot_confusion_matrix(y_true, y_pred, classes,\n",
    "                          normalize=False,\n",
    "                          title=None,\n",
    "                          cmap=plt.cm.Reds):\n",
    "    \n",
    "    # Compute confusion matrix\n",
    "    cmat = pd.crosstab(y_test, test_preds, rownames=['True'], colnames=['Predicted'], margins=True)\n",
    "    print(cmat)\n",
    "    cm = confusion_matrix(y_true, y_pred)\n",
    "    fig, ax = plt.subplots()\n",
    "    im = ax.imshow(cm, interpolation='nearest', cmap=cmap)\n",
    "    ax.figure.colorbar(im, ax=ax)\n",
    "    # We want to show all ticks...\n",
    "    ax.set(xticks=np.arange(cm.shape[1]),\n",
    "           yticks=np.arange(cm.shape[0]),\n",
    "           # ... and label them with the respective list entries\n",
    "           xticklabels=classes, yticklabels=classes,\n",
    "           title=title,\n",
    "           ylabel='True label',\n",
    "           xlabel='Predicted label')\n",
    "\n",
    "    # Rotate the tick labels and set their alignment.\n",
    "    plt.setp(ax.get_xticklabels(), rotation=45, ha=\"right\",\n",
    "             rotation_mode=\"anchor\")\n",
    "\n",
    "    # Loop over data dimensions and create text annotations.\n",
    "    fmt = '.2f' if normalize else 'd'\n",
    "    thresh = cm.max() / 2.\n",
    "    for i in range(cm.shape[0]):\n",
    "        for j in range(cm.shape[1]):\n",
    "            ax.text(j, i, format(cm[i, j], fmt),\n",
    "                    ha=\"center\", va=\"center\",\n",
    "                    color=\"white\" if cm[i, j] > thresh else \"black\")\n",
    "    fig.tight_layout()\n",
    "    return ax\n"
   ]
  },
  {
   "cell_type": "code",
   "execution_count": 48,
   "metadata": {},
   "outputs": [],
   "source": [
    "def performance_model(model, name, plot=False):\n",
    "    print(name)\n",
    "    print('-'*20)\n",
    "    \n",
    "    print('** TRAINING PERFORMANCE **')\n",
    "    print('-> Accuracy Score:', accuracy_score(y_train, model.predict(X_train_scaled)) )\n",
    "    print('-> Precision Score: {}'.format(precision_score(y_train, model.predict(X_train_scaled))))\n",
    "    print('-> Recall Score: {}'.format(recall_score(y_train, model.predict(X_train_scaled))))\n",
    "    print('-> F1 Score: {}'.format(f1_score(y_train, model.predict(X_train_scaled))))\n",
    "    print('-> AUC:', roc_auc_score(y_train, model.predict_proba(X_train_scaled)[:, 1] ))\n",
    "    \n",
    "    print('\\n** TESTING PERFORMANCE')\n",
    "    print('-> Accuracy Score:', accuracy_score(y_test, model.predict(X_test_scaled)) )\n",
    "    print('-> Precision Score: {}'.format(precision_score(y_test, model.predict(X_test_scaled))))\n",
    "    print('-> Recall Score: {}'.format(recall_score(y_test, model.predict(X_test_scaled))))\n",
    "    print('-> F1 Score: {}'.format(f1_score(y_test, model.predict(X_test_scaled))))\n",
    "    print('-> AUC:', roc_auc_score(y_test, model.predict_proba(X_test_scaled)[:, 1] ))\n",
    "    print()\n",
    "    \n",
    "    if plot:\n",
    "        fpr, tpr, thres = roc_curve(y_test, model.predict_proba(X_test_scaled)[:, 1],pos_label=1)\n",
    "        plt.figure(figsize=(4, 4))\n",
    "        plt.plot(fpr, tpr, label='Test')\n",
    "        plt.xlabel('FPR')\n",
    "        plt.ylabel('TPR')\n",
    "        plt.show()"
   ]
  },
  {
   "cell_type": "markdown",
   "metadata": {},
   "source": [
    "### PCA - Dimension Reduction"
   ]
  },
  {
   "cell_type": "code",
   "execution_count": 34,
   "metadata": {},
   "outputs": [],
   "source": [
    "#scale data\n",
    "sc=StandardScaler()\n",
    "X_scaled= pd.DataFrame(sc.fit_transform(features),columns=features.columns)"
   ]
  },
  {
   "cell_type": "code",
   "execution_count": 35,
   "metadata": {},
   "outputs": [
    {
     "data": {
      "image/png": "[encoded data removed]",
      "text/plain": [
       "<Figure size 1080x576 with 1 Axes>"
      ]
     },
     "metadata": {
      "needs_background": "light"
     },
     "output_type": "display_data"
    }
   ],
   "source": [
    "#Fitting the PCA algorithm with the scaled Data\n",
    "pca = PCA().fit(X_scaled)\n",
    "#Plotting the Cumulative Summation of the Explained Variance\n",
    "plt.figure(figsize=(15,8))\n",
    "plt.plot(np.cumsum(pca.explained_variance_ratio_),color='r')\n",
    "plt.xlabel('Number of Components')\n",
    "plt.ylabel('Variance (%)') #for each component\n",
    "plt.title('Dataset Explained Variance by PCA')\n",
    "plt.show()"
   ]
  },
  {
   "cell_type": "code",
   "execution_count": 36,
   "metadata": {},
   "outputs": [],
   "source": [
    "#run PCA for the selected components\n",
    "pca = PCA(n_components=35)\n",
    "X_pca = pca.fit_transform(X_scaled)"
   ]
  },
  {
   "cell_type": "code",
   "execution_count": 37,
   "metadata": {},
   "outputs": [
    {
     "name": "stdout",
     "output_type": "stream",
     "text": [
      "Variance of each component: [0.14104108 0.08154192 0.06922865 0.04826617 0.03815571 0.03336232\n",
      " 0.03293071 0.03113755 0.02867356 0.02560166 0.02296968 0.02207624\n",
      " 0.02107166 0.02090692 0.02049033 0.01983183 0.01962027 0.01873016\n",
      " 0.01846615 0.01823883 0.01822432 0.0176998  0.01758318 0.01751745\n",
      " 0.01600064 0.01588898 0.01472951 0.01390288 0.01361428 0.01304079\n",
      " 0.01257132 0.01169136 0.01081679 0.00985031 0.00861813]\n",
      "\n",
      " Total Variance Explained: 94.41\n"
     ]
    }
   ],
   "source": [
    "# Calculate the variance explained by priciple components\n",
    "print('Variance of each component:', pca.explained_variance_ratio_)\n",
    "print('\\n Total Variance Explained:', round(sum(list(pca.explained_variance_ratio_))*100, 2))"
   ]
  },
  {
   "cell_type": "code",
   "execution_count": 38,
   "metadata": {},
   "outputs": [],
   "source": [
    "#Create the header for the df where I will save the PCA\n",
    "header = []\n",
    "for i in range(35):\n",
    "    header.append(\"PC\"+str(i+1))"
   ]
  },
  {
   "cell_type": "code",
   "execution_count": 39,
   "metadata": {},
   "outputs": [
    {
     "name": "stdout",
     "output_type": "stream",
     "text": [
      "(40566, 35)\n"
     ]
    },
    {
     "data": {
      "text/html": [
       "<div>\n",
       "<style scoped>\n",
       "    .dataframe tbody tr th:only-of-type {\n",
       "        vertical-align: middle;\n",
       "    }\n",
       "\n",
       "    .dataframe tbody tr th {\n",
       "        vertical-align: top;\n",
       "    }\n",
       "\n",
       "    .dataframe thead th {\n",
       "        text-align: right;\n",
       "    }\n",
       "</style>\n",
       "<table border=\"1\" class=\"dataframe\">\n",
       "  <thead>\n",
       "    <tr style=\"text-align: right;\">\n",
       "      <th></th>\n",
       "      <th>PC1</th>\n",
       "      <th>PC2</th>\n",
       "      <th>PC3</th>\n",
       "      <th>PC4</th>\n",
       "      <th>PC5</th>\n",
       "      <th>PC6</th>\n",
       "      <th>PC7</th>\n",
       "      <th>PC8</th>\n",
       "      <th>PC9</th>\n",
       "      <th>PC10</th>\n",
       "      <th>...</th>\n",
       "      <th>PC26</th>\n",
       "      <th>PC27</th>\n",
       "      <th>PC28</th>\n",
       "      <th>PC29</th>\n",
       "      <th>PC30</th>\n",
       "      <th>PC31</th>\n",
       "      <th>PC32</th>\n",
       "      <th>PC33</th>\n",
       "      <th>PC34</th>\n",
       "      <th>PC35</th>\n",
       "    </tr>\n",
       "  </thead>\n",
       "  <tbody>\n",
       "    <tr>\n",
       "      <th>0</th>\n",
       "      <td>-0.440669</td>\n",
       "      <td>-1.350633</td>\n",
       "      <td>0.485121</td>\n",
       "      <td>0.345464</td>\n",
       "      <td>0.423617</td>\n",
       "      <td>0.088870</td>\n",
       "      <td>0.234014</td>\n",
       "      <td>-1.123574</td>\n",
       "      <td>0.399223</td>\n",
       "      <td>-1.094987</td>\n",
       "      <td>...</td>\n",
       "      <td>1.023427</td>\n",
       "      <td>0.074866</td>\n",
       "      <td>0.090095</td>\n",
       "      <td>-0.616176</td>\n",
       "      <td>-1.081478</td>\n",
       "      <td>0.370358</td>\n",
       "      <td>0.280076</td>\n",
       "      <td>-0.391550</td>\n",
       "      <td>0.008837</td>\n",
       "      <td>-0.054112</td>\n",
       "    </tr>\n",
       "    <tr>\n",
       "      <th>1</th>\n",
       "      <td>-0.223331</td>\n",
       "      <td>-1.697407</td>\n",
       "      <td>0.454358</td>\n",
       "      <td>0.547781</td>\n",
       "      <td>-0.101645</td>\n",
       "      <td>0.282980</td>\n",
       "      <td>-0.291215</td>\n",
       "      <td>-0.928791</td>\n",
       "      <td>0.302921</td>\n",
       "      <td>-1.148912</td>\n",
       "      <td>...</td>\n",
       "      <td>1.032025</td>\n",
       "      <td>0.033948</td>\n",
       "      <td>0.011895</td>\n",
       "      <td>-0.627031</td>\n",
       "      <td>-1.090784</td>\n",
       "      <td>0.424182</td>\n",
       "      <td>0.313958</td>\n",
       "      <td>-0.398801</td>\n",
       "      <td>0.040541</td>\n",
       "      <td>-0.020385</td>\n",
       "    </tr>\n",
       "    <tr>\n",
       "      <th>2</th>\n",
       "      <td>-0.540656</td>\n",
       "      <td>0.824537</td>\n",
       "      <td>0.772569</td>\n",
       "      <td>-0.889263</td>\n",
       "      <td>-0.641348</td>\n",
       "      <td>0.483775</td>\n",
       "      <td>0.054515</td>\n",
       "      <td>-0.781127</td>\n",
       "      <td>0.512579</td>\n",
       "      <td>-0.870555</td>\n",
       "      <td>...</td>\n",
       "      <td>0.079945</td>\n",
       "      <td>-0.938488</td>\n",
       "      <td>-0.804542</td>\n",
       "      <td>-1.047705</td>\n",
       "      <td>-0.955114</td>\n",
       "      <td>-0.556377</td>\n",
       "      <td>-1.045703</td>\n",
       "      <td>-0.116815</td>\n",
       "      <td>0.661205</td>\n",
       "      <td>0.009193</td>\n",
       "    </tr>\n",
       "    <tr>\n",
       "      <th>3</th>\n",
       "      <td>-0.540135</td>\n",
       "      <td>0.793835</td>\n",
       "      <td>0.768972</td>\n",
       "      <td>-0.861197</td>\n",
       "      <td>-0.697229</td>\n",
       "      <td>0.445380</td>\n",
       "      <td>-0.046594</td>\n",
       "      <td>-0.783238</td>\n",
       "      <td>0.513964</td>\n",
       "      <td>-0.900708</td>\n",
       "      <td>...</td>\n",
       "      <td>0.002638</td>\n",
       "      <td>-0.952303</td>\n",
       "      <td>-0.787882</td>\n",
       "      <td>-1.065497</td>\n",
       "      <td>-0.930709</td>\n",
       "      <td>-0.568907</td>\n",
       "      <td>-1.034727</td>\n",
       "      <td>-0.183029</td>\n",
       "      <td>0.661760</td>\n",
       "      <td>0.024011</td>\n",
       "    </tr>\n",
       "    <tr>\n",
       "      <th>4</th>\n",
       "      <td>-0.503810</td>\n",
       "      <td>0.865738</td>\n",
       "      <td>0.820356</td>\n",
       "      <td>-0.952181</td>\n",
       "      <td>-0.636348</td>\n",
       "      <td>0.475096</td>\n",
       "      <td>-0.007369</td>\n",
       "      <td>-0.749099</td>\n",
       "      <td>0.473376</td>\n",
       "      <td>-0.871334</td>\n",
       "      <td>...</td>\n",
       "      <td>0.088853</td>\n",
       "      <td>-0.950274</td>\n",
       "      <td>-0.801928</td>\n",
       "      <td>-1.024479</td>\n",
       "      <td>-0.937924</td>\n",
       "      <td>-0.581227</td>\n",
       "      <td>-1.068804</td>\n",
       "      <td>-0.116420</td>\n",
       "      <td>0.615041</td>\n",
       "      <td>0.012177</td>\n",
       "    </tr>\n",
       "  </tbody>\n",
       "</table>\n",
       "<p>5 rows × 35 columns</p>\n",
       "</div>"
      ],
      "text/plain": [
       "        PC1       PC2       PC3       PC4       PC5       PC6       PC7  \\\n",
       "0 -0.440669 -1.350633  0.485121  0.345464  0.423617  0.088870  0.234014   \n",
       "1 -0.223331 -1.697407  0.454358  0.547781 -0.101645  0.282980 -0.291215   \n",
       "2 -0.540656  0.824537  0.772569 -0.889263 -0.641348  0.483775  0.054515   \n",
       "3 -0.540135  0.793835  0.768972 -0.861197 -0.697229  0.445380 -0.046594   \n",
       "4 -0.503810  0.865738  0.820356 -0.952181 -0.636348  0.475096 -0.007369   \n",
       "\n",
       "        PC8       PC9      PC10  ...      PC26      PC27      PC28      PC29  \\\n",
       "0 -1.123574  0.399223 -1.094987  ...  1.023427  0.074866  0.090095 -0.616176   \n",
       "1 -0.928791  0.302921 -1.148912  ...  1.032025  0.033948  0.011895 -0.627031   \n",
       "2 -0.781127  0.512579 -0.870555  ...  0.079945 -0.938488 -0.804542 -1.047705   \n",
       "3 -0.783238  0.513964 -0.900708  ...  0.002638 -0.952303 -0.787882 -1.065497   \n",
       "4 -0.749099  0.473376 -0.871334  ...  0.088853 -0.950274 -0.801928 -1.024479   \n",
       "\n",
       "       PC30      PC31      PC32      PC33      PC34      PC35  \n",
       "0 -1.081478  0.370358  0.280076 -0.391550  0.008837 -0.054112  \n",
       "1 -1.090784  0.424182  0.313958 -0.398801  0.040541 -0.020385  \n",
       "2 -0.955114 -0.556377 -1.045703 -0.116815  0.661205  0.009193  \n",
       "3 -0.930709 -0.568907 -1.034727 -0.183029  0.661760  0.024011  \n",
       "4 -0.937924 -0.581227 -1.068804 -0.116420  0.615041  0.012177  \n",
       "\n",
       "[5 rows x 35 columns]"
      ]
     },
     "execution_count": 39,
     "metadata": {},
     "output_type": "execute_result"
    }
   ],
   "source": [
    "# Create a new dataset from principal components only\n",
    "df_X_pca = pd.DataFrame(data = X_pca\n",
    "             , columns = header)\n",
    "\n",
    "print(df_X_pca.shape)\n",
    "df_X_pca.head(5)"
   ]
  },
  {
   "cell_type": "code",
   "execution_count": 44,
   "metadata": {},
   "outputs": [],
   "source": [
    "#train test split\n",
    "X_train, X_test, y_train, y_test = train_test_split(df_X_pca, predictor, test_size=0.2,random_state=45)"
   ]
  },
  {
   "cell_type": "code",
   "execution_count": 45,
   "metadata": {},
   "outputs": [],
   "source": [
    "#Change the name to run codes for models easier\n",
    "X_train_scaled= X_train\n",
    "X_test_scaled = X_test"
   ]
  },
  {
   "cell_type": "markdown",
   "metadata": {
    "heading_collapsed": true
   },
   "source": [
    "### Model Testing"
   ]
  },
  {
   "cell_type": "code",
   "execution_count": 46,
   "metadata": {
    "hidden": true
   },
   "outputs": [],
   "source": [
    "svm_SVC = SVC(C=100.0, kernel='rbf', degree=3, gamma='auto', coef0=0.0, shrinking=True, \n",
    "          probability=True, tol=0.001, cache_size=200, class_weight=None, \n",
    "          verbose=0, max_iter=-1, decision_function_shape=\"ovr\", random_state = 0)"
   ]
  },
  {
   "cell_type": "code",
   "execution_count": 47,
   "metadata": {
    "hidden": true,
    "scrolled": true
   },
   "outputs": [
    {
     "data": {
      "text/plain": [
       "SVC(C=100.0, cache_size=200, class_weight=None, coef0=0.0,\n",
       "    decision_function_shape='ovr', degree=3, gamma='auto', kernel='rbf',\n",
       "    max_iter=-1, probability=True, random_state=0, shrinking=True, tol=0.001,\n",
       "    verbose=0)"
      ]
     },
     "execution_count": 47,
     "metadata": {},
     "output_type": "execute_result"
    }
   ],
   "source": [
    "svm_SVC.fit(X_train_scaled,y_train)"
   ]
  },
  {
   "cell_type": "code",
   "execution_count": 52,
   "metadata": {
    "hidden": true
   },
   "outputs": [
    {
     "name": "stdout",
     "output_type": "stream",
     "text": [
      "Accuracy of SVC on training set: 94.75\n",
      "Accuracy of SVC on test set: 90.33\n"
     ]
    }
   ],
   "source": [
    "print('Accuracy of SVC on training set: {:.2f}'.format(svm_SVC.score(X_train, y_train) * 100))\n",
    "print('Accuracy of SVC on test set: {:.2f}'.format(svm_SVC.score(X_test, y_test) * 100))"
   ]
  },
  {
   "cell_type": "code",
   "execution_count": 49,
   "metadata": {
    "hidden": true
   },
   "outputs": [
    {
     "name": "stdout",
     "output_type": "stream",
     "text": [
      "SVM default\n",
      "--------------------\n",
      "** TRAINING PERFORMANCE **\n",
      "-> Accuracy Score: 0.9474916800197214\n",
      "-> Precision Score: 0.9515280069133475\n",
      "-> Recall Score: 0.9176452761572846\n",
      "-> F1 Score: 0.9342795433508176\n",
      "-> AUC: 0.985155840354649\n",
      "\n",
      "** TESTING PERFORMANCE\n",
      "-> Accuracy Score: 0.9032536356913976\n",
      "-> Precision Score: 0.8989394884591391\n",
      "-> Recall Score: 0.8620999102602452\n",
      "-> F1 Score: 0.8801343716597952\n",
      "-> AUC: 0.9603991434690581\n",
      "\n"
     ]
    },
    {
     "data": {
      "image/png": "[encoded data removed]",
      "text/plain": [
       "<Figure size 288x288 with 1 Axes>"
      ]
     },
     "metadata": {
      "needs_background": "light"
     },
     "output_type": "display_data"
    }
   ],
   "source": [
    "performance_model(svm_SVC,\"SVM default\",plot=True)"
   ]
  },
  {
   "cell_type": "markdown",
   "metadata": {
    "heading_collapsed": true
   },
   "source": [
    "## SVM Grid Search"
   ]
  },
  {
   "cell_type": "code",
   "execution_count": null,
   "metadata": {
    "hidden": true
   },
   "outputs": [],
   "source": [
    "svm_param_grid = {'svc__C': [1, 5, 10, 50],\n",
    "              'svc__gamma': [0.0001, 0.0005, 0.001, 0.005]}\n",
    "\n",
    "svm_grid_search = GridSearchCV(model_pca, svm_param_grid)\n",
    "\n",
    "%time svm_grid_search.fit(Xtrain, ytrain)\n",
    "print(svm_grid_search.best_params_)\n",
    "\n",
    "test_pred_scaled = model_pca.predict(X_test)"
   ]
  },
  {
   "cell_type": "code",
   "execution_count": 61,
   "metadata": {
    "hidden": true
   },
   "outputs": [
    {
     "name": "stdout",
     "output_type": "stream",
     "text": [
      "Precision Score: 0.7372013651877133\n",
      "Recall Score: 0.6297376093294461\n",
      "Accuracy Score: 0.7941473259334006\n",
      "F1 Score: 0.6792452830188679\n",
      "\n",
      "              precision    recall  f1-score   support\n",
      "\n",
      "           0       0.82      0.88      0.85       648\n",
      "           1       0.74      0.63      0.68       343\n",
      "\n",
      "    accuracy                           0.79       991\n",
      "   macro avg       0.78      0.76      0.76       991\n",
      "weighted avg       0.79      0.79      0.79       991\n",
      "\n"
     ]
    }
   ],
   "source": [
    "def print_metrics(labels, preds):\n",
    "    print(\"Precision Score: {}\".format(precision_score(labels, preds)))\n",
    "    print(\"Recall Score: {}\".format(recall_score(labels, preds)))\n",
    "    print(\"Accuracy Score: {}\".format(accuracy_score(labels, preds)))\n",
    "    print(\"F1 Score: {}\".format(f1_score(labels, preds)))\n",
    "    \n",
    "print_metrics(y_test, test_pred_scaled)\n",
    "# print(confusion_matrix(y_test, test_pred_scaled, labels=None, sample_weight=None))\n",
    "print(f'\\n{classification_report(y_test, test_pred_scaled)}')"
   ]
  },
  {
   "cell_type": "code",
   "execution_count": 70,
   "metadata": {
    "hidden": true
   },
   "outputs": [
    {
     "name": "stdout",
     "output_type": "stream",
     "text": [
      "Predicted    0    1  All\n",
      "True                    \n",
      "0          549   99  648\n",
      "1          119  224  343\n",
      "All        668  323  991\n"
     ]
    },
    {
     "data": {
      "image/png": "[encoded data removed]",
      "text/plain": [
       "<Figure size 432x288 with 2 Axes>"
      ]
     },
     "metadata": {},
     "output_type": "display_data"
    }
   ],
   "source": [
    "np.set_printoptions(precision=1)\n",
    "\n",
    "# Plot non-normalized confusion matrix\n",
    "plot_confusion_matrix(y_test, test_pred_scaled, classes=labels,\n",
    "                      title='SVM Grid Search Confusion matrix')\n",
    "\n",
    "plt.show()"
   ]
  }
 ],
 "metadata": {
  "kernelspec": {
   "display_name": "Python 3",
   "language": "python",
   "name": "python3"
  },
  "language_info": {
   "codemirror_mode": {
    "name": "ipython",
    "version": 3
   },
   "file_extension": ".py",
   "mimetype": "text/x-python",
   "name": "python",
   "nbconvert_exporter": "python",
   "pygments_lexer": "ipython3",
   "version": "3.7.3"
  }
 },
 "nbformat": 4,
 "nbformat_minor": 2
}
