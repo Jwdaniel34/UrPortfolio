{
 "cells": [
  {
   "cell_type": "code",
   "execution_count": 99,
   "metadata": {},
   "outputs": [],
   "source": [
    "import pandas as pd\n",
    "import numpy as np\n",
    "import matplotlib.pyplot as plt\n",
    "from sklearn.model_selection import train_test_split\n",
    "from sklearn.metrics import accuracy_score\n",
    "from sklearn.metrics import precision_score, recall_score, accuracy_score, f1_score, confusion_matrix\n",
    "from sklearn.model_selection import train_test_split, GridSearchCV, cross_val_score\n",
    "from sklearn.metrics import precision_score, recall_score, accuracy_score, f1_score,roc_curve, roc_auc_score,r2_score, mean_squared_error\n",
    "from sklearn.metrics import classification_report\n",
    "from sklearn.preprocessing import StandardScaler\n",
    "from sklearn.tree import DecisionTreeClassifier\n",
    "from sklearn.externals.six import StringIO\n",
    "from sklearn.ensemble import AdaBoostClassifier\n",
    "from matplotlib.colors import ListedColormap\n",
    "from IPython.display import Image \n",
    "from sklearn.tree import export_graphviz\n",
    "from sklearn import tree\n",
    "import pydotplus\n",
    "from sklearn.metrics import mean_squared_error\n",
    "import pickle\n",
    "import seaborn as sns; sns.set(style ='white', color_codes = True)"
   ]
  },
  {
   "cell_type": "code",
   "execution_count": 44,
   "metadata": {},
   "outputs": [],
   "source": [
    "feature = pd.read_csv('classification_feat.csv')\n",
    "predictor = pd.read_csv('classification_pred.csv', header = 0)\n",
    "feature['Quarter end'] = pd.to_datetime(feature['Quarter end'])\n",
    "feature.set_index(\"Quarter end\", inplace=True)\n",
    "predictor = predictor.drop(columns = 'Unnamed: 0')"
   ]
  },
  {
   "cell_type": "markdown",
   "metadata": {},
   "source": [
    "## Feature Importance"
   ]
  },
  {
   "cell_type": "code",
   "execution_count": 16,
   "metadata": {},
   "outputs": [],
   "source": [
    "def plot_feature_importances(model):\n",
    "    n_features = X_train.shape[1]\n",
    "    plt.figure(figsize=(8,8))\n",
    "    plt.barh(range(n_features), model.feature_importances_, align='center') \n",
    "    plt.yticks(np.arange(n_features), X_train.columns.values) \n",
    "    plt.xlabel(\"Feature importance\")\n",
    "    plt.ylabel(\"Feature\")"
   ]
  },
  {
   "cell_type": "code",
   "execution_count": 17,
   "metadata": {},
   "outputs": [],
   "source": [
    "def plot_feature_importance(model, x_train, n=27):\n",
    "    # extract and sort the feature importance\n",
    "    features = model.feature_importances_\n",
    "    feature_names = x_train.columns.values\n",
    "    \n",
    "    # combine the features importance and column names into a matrix and sort them\n",
    "    feature_matrix = np.array([features, feature_names])\n",
    "    feature_matrix = feature_matrix.transpose()\n",
    "    feature_matrix.sort(0)\n",
    "    \n",
    "    # divide the column names and feature importance\n",
    "    sorted_feat = feature_matrix[:, 0]\n",
    "    sorted_columns = feature_matrix[:, 1]\n",
    "    \n",
    "     # plot the features\n",
    "    plt.figure(figsize=(16, 12))\n",
    "    try:\n",
    "        plt.barh(sorted_columns[-n:], sorted_feat[-n:], align='center', color = 'Purple')\n",
    "    \n",
    "    except:\n",
    "        # if n features is greater than the amount that actually exists\n",
    "        n = len(sorted_feat)\n",
    "        plt.barh(sorted_columns[-n:], sorted_feat[-n:], align='center')\n",
    "        \n",
    "    plt.yticks(sorted_columns[-n:], sorted_columns[-n:])\n",
    "    plt.xlabel(\"Feature Importance\")\n",
    "    plt.ylabel(\"Feature\")\n",
    "    return"
   ]
  },
  {
   "cell_type": "markdown",
   "metadata": {},
   "source": [
    "### Confusion Matrix Function Plot"
   ]
  },
  {
   "cell_type": "code",
   "execution_count": 45,
   "metadata": {},
   "outputs": [],
   "source": [
    "labels = ['Growth', 'Value']\n",
    "def plot_confusion_matrix(y_true, y_pred, classes,\n",
    "                          normalize=False,\n",
    "                          title=None,\n",
    "                          cmap=plt.cm.Purples):\n",
    "    \n",
    "    # Compute confusion matrix\n",
    "#     cmat = pd.crosstab(y_test, test_preds, rownames=['True'], colnames=['Predicted'], margins=True)\n",
    "#     print(cmat)\n",
    "    cm = confusion_matrix(y_true, y_pred)\n",
    "    fig, ax = plt.subplots()\n",
    "    im = ax.imshow(cm, interpolation='nearest', cmap=cmap)\n",
    "    ax.figure.colorbar(im, ax=ax)\n",
    "    # We want to show all ticks...\n",
    "    ax.set(xticks=np.arange(cm.shape[1]),\n",
    "           yticks=np.arange(cm.shape[0]),\n",
    "           # ... and label them with the respective list entries\n",
    "           xticklabels=classes, yticklabels=classes,\n",
    "           title=title,\n",
    "           ylabel='True label',\n",
    "           xlabel='Predicted label')\n",
    "\n",
    "    # Rotate the tick labels and set their alignment.\n",
    "    plt.setp(ax.get_xticklabels(), rotation=45, ha=\"right\",\n",
    "             rotation_mode=\"anchor\")\n",
    "\n",
    "    # Loop over data dimensions and create text annotations.\n",
    "    fmt = '.2f' if normalize else 'd'\n",
    "    thresh = cm.max() / 2.\n",
    "    for i in range(cm.shape[0]):\n",
    "        for j in range(cm.shape[1]):\n",
    "            ax.text(j, i, format(cm[i, j], fmt),\n",
    "                    ha=\"center\", va=\"center\",\n",
    "                    color=\"white\" if cm[i, j] > thresh else \"black\")\n",
    "    fig.tight_layout()\n",
    "    return ax\n"
   ]
  },
  {
   "cell_type": "markdown",
   "metadata": {
    "heading_collapsed": true
   },
   "source": [
    "### ADABOOST CLASSIFIER"
   ]
  },
  {
   "cell_type": "code",
   "execution_count": 68,
   "metadata": {
    "hidden": true
   },
   "outputs": [],
   "source": [
    "## adaboost\n",
    "ada_clf = AdaBoostClassifier(tree.DecisionTreeClassifier(max_depth = 5))"
   ]
  },
  {
   "cell_type": "code",
   "execution_count": 69,
   "metadata": {
    "hidden": true
   },
   "outputs": [],
   "source": [
    "# Feautures and Predicted\n",
    "y = predictor\n",
    "\n",
    "X  = feature.drop(columns = 'symbol')"
   ]
  },
  {
   "cell_type": "code",
   "execution_count": 70,
   "metadata": {
    "hidden": true
   },
   "outputs": [],
   "source": [
    "#train_test_littttttt\n",
    "X_train, X_test, y_train, y_test = train_test_split(X, y, test_size=0.33, random_state=42)"
   ]
  },
  {
   "cell_type": "code",
   "execution_count": 71,
   "metadata": {
    "hidden": true,
    "scrolled": false
   },
   "outputs": [
    {
     "name": "stderr",
     "output_type": "stream",
     "text": [
      "/Users/flatironschool/anaconda3/lib/python3.7/site-packages/sklearn/utils/validation.py:724: DataConversionWarning: A column-vector y was passed when a 1d array was expected. Please change the shape of y to (n_samples, ), for example using ravel().\n",
      "  y = column_or_1d(y, warn=True)\n"
     ]
    },
    {
     "data": {
      "image/png": "[encoded data removed]",
      "text/plain": [
       "<Figure size 576x576 with 1 Axes>"
      ]
     },
     "metadata": {},
     "output_type": "display_data"
    }
   ],
   "source": [
    "plot_feature_importances(ada_clf.fit(X_train, y_train))"
   ]
  },
  {
   "cell_type": "markdown",
   "metadata": {
    "heading_collapsed": true
   },
   "source": [
    "## 1. Model Prep"
   ]
  },
  {
   "cell_type": "code",
   "execution_count": 72,
   "metadata": {
    "hidden": true
   },
   "outputs": [],
   "source": [
    "# Feautures and Predicted\n",
    "y = predictor\n",
    "\n",
    "X  = feature"
   ]
  },
  {
   "cell_type": "code",
   "execution_count": 73,
   "metadata": {
    "hidden": true
   },
   "outputs": [],
   "source": [
    "#train_test_littttttt\n",
    "X_train, X_test, y_train, y_test = train_test_split(X, y, test_size=0.33, random_state=42)"
   ]
  },
  {
   "cell_type": "code",
   "execution_count": 74,
   "metadata": {
    "hidden": true
   },
   "outputs": [],
   "source": [
    "no_symb = X_train.drop(columns = 'symbol')"
   ]
  },
  {
   "cell_type": "markdown",
   "metadata": {
    "hidden": true
   },
   "source": [
    "### Cross Validation"
   ]
  },
  {
   "cell_type": "code",
   "execution_count": 66,
   "metadata": {
    "hidden": true
   },
   "outputs": [
    {
     "name": "stderr",
     "output_type": "stream",
     "text": [
      "/Users/flatironschool/anaconda3/lib/python3.7/site-packages/sklearn/utils/validation.py:724: DataConversionWarning: A column-vector y was passed when a 1d array was expected. Please change the shape of y to (n_samples, ), for example using ravel().\n",
      "  y = column_or_1d(y, warn=True)\n",
      "/Users/flatironschool/anaconda3/lib/python3.7/site-packages/sklearn/utils/validation.py:724: DataConversionWarning: A column-vector y was passed when a 1d array was expected. Please change the shape of y to (n_samples, ), for example using ravel().\n",
      "  y = column_or_1d(y, warn=True)\n",
      "/Users/flatironschool/anaconda3/lib/python3.7/site-packages/sklearn/utils/validation.py:724: DataConversionWarning: A column-vector y was passed when a 1d array was expected. Please change the shape of y to (n_samples, ), for example using ravel().\n",
      "  y = column_or_1d(y, warn=True)\n"
     ]
    },
    {
     "name": "stdout",
     "output_type": "stream",
     "text": [
      "Mean Cross Validation Score: 89.54%\n"
     ]
    }
   ],
   "source": [
    "ada_cv_score = cross_val_score(ada_clf, no_symb, y_train, cv=3)\n",
    "mean_ada_cv_score = np.mean(ada_cv_score)\n",
    "\n",
    "print(\"Mean Cross Validation Score: {:.4}%\".format(mean_ada_cv_score * 100))\n",
    "\n",
    "# Mean Cross Validation Score: 89.58%"
   ]
  },
  {
   "cell_type": "code",
   "execution_count": 25,
   "metadata": {
    "collapsed": true,
    "hidden": true
   },
   "outputs": [
    {
     "name": "stderr",
     "output_type": "stream",
     "text": [
      "/Users/flatironschool/anaconda3/lib/python3.7/site-packages/sklearn/utils/validation.py:724: DataConversionWarning: A column-vector y was passed when a 1d array was expected. Please change the shape of y to (n_samples, ), for example using ravel().\n",
      "  y = column_or_1d(y, warn=True)\n",
      "/Users/flatironschool/anaconda3/lib/python3.7/site-packages/sklearn/utils/validation.py:724: DataConversionWarning: A column-vector y was passed when a 1d array was expected. Please change the shape of y to (n_samples, ), for example using ravel().\n",
      "  y = column_or_1d(y, warn=True)\n",
      "/Users/flatironschool/anaconda3/lib/python3.7/site-packages/sklearn/utils/validation.py:724: DataConversionWarning: A column-vector y was passed when a 1d array was expected. Please change the shape of y to (n_samples, ), for example using ravel().\n",
      "  y = column_or_1d(y, warn=True)\n",
      "/Users/flatironschool/anaconda3/lib/python3.7/site-packages/sklearn/utils/validation.py:724: DataConversionWarning: A column-vector y was passed when a 1d array was expected. Please change the shape of y to (n_samples, ), for example using ravel().\n",
      "  y = column_or_1d(y, warn=True)\n",
      "/Users/flatironschool/anaconda3/lib/python3.7/site-packages/sklearn/utils/validation.py:724: DataConversionWarning: A column-vector y was passed when a 1d array was expected. Please change the shape of y to (n_samples, ), for example using ravel().\n",
      "  y = column_or_1d(y, warn=True)\n",
      "/Users/flatironschool/anaconda3/lib/python3.7/site-packages/sklearn/utils/validation.py:724: DataConversionWarning: A column-vector y was passed when a 1d array was expected. Please change the shape of y to (n_samples, ), for example using ravel().\n",
      "  y = column_or_1d(y, warn=True)\n",
      "/Users/flatironschool/anaconda3/lib/python3.7/site-packages/sklearn/utils/validation.py:724: DataConversionWarning: A column-vector y was passed when a 1d array was expected. Please change the shape of y to (n_samples, ), for example using ravel().\n",
      "  y = column_or_1d(y, warn=True)\n",
      "/Users/flatironschool/anaconda3/lib/python3.7/site-packages/sklearn/utils/validation.py:724: DataConversionWarning: A column-vector y was passed when a 1d array was expected. Please change the shape of y to (n_samples, ), for example using ravel().\n",
      "  y = column_or_1d(y, warn=True)\n",
      "/Users/flatironschool/anaconda3/lib/python3.7/site-packages/sklearn/utils/validation.py:724: DataConversionWarning: A column-vector y was passed when a 1d array was expected. Please change the shape of y to (n_samples, ), for example using ravel().\n",
      "  y = column_or_1d(y, warn=True)\n",
      "/Users/flatironschool/anaconda3/lib/python3.7/site-packages/sklearn/utils/validation.py:724: DataConversionWarning: A column-vector y was passed when a 1d array was expected. Please change the shape of y to (n_samples, ), for example using ravel().\n",
      "  y = column_or_1d(y, warn=True)\n",
      "/Users/flatironschool/anaconda3/lib/python3.7/site-packages/sklearn/utils/validation.py:724: DataConversionWarning: A column-vector y was passed when a 1d array was expected. Please change the shape of y to (n_samples, ), for example using ravel().\n",
      "  y = column_or_1d(y, warn=True)\n",
      "/Users/flatironschool/anaconda3/lib/python3.7/site-packages/sklearn/utils/validation.py:724: DataConversionWarning: A column-vector y was passed when a 1d array was expected. Please change the shape of y to (n_samples, ), for example using ravel().\n",
      "  y = column_or_1d(y, warn=True)\n",
      "/Users/flatironschool/anaconda3/lib/python3.7/site-packages/sklearn/utils/validation.py:724: DataConversionWarning: A column-vector y was passed when a 1d array was expected. Please change the shape of y to (n_samples, ), for example using ravel().\n",
      "  y = column_or_1d(y, warn=True)\n",
      "/Users/flatironschool/anaconda3/lib/python3.7/site-packages/sklearn/utils/validation.py:724: DataConversionWarning: A column-vector y was passed when a 1d array was expected. Please change the shape of y to (n_samples, ), for example using ravel().\n",
      "  y = column_or_1d(y, warn=True)\n",
      "/Users/flatironschool/anaconda3/lib/python3.7/site-packages/sklearn/utils/validation.py:724: DataConversionWarning: A column-vector y was passed when a 1d array was expected. Please change the shape of y to (n_samples, ), for example using ravel().\n",
      "  y = column_or_1d(y, warn=True)\n",
      "/Users/flatironschool/anaconda3/lib/python3.7/site-packages/sklearn/utils/validation.py:724: DataConversionWarning: A column-vector y was passed when a 1d array was expected. Please change the shape of y to (n_samples, ), for example using ravel().\n",
      "  y = column_or_1d(y, warn=True)\n",
      "/Users/flatironschool/anaconda3/lib/python3.7/site-packages/sklearn/utils/validation.py:724: DataConversionWarning: A column-vector y was passed when a 1d array was expected. Please change the shape of y to (n_samples, ), for example using ravel().\n",
      "  y = column_or_1d(y, warn=True)\n",
      "/Users/flatironschool/anaconda3/lib/python3.7/site-packages/sklearn/utils/validation.py:724: DataConversionWarning: A column-vector y was passed when a 1d array was expected. Please change the shape of y to (n_samples, ), for example using ravel().\n",
      "  y = column_or_1d(y, warn=True)\n",
      "/Users/flatironschool/anaconda3/lib/python3.7/site-packages/sklearn/utils/validation.py:724: DataConversionWarning: A column-vector y was passed when a 1d array was expected. Please change the shape of y to (n_samples, ), for example using ravel().\n",
      "  y = column_or_1d(y, warn=True)\n",
      "/Users/flatironschool/anaconda3/lib/python3.7/site-packages/sklearn/utils/validation.py:724: DataConversionWarning: A column-vector y was passed when a 1d array was expected. Please change the shape of y to (n_samples, ), for example using ravel().\n",
      "  y = column_or_1d(y, warn=True)\n",
      "/Users/flatironschool/anaconda3/lib/python3.7/site-packages/sklearn/utils/validation.py:724: DataConversionWarning: A column-vector y was passed when a 1d array was expected. Please change the shape of y to (n_samples, ), for example using ravel().\n",
      "  y = column_or_1d(y, warn=True)\n",
      "/Users/flatironschool/anaconda3/lib/python3.7/site-packages/sklearn/utils/validation.py:724: DataConversionWarning: A column-vector y was passed when a 1d array was expected. Please change the shape of y to (n_samples, ), for example using ravel().\n",
      "  y = column_or_1d(y, warn=True)\n",
      "/Users/flatironschool/anaconda3/lib/python3.7/site-packages/sklearn/utils/validation.py:724: DataConversionWarning: A column-vector y was passed when a 1d array was expected. Please change the shape of y to (n_samples, ), for example using ravel().\n",
      "  y = column_or_1d(y, warn=True)\n",
      "/Users/flatironschool/anaconda3/lib/python3.7/site-packages/sklearn/utils/validation.py:724: DataConversionWarning: A column-vector y was passed when a 1d array was expected. Please change the shape of y to (n_samples, ), for example using ravel().\n",
      "  y = column_or_1d(y, warn=True)\n",
      "/Users/flatironschool/anaconda3/lib/python3.7/site-packages/sklearn/utils/validation.py:724: DataConversionWarning: A column-vector y was passed when a 1d array was expected. Please change the shape of y to (n_samples, ), for example using ravel().\n",
      "  y = column_or_1d(y, warn=True)\n",
      "/Users/flatironschool/anaconda3/lib/python3.7/site-packages/sklearn/utils/validation.py:724: DataConversionWarning: A column-vector y was passed when a 1d array was expected. Please change the shape of y to (n_samples, ), for example using ravel().\n",
      "  y = column_or_1d(y, warn=True)\n",
      "/Users/flatironschool/anaconda3/lib/python3.7/site-packages/sklearn/utils/validation.py:724: DataConversionWarning: A column-vector y was passed when a 1d array was expected. Please change the shape of y to (n_samples, ), for example using ravel().\n",
      "  y = column_or_1d(y, warn=True)\n",
      "/Users/flatironschool/anaconda3/lib/python3.7/site-packages/sklearn/utils/validation.py:724: DataConversionWarning: A column-vector y was passed when a 1d array was expected. Please change the shape of y to (n_samples, ), for example using ravel().\n",
      "  y = column_or_1d(y, warn=True)\n",
      "/Users/flatironschool/anaconda3/lib/python3.7/site-packages/sklearn/utils/validation.py:724: DataConversionWarning: A column-vector y was passed when a 1d array was expected. Please change the shape of y to (n_samples, ), for example using ravel().\n",
      "  y = column_or_1d(y, warn=True)\n",
      "/Users/flatironschool/anaconda3/lib/python3.7/site-packages/sklearn/utils/validation.py:724: DataConversionWarning: A column-vector y was passed when a 1d array was expected. Please change the shape of y to (n_samples, ), for example using ravel().\n",
      "  y = column_or_1d(y, warn=True)\n"
     ]
    },
    {
     "name": "stderr",
     "output_type": "stream",
     "text": [
      "/Users/flatironschool/anaconda3/lib/python3.7/site-packages/sklearn/utils/validation.py:724: DataConversionWarning: A column-vector y was passed when a 1d array was expected. Please change the shape of y to (n_samples, ), for example using ravel().\n",
      "  y = column_or_1d(y, warn=True)\n",
      "/Users/flatironschool/anaconda3/lib/python3.7/site-packages/sklearn/utils/validation.py:724: DataConversionWarning: A column-vector y was passed when a 1d array was expected. Please change the shape of y to (n_samples, ), for example using ravel().\n",
      "  y = column_or_1d(y, warn=True)\n",
      "/Users/flatironschool/anaconda3/lib/python3.7/site-packages/sklearn/utils/validation.py:724: DataConversionWarning: A column-vector y was passed when a 1d array was expected. Please change the shape of y to (n_samples, ), for example using ravel().\n",
      "  y = column_or_1d(y, warn=True)\n",
      "/Users/flatironschool/anaconda3/lib/python3.7/site-packages/sklearn/utils/validation.py:724: DataConversionWarning: A column-vector y was passed when a 1d array was expected. Please change the shape of y to (n_samples, ), for example using ravel().\n",
      "  y = column_or_1d(y, warn=True)\n",
      "/Users/flatironschool/anaconda3/lib/python3.7/site-packages/sklearn/utils/validation.py:724: DataConversionWarning: A column-vector y was passed when a 1d array was expected. Please change the shape of y to (n_samples, ), for example using ravel().\n",
      "  y = column_or_1d(y, warn=True)\n",
      "/Users/flatironschool/anaconda3/lib/python3.7/site-packages/sklearn/utils/validation.py:724: DataConversionWarning: A column-vector y was passed when a 1d array was expected. Please change the shape of y to (n_samples, ), for example using ravel().\n",
      "  y = column_or_1d(y, warn=True)\n",
      "/Users/flatironschool/anaconda3/lib/python3.7/site-packages/sklearn/utils/validation.py:724: DataConversionWarning: A column-vector y was passed when a 1d array was expected. Please change the shape of y to (n_samples, ), for example using ravel().\n",
      "  y = column_or_1d(y, warn=True)\n",
      "/Users/flatironschool/anaconda3/lib/python3.7/site-packages/sklearn/utils/validation.py:724: DataConversionWarning: A column-vector y was passed when a 1d array was expected. Please change the shape of y to (n_samples, ), for example using ravel().\n",
      "  y = column_or_1d(y, warn=True)\n",
      "/Users/flatironschool/anaconda3/lib/python3.7/site-packages/sklearn/utils/validation.py:724: DataConversionWarning: A column-vector y was passed when a 1d array was expected. Please change the shape of y to (n_samples, ), for example using ravel().\n",
      "  y = column_or_1d(y, warn=True)\n",
      "/Users/flatironschool/anaconda3/lib/python3.7/site-packages/sklearn/utils/validation.py:724: DataConversionWarning: A column-vector y was passed when a 1d array was expected. Please change the shape of y to (n_samples, ), for example using ravel().\n",
      "  y = column_or_1d(y, warn=True)\n",
      "/Users/flatironschool/anaconda3/lib/python3.7/site-packages/sklearn/utils/validation.py:724: DataConversionWarning: A column-vector y was passed when a 1d array was expected. Please change the shape of y to (n_samples, ), for example using ravel().\n",
      "  y = column_or_1d(y, warn=True)\n",
      "/Users/flatironschool/anaconda3/lib/python3.7/site-packages/sklearn/utils/validation.py:724: DataConversionWarning: A column-vector y was passed when a 1d array was expected. Please change the shape of y to (n_samples, ), for example using ravel().\n",
      "  y = column_or_1d(y, warn=True)\n",
      "/Users/flatironschool/anaconda3/lib/python3.7/site-packages/sklearn/utils/validation.py:724: DataConversionWarning: A column-vector y was passed when a 1d array was expected. Please change the shape of y to (n_samples, ), for example using ravel().\n",
      "  y = column_or_1d(y, warn=True)\n",
      "/Users/flatironschool/anaconda3/lib/python3.7/site-packages/sklearn/utils/validation.py:724: DataConversionWarning: A column-vector y was passed when a 1d array was expected. Please change the shape of y to (n_samples, ), for example using ravel().\n",
      "  y = column_or_1d(y, warn=True)\n",
      "/Users/flatironschool/anaconda3/lib/python3.7/site-packages/sklearn/utils/validation.py:724: DataConversionWarning: A column-vector y was passed when a 1d array was expected. Please change the shape of y to (n_samples, ), for example using ravel().\n",
      "  y = column_or_1d(y, warn=True)\n",
      "/Users/flatironschool/anaconda3/lib/python3.7/site-packages/sklearn/utils/validation.py:724: DataConversionWarning: A column-vector y was passed when a 1d array was expected. Please change the shape of y to (n_samples, ), for example using ravel().\n",
      "  y = column_or_1d(y, warn=True)\n",
      "/Users/flatironschool/anaconda3/lib/python3.7/site-packages/sklearn/utils/validation.py:724: DataConversionWarning: A column-vector y was passed when a 1d array was expected. Please change the shape of y to (n_samples, ), for example using ravel().\n",
      "  y = column_or_1d(y, warn=True)\n",
      "/Users/flatironschool/anaconda3/lib/python3.7/site-packages/sklearn/utils/validation.py:724: DataConversionWarning: A column-vector y was passed when a 1d array was expected. Please change the shape of y to (n_samples, ), for example using ravel().\n",
      "  y = column_or_1d(y, warn=True)\n",
      "/Users/flatironschool/anaconda3/lib/python3.7/site-packages/sklearn/utils/validation.py:724: DataConversionWarning: A column-vector y was passed when a 1d array was expected. Please change the shape of y to (n_samples, ), for example using ravel().\n",
      "  y = column_or_1d(y, warn=True)\n",
      "/Users/flatironschool/anaconda3/lib/python3.7/site-packages/sklearn/utils/validation.py:724: DataConversionWarning: A column-vector y was passed when a 1d array was expected. Please change the shape of y to (n_samples, ), for example using ravel().\n",
      "  y = column_or_1d(y, warn=True)\n",
      "/Users/flatironschool/anaconda3/lib/python3.7/site-packages/sklearn/utils/validation.py:724: DataConversionWarning: A column-vector y was passed when a 1d array was expected. Please change the shape of y to (n_samples, ), for example using ravel().\n",
      "  y = column_or_1d(y, warn=True)\n",
      "/Users/flatironschool/anaconda3/lib/python3.7/site-packages/sklearn/utils/validation.py:724: DataConversionWarning: A column-vector y was passed when a 1d array was expected. Please change the shape of y to (n_samples, ), for example using ravel().\n",
      "  y = column_or_1d(y, warn=True)\n",
      "/Users/flatironschool/anaconda3/lib/python3.7/site-packages/sklearn/utils/validation.py:724: DataConversionWarning: A column-vector y was passed when a 1d array was expected. Please change the shape of y to (n_samples, ), for example using ravel().\n",
      "  y = column_or_1d(y, warn=True)\n",
      "/Users/flatironschool/anaconda3/lib/python3.7/site-packages/sklearn/utils/validation.py:724: DataConversionWarning: A column-vector y was passed when a 1d array was expected. Please change the shape of y to (n_samples, ), for example using ravel().\n",
      "  y = column_or_1d(y, warn=True)\n",
      "/Users/flatironschool/anaconda3/lib/python3.7/site-packages/sklearn/utils/validation.py:724: DataConversionWarning: A column-vector y was passed when a 1d array was expected. Please change the shape of y to (n_samples, ), for example using ravel().\n",
      "  y = column_or_1d(y, warn=True)\n",
      "/Users/flatironschool/anaconda3/lib/python3.7/site-packages/sklearn/utils/validation.py:724: DataConversionWarning: A column-vector y was passed when a 1d array was expected. Please change the shape of y to (n_samples, ), for example using ravel().\n",
      "  y = column_or_1d(y, warn=True)\n",
      "/Users/flatironschool/anaconda3/lib/python3.7/site-packages/sklearn/utils/validation.py:724: DataConversionWarning: A column-vector y was passed when a 1d array was expected. Please change the shape of y to (n_samples, ), for example using ravel().\n",
      "  y = column_or_1d(y, warn=True)\n",
      "/Users/flatironschool/anaconda3/lib/python3.7/site-packages/sklearn/utils/validation.py:724: DataConversionWarning: A column-vector y was passed when a 1d array was expected. Please change the shape of y to (n_samples, ), for example using ravel().\n",
      "  y = column_or_1d(y, warn=True)\n",
      "/Users/flatironschool/anaconda3/lib/python3.7/site-packages/sklearn/utils/validation.py:724: DataConversionWarning: A column-vector y was passed when a 1d array was expected. Please change the shape of y to (n_samples, ), for example using ravel().\n",
      "  y = column_or_1d(y, warn=True)\n",
      "/Users/flatironschool/anaconda3/lib/python3.7/site-packages/sklearn/utils/validation.py:724: DataConversionWarning: A column-vector y was passed when a 1d array was expected. Please change the shape of y to (n_samples, ), for example using ravel().\n",
      "  y = column_or_1d(y, warn=True)\n"
     ]
    },
    {
     "name": "stderr",
     "output_type": "stream",
     "text": [
      "/Users/flatironschool/anaconda3/lib/python3.7/site-packages/sklearn/utils/validation.py:724: DataConversionWarning: A column-vector y was passed when a 1d array was expected. Please change the shape of y to (n_samples, ), for example using ravel().\n",
      "  y = column_or_1d(y, warn=True)\n",
      "/Users/flatironschool/anaconda3/lib/python3.7/site-packages/sklearn/utils/validation.py:724: DataConversionWarning: A column-vector y was passed when a 1d array was expected. Please change the shape of y to (n_samples, ), for example using ravel().\n",
      "  y = column_or_1d(y, warn=True)\n",
      "/Users/flatironschool/anaconda3/lib/python3.7/site-packages/sklearn/utils/validation.py:724: DataConversionWarning: A column-vector y was passed when a 1d array was expected. Please change the shape of y to (n_samples, ), for example using ravel().\n",
      "  y = column_or_1d(y, warn=True)\n",
      "/Users/flatironschool/anaconda3/lib/python3.7/site-packages/sklearn/utils/validation.py:724: DataConversionWarning: A column-vector y was passed when a 1d array was expected. Please change the shape of y to (n_samples, ), for example using ravel().\n",
      "  y = column_or_1d(y, warn=True)\n",
      "/Users/flatironschool/anaconda3/lib/python3.7/site-packages/sklearn/utils/validation.py:724: DataConversionWarning: A column-vector y was passed when a 1d array was expected. Please change the shape of y to (n_samples, ), for example using ravel().\n",
      "  y = column_or_1d(y, warn=True)\n",
      "/Users/flatironschool/anaconda3/lib/python3.7/site-packages/sklearn/utils/validation.py:724: DataConversionWarning: A column-vector y was passed when a 1d array was expected. Please change the shape of y to (n_samples, ), for example using ravel().\n",
      "  y = column_or_1d(y, warn=True)\n",
      "/Users/flatironschool/anaconda3/lib/python3.7/site-packages/sklearn/utils/validation.py:724: DataConversionWarning: A column-vector y was passed when a 1d array was expected. Please change the shape of y to (n_samples, ), for example using ravel().\n",
      "  y = column_or_1d(y, warn=True)\n",
      "/Users/flatironschool/anaconda3/lib/python3.7/site-packages/sklearn/utils/validation.py:724: DataConversionWarning: A column-vector y was passed when a 1d array was expected. Please change the shape of y to (n_samples, ), for example using ravel().\n",
      "  y = column_or_1d(y, warn=True)\n",
      "/Users/flatironschool/anaconda3/lib/python3.7/site-packages/sklearn/utils/validation.py:724: DataConversionWarning: A column-vector y was passed when a 1d array was expected. Please change the shape of y to (n_samples, ), for example using ravel().\n",
      "  y = column_or_1d(y, warn=True)\n",
      "/Users/flatironschool/anaconda3/lib/python3.7/site-packages/sklearn/utils/validation.py:724: DataConversionWarning: A column-vector y was passed when a 1d array was expected. Please change the shape of y to (n_samples, ), for example using ravel().\n",
      "  y = column_or_1d(y, warn=True)\n",
      "/Users/flatironschool/anaconda3/lib/python3.7/site-packages/sklearn/utils/validation.py:724: DataConversionWarning: A column-vector y was passed when a 1d array was expected. Please change the shape of y to (n_samples, ), for example using ravel().\n",
      "  y = column_or_1d(y, warn=True)\n",
      "/Users/flatironschool/anaconda3/lib/python3.7/site-packages/sklearn/utils/validation.py:724: DataConversionWarning: A column-vector y was passed when a 1d array was expected. Please change the shape of y to (n_samples, ), for example using ravel().\n",
      "  y = column_or_1d(y, warn=True)\n",
      "/Users/flatironschool/anaconda3/lib/python3.7/site-packages/sklearn/utils/validation.py:724: DataConversionWarning: A column-vector y was passed when a 1d array was expected. Please change the shape of y to (n_samples, ), for example using ravel().\n",
      "  y = column_or_1d(y, warn=True)\n",
      "/Users/flatironschool/anaconda3/lib/python3.7/site-packages/sklearn/utils/validation.py:724: DataConversionWarning: A column-vector y was passed when a 1d array was expected. Please change the shape of y to (n_samples, ), for example using ravel().\n",
      "  y = column_or_1d(y, warn=True)\n",
      "/Users/flatironschool/anaconda3/lib/python3.7/site-packages/sklearn/utils/validation.py:724: DataConversionWarning: A column-vector y was passed when a 1d array was expected. Please change the shape of y to (n_samples, ), for example using ravel().\n",
      "  y = column_or_1d(y, warn=True)\n",
      "/Users/flatironschool/anaconda3/lib/python3.7/site-packages/sklearn/utils/validation.py:724: DataConversionWarning: A column-vector y was passed when a 1d array was expected. Please change the shape of y to (n_samples, ), for example using ravel().\n",
      "  y = column_or_1d(y, warn=True)\n",
      "/Users/flatironschool/anaconda3/lib/python3.7/site-packages/sklearn/utils/validation.py:724: DataConversionWarning: A column-vector y was passed when a 1d array was expected. Please change the shape of y to (n_samples, ), for example using ravel().\n",
      "  y = column_or_1d(y, warn=True)\n",
      "/Users/flatironschool/anaconda3/lib/python3.7/site-packages/sklearn/utils/validation.py:724: DataConversionWarning: A column-vector y was passed when a 1d array was expected. Please change the shape of y to (n_samples, ), for example using ravel().\n",
      "  y = column_or_1d(y, warn=True)\n",
      "/Users/flatironschool/anaconda3/lib/python3.7/site-packages/sklearn/utils/validation.py:724: DataConversionWarning: A column-vector y was passed when a 1d array was expected. Please change the shape of y to (n_samples, ), for example using ravel().\n",
      "  y = column_or_1d(y, warn=True)\n",
      "/Users/flatironschool/anaconda3/lib/python3.7/site-packages/sklearn/utils/validation.py:724: DataConversionWarning: A column-vector y was passed when a 1d array was expected. Please change the shape of y to (n_samples, ), for example using ravel().\n",
      "  y = column_or_1d(y, warn=True)\n",
      "/Users/flatironschool/anaconda3/lib/python3.7/site-packages/sklearn/utils/validation.py:724: DataConversionWarning: A column-vector y was passed when a 1d array was expected. Please change the shape of y to (n_samples, ), for example using ravel().\n",
      "  y = column_or_1d(y, warn=True)\n",
      "/Users/flatironschool/anaconda3/lib/python3.7/site-packages/sklearn/utils/validation.py:724: DataConversionWarning: A column-vector y was passed when a 1d array was expected. Please change the shape of y to (n_samples, ), for example using ravel().\n",
      "  y = column_or_1d(y, warn=True)\n",
      "/Users/flatironschool/anaconda3/lib/python3.7/site-packages/sklearn/utils/validation.py:724: DataConversionWarning: A column-vector y was passed when a 1d array was expected. Please change the shape of y to (n_samples, ), for example using ravel().\n",
      "  y = column_or_1d(y, warn=True)\n",
      "/Users/flatironschool/anaconda3/lib/python3.7/site-packages/sklearn/utils/validation.py:724: DataConversionWarning: A column-vector y was passed when a 1d array was expected. Please change the shape of y to (n_samples, ), for example using ravel().\n",
      "  y = column_or_1d(y, warn=True)\n",
      "/Users/flatironschool/anaconda3/lib/python3.7/site-packages/sklearn/utils/validation.py:724: DataConversionWarning: A column-vector y was passed when a 1d array was expected. Please change the shape of y to (n_samples, ), for example using ravel().\n",
      "  y = column_or_1d(y, warn=True)\n",
      "/Users/flatironschool/anaconda3/lib/python3.7/site-packages/sklearn/utils/validation.py:724: DataConversionWarning: A column-vector y was passed when a 1d array was expected. Please change the shape of y to (n_samples, ), for example using ravel().\n",
      "  y = column_or_1d(y, warn=True)\n",
      "/Users/flatironschool/anaconda3/lib/python3.7/site-packages/sklearn/utils/validation.py:724: DataConversionWarning: A column-vector y was passed when a 1d array was expected. Please change the shape of y to (n_samples, ), for example using ravel().\n",
      "  y = column_or_1d(y, warn=True)\n",
      "/Users/flatironschool/anaconda3/lib/python3.7/site-packages/sklearn/utils/validation.py:724: DataConversionWarning: A column-vector y was passed when a 1d array was expected. Please change the shape of y to (n_samples, ), for example using ravel().\n",
      "  y = column_or_1d(y, warn=True)\n",
      "/Users/flatironschool/anaconda3/lib/python3.7/site-packages/sklearn/utils/validation.py:724: DataConversionWarning: A column-vector y was passed when a 1d array was expected. Please change the shape of y to (n_samples, ), for example using ravel().\n",
      "  y = column_or_1d(y, warn=True)\n",
      "/Users/flatironschool/anaconda3/lib/python3.7/site-packages/sklearn/utils/validation.py:724: DataConversionWarning: A column-vector y was passed when a 1d array was expected. Please change the shape of y to (n_samples, ), for example using ravel().\n",
      "  y = column_or_1d(y, warn=True)\n"
     ]
    },
    {
     "name": "stderr",
     "output_type": "stream",
     "text": [
      "/Users/flatironschool/anaconda3/lib/python3.7/site-packages/sklearn/utils/validation.py:724: DataConversionWarning: A column-vector y was passed when a 1d array was expected. Please change the shape of y to (n_samples, ), for example using ravel().\n",
      "  y = column_or_1d(y, warn=True)\n",
      "/Users/flatironschool/anaconda3/lib/python3.7/site-packages/sklearn/utils/validation.py:724: DataConversionWarning: A column-vector y was passed when a 1d array was expected. Please change the shape of y to (n_samples, ), for example using ravel().\n",
      "  y = column_or_1d(y, warn=True)\n",
      "/Users/flatironschool/anaconda3/lib/python3.7/site-packages/sklearn/utils/validation.py:724: DataConversionWarning: A column-vector y was passed when a 1d array was expected. Please change the shape of y to (n_samples, ), for example using ravel().\n",
      "  y = column_or_1d(y, warn=True)\n",
      "/Users/flatironschool/anaconda3/lib/python3.7/site-packages/sklearn/utils/validation.py:724: DataConversionWarning: A column-vector y was passed when a 1d array was expected. Please change the shape of y to (n_samples, ), for example using ravel().\n",
      "  y = column_or_1d(y, warn=True)\n",
      "/Users/flatironschool/anaconda3/lib/python3.7/site-packages/sklearn/utils/validation.py:724: DataConversionWarning: A column-vector y was passed when a 1d array was expected. Please change the shape of y to (n_samples, ), for example using ravel().\n",
      "  y = column_or_1d(y, warn=True)\n",
      "/Users/flatironschool/anaconda3/lib/python3.7/site-packages/sklearn/utils/validation.py:724: DataConversionWarning: A column-vector y was passed when a 1d array was expected. Please change the shape of y to (n_samples, ), for example using ravel().\n",
      "  y = column_or_1d(y, warn=True)\n",
      "/Users/flatironschool/anaconda3/lib/python3.7/site-packages/sklearn/utils/validation.py:724: DataConversionWarning: A column-vector y was passed when a 1d array was expected. Please change the shape of y to (n_samples, ), for example using ravel().\n",
      "  y = column_or_1d(y, warn=True)\n",
      "/Users/flatironschool/anaconda3/lib/python3.7/site-packages/sklearn/utils/validation.py:724: DataConversionWarning: A column-vector y was passed when a 1d array was expected. Please change the shape of y to (n_samples, ), for example using ravel().\n",
      "  y = column_or_1d(y, warn=True)\n",
      "/Users/flatironschool/anaconda3/lib/python3.7/site-packages/sklearn/utils/validation.py:724: DataConversionWarning: A column-vector y was passed when a 1d array was expected. Please change the shape of y to (n_samples, ), for example using ravel().\n",
      "  y = column_or_1d(y, warn=True)\n",
      "/Users/flatironschool/anaconda3/lib/python3.7/site-packages/sklearn/utils/validation.py:724: DataConversionWarning: A column-vector y was passed when a 1d array was expected. Please change the shape of y to (n_samples, ), for example using ravel().\n",
      "  y = column_or_1d(y, warn=True)\n"
     ]
    },
    {
     "data": {
      "image/png": "[encoded data removed]",
      "text/plain": [
       "<Figure size 720x720 with 1 Axes>"
      ]
     },
     "metadata": {},
     "output_type": "display_data"
    }
   ],
   "source": [
    "score = cross_val_score(ada_clf, X_train, y_train, cv = 10)\n",
    "score.mean()\n",
    "depth_range = range(1,10)\n",
    "val = []\n",
    "for depth in depth_range:\n",
    "    ada_clf = AdaBoostClassifier(DecisionTreeClassifier(max_depth = depth))\n",
    "    depth_score = cross_val_score(ada_clf, X_train, y_train, cv = 10)\n",
    "    val.append(depth_score.mean())\n",
    "# print(val)\n",
    "plt.figure(figsize = (10,10))\n",
    "plt.plot(depth_range, val)\n",
    "plt.xlabel('range of depth')\n",
    "plt.ylabel('cross validated values')\n",
    "plt.show()"
   ]
  },
  {
   "cell_type": "markdown",
   "metadata": {
    "heading_collapsed": true
   },
   "source": [
    "## Model Testing"
   ]
  },
  {
   "cell_type": "code",
   "execution_count": 26,
   "metadata": {
    "hidden": true
   },
   "outputs": [
    {
     "name": "stderr",
     "output_type": "stream",
     "text": [
      "/Users/flatironschool/anaconda3/lib/python3.7/site-packages/sklearn/utils/validation.py:724: DataConversionWarning: A column-vector y was passed when a 1d array was expected. Please change the shape of y to (n_samples, ), for example using ravel().\n",
      "  y = column_or_1d(y, warn=True)\n"
     ]
    },
    {
     "data": {
      "text/plain": [
       "AdaBoostClassifier(algorithm='SAMME.R',\n",
       "                   base_estimator=DecisionTreeClassifier(class_weight=None,\n",
       "                                                         criterion='gini',\n",
       "                                                         max_depth=9,\n",
       "                                                         max_features=None,\n",
       "                                                         max_leaf_nodes=None,\n",
       "                                                         min_impurity_decrease=0.0,\n",
       "                                                         min_impurity_split=None,\n",
       "                                                         min_samples_leaf=1,\n",
       "                                                         min_samples_split=2,\n",
       "                                                         min_weight_fraction_leaf=0.0,\n",
       "                                                         presort=False,\n",
       "                                                         random_state=None,\n",
       "                                                         splitter='best'),\n",
       "                   learning_rate=1.0, n_estimators=50, random_state=None)"
      ]
     },
     "execution_count": 26,
     "metadata": {},
     "output_type": "execute_result"
    }
   ],
   "source": [
    "ada_clf.fit(X_train, y_train)"
   ]
  },
  {
   "cell_type": "code",
   "execution_count": 75,
   "metadata": {
    "hidden": true
   },
   "outputs": [],
   "source": [
    "no_symtest = X_test.drop(columns='symbol')"
   ]
  },
  {
   "cell_type": "code",
   "execution_count": 76,
   "metadata": {
    "hidden": true
   },
   "outputs": [],
   "source": [
    "test_preds = ada_clf.predict(no_symtest)"
   ]
  },
  {
   "cell_type": "code",
   "execution_count": 77,
   "metadata": {
    "hidden": true
   },
   "outputs": [
    {
     "data": {
      "text/plain": [
       "0.8999775901994472"
      ]
     },
     "execution_count": 77,
     "metadata": {},
     "output_type": "execute_result"
    }
   ],
   "source": [
    "#how well did our model predict our correct class? \n",
    "accuracy_score(y_test,test_preds)\n",
    "\n",
    "# 0.8999775901994472"
   ]
  },
  {
   "cell_type": "code",
   "execution_count": 50,
   "metadata": {
    "hidden": true
   },
   "outputs": [],
   "source": [
    "# dot_data = StringIO()\n",
    "# export_graphviz(ada_clf, out_file=dot_data,  \n",
    "#                 filled=True, rounded=True,\n",
    "#                 special_characters=True)\n",
    "# graph = pydotplus.graph_from_dot_data(dot_data.getvalue())  \n",
    "# Image(graph.create_png())"
   ]
  },
  {
   "cell_type": "code",
   "execution_count": 32,
   "metadata": {
    "hidden": true
   },
   "outputs": [
    {
     "name": "stdout",
     "output_type": "stream",
     "text": [
      "Accuracy Score: 0.8913124673190409\n",
      "Precision Score: 0.8839694656488549\n",
      "Recall Score: 0.8454097463040701\n",
      "F1 Score: 0.8642597257206829\n",
      "\n",
      "              precision    recall  f1-score   support\n",
      "\n",
      "           0       0.90      0.92      0.91      7908\n",
      "           1       0.88      0.85      0.86      5479\n",
      "\n",
      "    accuracy                           0.89     13387\n",
      "   macro avg       0.89      0.88      0.89     13387\n",
      "weighted avg       0.89      0.89      0.89     13387\n",
      "\n"
     ]
    }
   ],
   "source": [
    "def print_metrics(labels, preds):\n",
    "    print(\"Accuracy Score: {}\".format(accuracy_score(labels, preds)))\n",
    "    print(\"Precision Score: {}\".format(precision_score(labels, preds)))\n",
    "    print(\"Recall Score: {}\".format(recall_score(labels, preds)))\n",
    "    print(\"F1 Score: {}\".format(f1_score(labels, preds)))\n",
    "    \n",
    "print_metrics(y_test, test_preds)\n",
    "print(f'\\n{classification_report(y_test, test_preds)}')\n",
    "\n",
    "\n",
    "# Accuracy Score: 0.8913124673190409\n",
    "# Precision Score: 0.8839694656488549\n",
    "# Recall Score: 0.8454097463040701\n",
    "# F1 Score: 0.8642597257206829\n",
    "\n",
    "#               precision    recall  f1-score   support\n",
    "\n",
    "#            0       0.90      0.92      0.91      7908\n",
    "#            1       0.88      0.85      0.86      5479\n",
    "\n",
    "#     accuracy                           0.89     13387\n",
    "#    macro avg       0.89      0.88      0.89     13387\n",
    "# weighted avg       0.89      0.89      0.89     13387"
   ]
  },
  {
   "cell_type": "code",
   "execution_count": 36,
   "metadata": {
    "hidden": true
   },
   "outputs": [
    {
     "data": {
      "image/png": "[encoded data removed]",
      "text/plain": [
       "<Figure size 432x288 with 2 Axes>"
      ]
     },
     "metadata": {},
     "output_type": "display_data"
    }
   ],
   "source": [
    "np.set_printoptions(precision=1)\n",
    "\n",
    "# Plot non-normalized confusion matrix\n",
    "plot_confusion_matrix(y_test, test_preds, classes=labels,\n",
    "                      title='Adaboost Confusion matrix')\n",
    "\n",
    "plt.show()\n",
    "\n",
    "# print(confusion_matrix(y_test, test_preds, labels=None, sample_weight=None))"
   ]
  },
  {
   "cell_type": "markdown",
   "metadata": {
    "heading_collapsed": true
   },
   "source": [
    "##  Standard Scalar AdaBoost"
   ]
  },
  {
   "cell_type": "code",
   "execution_count": 37,
   "metadata": {
    "hidden": true
   },
   "outputs": [
    {
     "name": "stderr",
     "output_type": "stream",
     "text": [
      "/Users/flatironschool/anaconda3/lib/python3.7/site-packages/sklearn/utils/validation.py:724: DataConversionWarning: A column-vector y was passed when a 1d array was expected. Please change the shape of y to (n_samples, ), for example using ravel().\n",
      "  y = column_or_1d(y, warn=True)\n"
     ]
    }
   ],
   "source": [
    "scaler = StandardScaler()  \n",
    "scaler.fit(X_train)\n",
    "\n",
    "X_train_scaled = scaler.transform(X_train)  \n",
    "X_test_scaled = scaler.transform(X_test)  \n",
    "\n",
    "\n",
    "model_ada = AdaBoostClassifier(tree.DecisionTreeClassifier(max_depth = 5))\n",
    "model_ada.fit(X_train_scaled, y_train)\n",
    "\n",
    "test_pred_scaled_ada = model_ada.predict(X_test_scaled)"
   ]
  },
  {
   "cell_type": "code",
   "execution_count": 38,
   "metadata": {
    "hidden": true,
    "scrolled": true
   },
   "outputs": [
    {
     "name": "stdout",
     "output_type": "stream",
     "text": [
      "Accuracy Score: 0.9049077463210577\n",
      "Precision Score: 0.8947072072072072\n",
      "Recall Score: 0.8700492790655229\n",
      "F1 Score: 0.8822059776071065\n",
      "\n",
      "              precision    recall  f1-score   support\n",
      "\n",
      "           0       0.91      0.93      0.92      7908\n",
      "           1       0.89      0.87      0.88      5479\n",
      "\n",
      "    accuracy                           0.90     13387\n",
      "   macro avg       0.90      0.90      0.90     13387\n",
      "weighted avg       0.90      0.90      0.90     13387\n",
      "\n"
     ]
    }
   ],
   "source": [
    "def print_metrics(labels, preds):\n",
    "    print(\"Accuracy Score: {}\".format(accuracy_score(labels, preds)))\n",
    "    print(\"Precision Score: {}\".format(precision_score(labels, preds)))\n",
    "    print(\"Recall Score: {}\".format(recall_score(labels, preds)))\n",
    "    print(\"F1 Score: {}\".format(f1_score(labels, preds)))\n",
    "    \n",
    "print_metrics(y_test, test_pred_scaled_ada)\n",
    "# print(confusion_matrix(y_test, test_pred_scaled, labels=None, sample_weight=None))\n",
    "print(f'\\n{classification_report(y_test, test_pred_scaled_ada)}')\n",
    "\n",
    "# Accuracy Score: 0.9049077463210577\n",
    "# Precision Score: 0.8947072072072072\n",
    "# Recall Score: 0.8700492790655229\n",
    "# F1 Score: 0.8822059776071065\n",
    "\n",
    "#               precision    recall  f1-score   support\n",
    "\n",
    "#            0       0.91      0.93      0.92      7908\n",
    "#            1       0.89      0.87      0.88      5479\n",
    "\n",
    "#     accuracy                           0.90     13387\n",
    "#    macro avg       0.90      0.90      0.90     13387\n",
    "# weighted avg       0.90      0.90      0.90     13387"
   ]
  },
  {
   "cell_type": "markdown",
   "metadata": {
    "hidden": true
   },
   "source": [
    "### Scaled Adaboost Confusion Matrix"
   ]
  },
  {
   "cell_type": "code",
   "execution_count": 39,
   "metadata": {
    "hidden": true
   },
   "outputs": [
    {
     "data": {
      "image/png": "[encoded data removed]",
      "text/plain": [
       "<Figure size 432x288 with 2 Axes>"
      ]
     },
     "metadata": {},
     "output_type": "display_data"
    }
   ],
   "source": [
    "np.set_printoptions(precision=1)\n",
    "\n",
    "# Plot non-normalized confusion matrix\n",
    "plot_confusion_matrix(y_test, test_pred_scaled_ada, classes=labels,\n",
    "                      title='Scaled Adaboost Confusion matrix')\n",
    "\n",
    "plt.show()"
   ]
  },
  {
   "cell_type": "markdown",
   "metadata": {
    "heading_collapsed": true
   },
   "source": [
    "## ADABOOST Grid Search "
   ]
  },
  {
   "cell_type": "code",
   "execution_count": 40,
   "metadata": {
    "hidden": true
   },
   "outputs": [
    {
     "name": "stdout",
     "output_type": "stream",
     "text": [
      "Fitting 3 folds for each of 9 candidates, totalling 27 fits\n"
     ]
    },
    {
     "name": "stderr",
     "output_type": "stream",
     "text": [
      "[Parallel(n_jobs=-1)]: Using backend LokyBackend with 4 concurrent workers.\n",
      "[Parallel(n_jobs=-1)]: Done  27 out of  27 | elapsed: 36.0min finished\n",
      "/Users/flatironschool/anaconda3/lib/python3.7/site-packages/sklearn/utils/validation.py:724: DataConversionWarning: A column-vector y was passed when a 1d array was expected. Please change the shape of y to (n_samples, ), for example using ravel().\n",
      "  y = column_or_1d(y, warn=True)\n"
     ]
    }
   ],
   "source": [
    "dt_grid_param_ada = {'n_estimators': [50, 100, 250],\n",
    "                     'learning_rate': [1.0, 0.5, 0.1]\n",
    "                    }\n",
    "\n",
    "dt_grid_search_ada = GridSearchCV(ada_clf, dt_grid_param_ada, verbose=1, cv=3, n_jobs=-1)\n",
    "\n",
    "dt_gs_results_ada = dt_grid_search_ada.fit(no_symb, y_train)\n",
    "\n",
    "# Fitting 3 folds for each of 9 candidates, totalling 27 fits"
   ]
  },
  {
   "cell_type": "code",
   "execution_count": 94,
   "metadata": {
    "code_folding": [],
    "hidden": true,
    "scrolled": false
   },
   "outputs": [
    {
     "name": "stdout",
     "output_type": "stream",
     "text": [
      "Accuracy Score : 0.9133487711959364\n",
      "Precision Score : 0.9075297225891678\n",
      "Recall Score : 0.8777149114801971\n",
      "F1 Score : 0.8923733531267396\n",
      "Best Parameter Found:\n",
      "{'learning_rate': 0.1, 'n_estimators': 100}\n",
      "\n",
      "Best Estimator Found:\n",
      "AdaBoostClassifier(algorithm='SAMME.R',\n",
      "                   base_estimator=DecisionTreeClassifier(class_weight=None,\n",
      "                                                         criterion='gini',\n",
      "                                                         max_depth=9,\n",
      "                                                         max_features=None,\n",
      "                                                         max_leaf_nodes=None,\n",
      "                                                         min_impurity_decrease=0.0,\n",
      "                                                         min_impurity_split=None,\n",
      "                                                         min_samples_leaf=1,\n",
      "                                                         min_samples_split=2,\n",
      "                                                         min_weight_fraction_leaf=0.0,\n",
      "                                                         presort=False,\n",
      "                                                         random_state=None,\n",
      "                                                         splitter='best'),\n",
      "                   learning_rate=0.1, n_estimators=100, random_state=None)\n",
      "Best Score Found:\n",
      "0.9126899444424004\n"
     ]
    }
   ],
   "source": [
    "#Predict values based on new parameters\n",
    "y_pred_acc = dt_grid_search_ada.predict(no_symtest)\n",
    "\n",
    "# New Model Evaluation metrics \n",
    "print('Accuracy Score : ' + str(accuracy_score(y_test,y_pred_acc)))\n",
    "print('Precision Score : ' + str(precision_score(y_test,y_pred_acc)))\n",
    "print('Recall Score : ' + str(recall_score(y_test,y_pred_acc)))\n",
    "print('F1 Score : ' + str(f1_score(y_test,y_pred_acc)))\n",
    "print(\"Best Parameter Found:\")\n",
    "print(dt_grid_search_ada.best_params_)\n",
    "print(\"\\nBest Estimator Found:\")\n",
    "print(dt_grid_search_ada.best_estimator_)\n",
    "print(\"Best Score Found:\")\n",
    "print(dt_grid_search_ada.best_score_)\n",
    "\n",
    "\n",
    "# Accuracy Score : 0.9133487711959364\n",
    "# Precision Score : 0.9075297225891678\n",
    "# Recall Score : 0.8777149114801971\n",
    "# F1 Score : 0.8923733531267396\n",
    "# Best Parameter Found:\n",
    "# {'learning_rate': 0.1, 'n_estimators': 100}\n",
    "\n",
    "# Best Estimator Found:\n",
    "# AdaBoostClassifier(algorithm='SAMME.R',\n",
    "#                    base_estimator=DecisionTreeClassifier(class_weight=None,\n",
    "#                                                          criterion='gini',\n",
    "#                                                          max_depth=9,\n",
    "#                                                          max_features=None,\n",
    "#                                                          max_leaf_nodes=None,\n",
    "#                                                          min_impurity_decrease=0.0,\n",
    "#                                                          min_impurity_split=None,\n",
    "#                                                          min_samples_leaf=1,\n",
    "#                                                          min_samples_split=2,\n",
    "#                                                          min_weight_fraction_leaf=0.0,\n",
    "#                                                          presort=False,\n",
    "#                                                          random_state=None,\n",
    "#                                                          splitter='best'),\n",
    "#                    learning_rate=0.1, n_estimators=100, random_state=None)\n",
    "# Best Score Found:\n",
    "# 0.9126899444424004"
   ]
  },
  {
   "cell_type": "code",
   "execution_count": 96,
   "metadata": {
    "hidden": true
   },
   "outputs": [],
   "source": [
    "def performance_model(model, name, plot=False):\n",
    "    print(name)\n",
    "    print('-'*20)\n",
    "    \n",
    "    print('** TRAINING PERFORMANCE **')\n",
    "    print('-> Accuracy Score:', accuracy_score(y_train, model.predict(no_symb)) )\n",
    "    print('-> Precision Score: {}'.format(precision_score(y_train, model.predict(no_symb))))\n",
    "    print('-> Recall Score: {}'.format(recall_score(y_train, model.predict(no_symb))))\n",
    "    print('-> F1 Score: {}'.format(f1_score(y_train, model.predict(no_symb))))\n",
    "    print('-> AUC:', roc_auc_score(y_train, model.predict_proba(no_symb)[:, 1] ))\n",
    "    \n",
    "    print('\\n** TESTING PERFORMANCE')\n",
    "    print('-> Accuracy Score:', accuracy_score(y_test, model.predict(no_symtest)) )\n",
    "    print('-> Precision Score: {}'.format(precision_score(y_test, model.predict(no_symtest))))\n",
    "    print('-> Recall Score: {}'.format(recall_score(y_test, model.predict(no_symtest))))\n",
    "    print('-> F1 Score: {}'.format(f1_score(y_test, model.predict(no_symtest))))\n",
    "    print('-> AUC:', roc_auc_score(y_test, model.predict_proba(no_symtest)[:, 1] ))\n",
    "    print()\n",
    "    \n",
    "    if plot:\n",
    "        fpr, tpr, thres = roc_curve(y_test, model.predict_proba(no_symtest)[:, 1],pos_label=1)\n",
    "        plt.figure(figsize=(4, 4))\n",
    "        plt.plot(fpr, tpr, label='Test')\n",
    "        plt.xlabel('FPR')\n",
    "        plt.ylabel('TPR')\n",
    "        plt.show()"
   ]
  },
  {
   "cell_type": "code",
   "execution_count": 101,
   "metadata": {
    "hidden": true
   },
   "outputs": [
    {
     "name": "stdout",
     "output_type": "stream",
     "text": [
      "Adaboost default\n",
      "--------------------\n",
      "** TRAINING PERFORMANCE **\n",
      "-> Accuracy Score: 1.0\n",
      "-> Precision Score: 1.0\n",
      "-> Recall Score: 1.0\n",
      "-> F1 Score: 1.0\n",
      "-> AUC: 1.0\n",
      "\n",
      "** TESTING PERFORMANCE\n",
      "-> Accuracy Score: 0.9133487711959364\n",
      "-> Precision Score: 0.9075297225891678\n",
      "-> Recall Score: 0.8777149114801971\n",
      "-> F1 Score: 0.8923733531267396\n",
      "-> AUC: 0.9574032750974591\n",
      "\n"
     ]
    },
    {
     "data": {
      "image/png": "[encoded data removed]",
      "text/plain": [
       "<Figure size 288x288 with 1 Axes>"
      ]
     },
     "metadata": {},
     "output_type": "display_data"
    }
   ],
   "source": [
    "performance_model(dt_gs_results_ada,\"Adaboost default\",plot=True)"
   ]
  },
  {
   "cell_type": "markdown",
   "metadata": {
    "heading_collapsed": true
   },
   "source": [
    "## Adaboost Grid Search Confusion Matrix"
   ]
  },
  {
   "cell_type": "code",
   "execution_count": 42,
   "metadata": {
    "hidden": true
   },
   "outputs": [
    {
     "data": {
      "image/png": "[encoded data removed]",
      "text/plain": [
       "<Figure size 432x288 with 2 Axes>"
      ]
     },
     "metadata": {},
     "output_type": "display_data"
    }
   ],
   "source": [
    "np.set_printoptions(precision=1)\n",
    "\n",
    "# Plot non-normalized confusion matrix\n",
    "plot_confusion_matrix(y_test, y_pred_acc, classes=labels,\n",
    "                      title='Adaboost Grid Search Confusion matrix')\n",
    "\n",
    "plt.show()\n",
    "\n",
    "# #Logistic Regression (Grid Search) Confusion matrix\n",
    "# confusion_matrix(y_test,y_pred_acc)"
   ]
  },
  {
   "cell_type": "markdown",
   "metadata": {},
   "source": [
    "## Test Modeling"
   ]
  },
  {
   "cell_type": "code",
   "execution_count": 90,
   "metadata": {},
   "outputs": [],
   "source": [
    "test_pred_proba = dt_grid_search_ada.predict_proba(no_symtest)\n",
    "test = X_test.reset_index()\n",
    "test = test.set_index(['Quarter end', 'symbol'])\n",
    "predictions = pd.DataFrame(test_pred_proba,index=test.index,columns = ['Growth', 'Value'])\n",
    "predictions = predictions.reset_index()\n",
    "predictions = predictions.set_index('Quarter end')"
   ]
  },
  {
   "cell_type": "code",
   "execution_count": 129,
   "metadata": {},
   "outputs": [
    {
     "name": "stdout",
     "output_type": "stream",
     "text": [
      "Input a Stock to know if it is Growth or Value: nke\n",
      "Through our fundamental anaylsis: NKE is a Growth Stock\n"
     ]
    }
   ],
   "source": [
    "stockz = input('Input a Stock to know if it is Growth or Value: ').upper()\n",
    "test = predictions[predictions['symbol'] == stockz]\n",
    "growth = test['Growth'].sum()\n",
    "value = test['Value'].sum()\n",
    "if growth > value:\n",
    "    print(f'Through our fundamental anaylsis: {stockz} is a Growth Stock')\n",
    "else:\n",
    "    print(f'Through our fundamental anaylsis: {stockz} is a Value Stock')"
   ]
  },
  {
   "cell_type": "code",
   "execution_count": 160,
   "metadata": {
    "collapsed": true
   },
   "outputs": [
    {
     "name": "stdout",
     "output_type": "stream",
     "text": [
      "Through our fundamental anaylsis: A is a Value Stock\n",
      "Through our fundamental anaylsis: AAN is a Growth Stock\n",
      "Through our fundamental anaylsis: AAP is a Growth Stock\n",
      "Through our fundamental anaylsis: AAPL is a Growth Stock\n",
      "Through our fundamental anaylsis: ABBV is a Growth Stock\n",
      "Through our fundamental anaylsis: ABC is a Growth Stock\n",
      "Through our fundamental anaylsis: ABMD is a Value Stock\n",
      "Through our fundamental anaylsis: ABT is a Growth Stock\n",
      "Through our fundamental anaylsis: ACC is a Value Stock\n",
      "Through our fundamental anaylsis: ACIW is a Value Stock\n",
      "Through our fundamental anaylsis: ACM is a Value Stock\n",
      "Through our fundamental anaylsis: ACN is a Growth Stock\n",
      "Through our fundamental anaylsis: ADBE is a Value Stock\n",
      "Through our fundamental anaylsis: ADI is a Growth Stock\n",
      "Through our fundamental anaylsis: ADM is a Growth Stock\n",
      "Through our fundamental anaylsis: ADP is a Growth Stock\n",
      "Through our fundamental anaylsis: ADS is a Value Stock\n",
      "Through our fundamental anaylsis: ADSK is a Value Stock\n",
      "Through our fundamental anaylsis: ADT is a Value Stock\n",
      "Through our fundamental anaylsis: AEE is a Growth Stock\n",
      "Through our fundamental anaylsis: AEO is a Growth Stock\n",
      "Through our fundamental anaylsis: AEP is a Growth Stock\n",
      "Through our fundamental anaylsis: AES is a Value Stock\n",
      "Through our fundamental anaylsis: AFG is a Growth Stock\n",
      "Through our fundamental anaylsis: AFL is a Growth Stock\n",
      "Through our fundamental anaylsis: AGCO is a Growth Stock\n",
      "Through our fundamental anaylsis: AGN is a Value Stock\n",
      "Through our fundamental anaylsis: AIG is a Value Stock\n",
      "Through our fundamental anaylsis: AIV is a Value Stock\n",
      "Through our fundamental anaylsis: AIZ is a Growth Stock\n",
      "Through our fundamental anaylsis: AJG is a Growth Stock\n",
      "Through our fundamental anaylsis: AKAM is a Value Stock\n",
      "Through our fundamental anaylsis: AKRX is a Value Stock\n",
      "Through our fundamental anaylsis: ALB is a Growth Stock\n",
      "Through our fundamental anaylsis: ALEX is a Value Stock\n",
      "Through our fundamental anaylsis: ALGN is a Value Stock\n",
      "Through our fundamental anaylsis: ALK is a Growth Stock\n",
      "Through our fundamental anaylsis: ALL is a Growth Stock\n",
      "Through our fundamental anaylsis: ALLE is a Value Stock\n",
      "Through our fundamental anaylsis: ALTR is a Value Stock\n",
      "Through our fundamental anaylsis: ALXN is a Value Stock\n",
      "Through our fundamental anaylsis: AMAT is a Value Stock\n",
      "Through our fundamental anaylsis: AMCX is a Growth Stock\n",
      "Through our fundamental anaylsis: AMD is a Value Stock\n",
      "Through our fundamental anaylsis: AME is a Growth Stock\n",
      "Through our fundamental anaylsis: AMG is a Value Stock\n",
      "Through our fundamental anaylsis: AMGN is a Growth Stock\n",
      "Through our fundamental anaylsis: AMP is a Growth Stock\n",
      "Through our fundamental anaylsis: AMSC is a Value Stock\n",
      "Through our fundamental anaylsis: AMT is a Value Stock\n",
      "Through our fundamental anaylsis: AMZN is a Value Stock\n",
      "Through our fundamental anaylsis: AN is a Growth Stock\n",
      "Through our fundamental anaylsis: ANF is a Value Stock\n",
      "Through our fundamental anaylsis: ANSS is a Value Stock\n",
      "Through our fundamental anaylsis: AOS is a Growth Stock\n",
      "Through our fundamental anaylsis: APA is a Growth Stock\n",
      "Through our fundamental anaylsis: APD is a Growth Stock\n",
      "Through our fundamental anaylsis: APH is a Growth Stock\n",
      "Through our fundamental anaylsis: ARE is a Value Stock\n",
      "Through our fundamental anaylsis: AA is a Growth Stock\n",
      "Through our fundamental anaylsis: ARRS is a Value Stock\n",
      "Through our fundamental anaylsis: ARW is a Growth Stock\n",
      "Through our fundamental anaylsis: ASH is a Growth Stock\n",
      "Through our fundamental anaylsis: ATI is a Growth Stock\n",
      "Through our fundamental anaylsis: ATVI is a Value Stock\n",
      "Through our fundamental anaylsis: AVB is a Growth Stock\n",
      "Through our fundamental anaylsis: AVGO is a Value Stock\n",
      "Through our fundamental anaylsis: AVP is a Value Stock\n",
      "Through our fundamental anaylsis: AVY is a Growth Stock\n",
      "Through our fundamental anaylsis: AWK is a Growth Stock\n",
      "Through our fundamental anaylsis: AXP is a Growth Stock\n",
      "Through our fundamental anaylsis: AYI is a Growth Stock\n",
      "Through our fundamental anaylsis: AZO is a Growth Stock\n",
      "Through our fundamental anaylsis: BA is a Growth Stock\n",
      "Through our fundamental anaylsis: BAC is a Growth Stock\n",
      "Through our fundamental anaylsis: BAX is a Growth Stock\n",
      "Through our fundamental anaylsis: BBBY is a Growth Stock\n",
      "Through our fundamental anaylsis: BBT is a Growth Stock\n",
      "Through our fundamental anaylsis: BBY is a Growth Stock\n",
      "Through our fundamental anaylsis: BC is a Growth Stock\n",
      "Through our fundamental anaylsis: BDX is a Growth Stock\n",
      "Through our fundamental anaylsis: BEN is a Growth Stock\n",
      "Through our fundamental anaylsis: BHF is a Value Stock\n",
      "Through our fundamental anaylsis: BIG is a Growth Stock\n",
      "Through our fundamental anaylsis: BIIB is a Value Stock\n",
      "Through our fundamental anaylsis: BK is a Growth Stock\n",
      "Through our fundamental anaylsis: BKE is a Growth Stock\n",
      "Through our fundamental anaylsis: BLK is a Growth Stock\n",
      "Through our fundamental anaylsis: BLL is a Growth Stock\n",
      "Through our fundamental anaylsis: BMY is a Growth Stock\n",
      "Through our fundamental anaylsis: BSX is a Value Stock\n",
      "Through our fundamental anaylsis: BTU is a Value Stock\n",
      "Through our fundamental anaylsis: BUD is a Growth Stock\n",
      "Through our fundamental anaylsis: BWA is a Growth Stock\n",
      "Through our fundamental anaylsis: BXP is a Value Stock\n",
      "Through our fundamental anaylsis: C is a Growth Stock\n",
      "Through our fundamental anaylsis: CAG is a Growth Stock\n",
      "Through our fundamental anaylsis: CAH is a Growth Stock\n",
      "Through our fundamental anaylsis: CAT is a Growth Stock\n",
      "Through our fundamental anaylsis: CB is a Growth Stock\n",
      "Through our fundamental anaylsis: CBOE is a Value Stock\n",
      "Through our fundamental anaylsis: CBS is a Value Stock\n",
      "Through our fundamental anaylsis: CCI is a Value Stock\n",
      "Through our fundamental anaylsis: CCL is a Growth Stock\n",
      "Through our fundamental anaylsis: CCU is a Value Stock\n",
      "Through our fundamental anaylsis: CDNS is a Value Stock\n",
      "Through our fundamental anaylsis: CELG is a Value Stock\n",
      "Through our fundamental anaylsis: CERN is a Value Stock\n",
      "Through our fundamental anaylsis: CF is a Growth Stock\n",
      "Through our fundamental anaylsis: CFG is a Growth Stock\n",
      "Through our fundamental anaylsis: CHD is a Growth Stock\n",
      "Through our fundamental anaylsis: CHK is a Growth Stock\n",
      "Through our fundamental anaylsis: CHRW is a Value Stock\n",
      "Through our fundamental anaylsis: CI is a Growth Stock\n",
      "Through our fundamental anaylsis: CIEN is a Value Stock\n",
      "Through our fundamental anaylsis: CINF is a Growth Stock\n",
      "Through our fundamental anaylsis: CIT is a Growth Stock\n",
      "Through our fundamental anaylsis: CL is a Growth Stock\n",
      "Through our fundamental anaylsis: CLF is a Value Stock\n",
      "Through our fundamental anaylsis: CLX is a Growth Stock\n",
      "Through our fundamental anaylsis: CMA is a Growth Stock\n",
      "Through our fundamental anaylsis: CME is a Value Stock\n",
      "Through our fundamental anaylsis: CMG is a Value Stock\n",
      "Through our fundamental anaylsis: CMI is a Growth Stock\n",
      "Through our fundamental anaylsis: CMS is a Value Stock\n",
      "Through our fundamental anaylsis: CNC is a Growth Stock\n",
      "Through our fundamental anaylsis: CNO is a Growth Stock\n",
      "Through our fundamental anaylsis: CNP is a Growth Stock\n",
      "Through our fundamental anaylsis: CNX is a Growth Stock\n",
      "Through our fundamental anaylsis: COF is a Growth Stock\n",
      "Through our fundamental anaylsis: COG is a Value Stock\n",
      "Through our fundamental anaylsis: COO is a Growth Stock\n",
      "Through our fundamental anaylsis: COP is a Growth Stock\n",
      "Through our fundamental anaylsis: COST is a Value Stock\n",
      "Through our fundamental anaylsis: COTY is a Value Stock\n",
      "Through our fundamental anaylsis: CPB is a Growth Stock\n",
      "Through our fundamental anaylsis: CR is a Growth Stock\n",
      "Through our fundamental anaylsis: CRM is a Value Stock\n",
      "Through our fundamental anaylsis: CRVL is a Growth Stock\n",
      "Through our fundamental anaylsis: CSCO is a Growth Stock\n",
      "Through our fundamental anaylsis: CSX is a Growth Stock\n",
      "Through our fundamental anaylsis: CTAS is a Growth Stock\n",
      "Through our fundamental anaylsis: CTL is a Growth Stock\n",
      "Through our fundamental anaylsis: CTSH is a Value Stock\n",
      "Through our fundamental anaylsis: CTXS is a Value Stock\n",
      "Through our fundamental anaylsis: CVS is a Growth Stock\n",
      "Through our fundamental anaylsis: CVX is a Growth Stock\n",
      "Through our fundamental anaylsis: CXO is a Value Stock\n",
      "Through our fundamental anaylsis: D is a Growth Stock\n",
      "Through our fundamental anaylsis: DAL is a Value Stock\n",
      "Through our fundamental anaylsis: DCI is a Growth Stock\n",
      "Through our fundamental anaylsis: DD is a Growth Stock\n",
      "Through our fundamental anaylsis: DDS is a Growth Stock\n",
      "Through our fundamental anaylsis: DE is a Growth Stock\n",
      "Through our fundamental anaylsis: DELL is a Value Stock\n",
      "Through our fundamental anaylsis: DF is a Growth Stock\n",
      "Through our fundamental anaylsis: DFS is a Growth Stock\n",
      "Through our fundamental anaylsis: DG is a Growth Stock\n",
      "Through our fundamental anaylsis: DGX is a Growth Stock\n",
      "Through our fundamental anaylsis: DHI is a Growth Stock\n",
      "Through our fundamental anaylsis: DHR is a Growth Stock\n",
      "Through our fundamental anaylsis: DIS is a Growth Stock\n",
      "Through our fundamental anaylsis: DISH is a Value Stock\n",
      "Through our fundamental anaylsis: DLPH is a Growth Stock\n",
      "Through our fundamental anaylsis: DLR is a Value Stock\n",
      "Through our fundamental anaylsis: DLTR is a Growth Stock\n",
      "Through our fundamental anaylsis: DNR is a Growth Stock\n",
      "Through our fundamental anaylsis: DO is a Growth Stock\n",
      "Through our fundamental anaylsis: DOV is a Growth Stock\n",
      "Through our fundamental anaylsis: DRE is a Growth Stock\n",
      "Through our fundamental anaylsis: DRI is a Growth Stock\n",
      "Through our fundamental anaylsis: DTE is a Growth Stock\n",
      "Through our fundamental anaylsis: DTV is a Growth Stock\n",
      "Through our fundamental anaylsis: DUK is a Growth Stock\n",
      "Through our fundamental anaylsis: DVA is a Growth Stock\n",
      "Through our fundamental anaylsis: DVN is a Growth Stock\n",
      "Through our fundamental anaylsis: DOW is a Growth Stock\n",
      "Through our fundamental anaylsis: EBAY is a Growth Stock\n",
      "Through our fundamental anaylsis: ECL is a Value Stock\n",
      "Through our fundamental anaylsis: ED is a Growth Stock\n",
      "Through our fundamental anaylsis: EFX is a Growth Stock\n",
      "Through our fundamental anaylsis: EIX is a Growth Stock\n",
      "Through our fundamental anaylsis: EL is a Value Stock\n",
      "Through our fundamental anaylsis: EMN is a Growth Stock\n",
      "Through our fundamental anaylsis: EMR is a Growth Stock\n",
      "Through our fundamental anaylsis: ENDP is a Value Stock\n",
      "Through our fundamental anaylsis: EOG is a Growth Stock\n",
      "Through our fundamental anaylsis: EQ is a Growth Stock\n",
      "Through our fundamental anaylsis: EQIX is a Value Stock\n",
      "Through our fundamental anaylsis: EQR is a Growth Stock\n",
      "Through our fundamental anaylsis: EQT is a Growth Stock\n",
      "Through our fundamental anaylsis: ESS is a Value Stock\n",
      "Through our fundamental anaylsis: ETFC is a Value Stock\n",
      "Through our fundamental anaylsis: ETN is a Growth Stock\n",
      "Through our fundamental anaylsis: ETR is a Growth Stock\n",
      "Through our fundamental anaylsis: EW is a Value Stock\n",
      "Through our fundamental anaylsis: EXC is a Growth Stock\n",
      "Through our fundamental anaylsis: EXPD is a Growth Stock\n",
      "Through our fundamental anaylsis: EXPE is a Value Stock\n",
      "Through our fundamental anaylsis: EXR is a Value Stock\n",
      "Through our fundamental anaylsis: F is a Growth Stock\n",
      "Through our fundamental anaylsis: FAST is a Value Stock\n",
      "Through our fundamental anaylsis: FB is a Value Stock\n",
      "Through our fundamental anaylsis: FBHS is a Value Stock\n",
      "Through our fundamental anaylsis: FCX is a Growth Stock\n",
      "Through our fundamental anaylsis: FDS is a Value Stock\n",
      "Through our fundamental anaylsis: FDX is a Growth Stock\n",
      "Through our fundamental anaylsis: FE is a Growth Stock\n",
      "Through our fundamental anaylsis: FFIV is a Value Stock\n",
      "Through our fundamental anaylsis: FHN is a Value Stock\n",
      "Through our fundamental anaylsis: FII is a Growth Stock\n",
      "Through our fundamental anaylsis: FIS is a Value Stock\n",
      "Through our fundamental anaylsis: FISV is a Growth Stock\n",
      "Through our fundamental anaylsis: FITB is a Growth Stock\n",
      "Through our fundamental anaylsis: FL is a Growth Stock\n",
      "Through our fundamental anaylsis: FLIR is a Growth Stock\n",
      "Through our fundamental anaylsis: FLR is a Growth Stock\n",
      "Through our fundamental anaylsis: FLS is a Growth Stock\n",
      "Through our fundamental anaylsis: FMC is a Growth Stock\n",
      "Through our fundamental anaylsis: FOSL is a Growth Stock\n",
      "Through our fundamental anaylsis: NWS is a Growth Stock\n",
      "Through our fundamental anaylsis: FRT is a Value Stock\n",
      "Through our fundamental anaylsis: FSLR is a Value Stock\n",
      "Through our fundamental anaylsis: FTI is a Growth Stock\n",
      "Through our fundamental anaylsis: FTV is a Growth Stock\n",
      "Through our fundamental anaylsis: GCI is a Value Stock\n",
      "Through our fundamental anaylsis: GD is a Growth Stock\n",
      "Through our fundamental anaylsis: GE is a Growth Stock\n",
      "Through our fundamental anaylsis: GILD is a Value Stock\n",
      "Through our fundamental anaylsis: GIS is a Growth Stock\n",
      "Through our fundamental anaylsis: GLAD is a Growth Stock\n",
      "Through our fundamental anaylsis: GLW is a Growth Stock\n",
      "Through our fundamental anaylsis: GM is a Growth Stock\n",
      "Through our fundamental anaylsis: GME is a Growth Stock\n",
      "Through our fundamental anaylsis: GNW is a Value Stock\n",
      "Through our fundamental anaylsis: GOOG is a Value Stock\n",
      "Through our fundamental anaylsis: GPC is a Growth Stock\n",
      "Through our fundamental anaylsis: GPN is a Value Stock\n",
      "Through our fundamental anaylsis: GPS is a Growth Stock\n",
      "Through our fundamental anaylsis: GRA is a Value Stock\n",
      "Through our fundamental anaylsis: GRMN is a Growth Stock\n",
      "Through our fundamental anaylsis: GS is a Growth Stock\n",
      "Through our fundamental anaylsis: GT is a Value Stock\n",
      "Through our fundamental anaylsis: GWW is a Growth Stock\n",
      "Through our fundamental anaylsis: HAL is a Value Stock\n",
      "Through our fundamental anaylsis: HAS is a Growth Stock\n",
      "Through our fundamental anaylsis: HBAN is a Growth Stock\n",
      "Through our fundamental anaylsis: HBI is a Value Stock\n",
      "Through our fundamental anaylsis: HCA is a Growth Stock\n"
     ]
    },
    {
     "name": "stdout",
     "output_type": "stream",
     "text": [
      "Through our fundamental anaylsis: HCP is a Growth Stock\n",
      "Through our fundamental anaylsis: HD is a Growth Stock\n",
      "Through our fundamental anaylsis: HES is a Growth Stock\n",
      "Through our fundamental anaylsis: HIBB is a Growth Stock\n",
      "Through our fundamental anaylsis: HIG is a Growth Stock\n",
      "Through our fundamental anaylsis: HLT is a Growth Stock\n",
      "Through our fundamental anaylsis: HOG is a Growth Stock\n",
      "Through our fundamental anaylsis: HOLX is a Value Stock\n",
      "Through our fundamental anaylsis: HON is a Growth Stock\n",
      "Through our fundamental anaylsis: HP is a Growth Stock\n",
      "Through our fundamental anaylsis: HPE is a Value Stock\n",
      "Through our fundamental anaylsis: HPQ is a Growth Stock\n",
      "Through our fundamental anaylsis: HRB is a Growth Stock\n",
      "Through our fundamental anaylsis: HRL is a Growth Stock\n",
      "Through our fundamental anaylsis: HSIC is a Growth Stock\n",
      "Through our fundamental anaylsis: HST is a Value Stock\n",
      "Through our fundamental anaylsis: HSY is a Growth Stock\n",
      "Through our fundamental anaylsis: HUM is a Growth Stock\n",
      "Through our fundamental anaylsis: IBM is a Growth Stock\n",
      "Through our fundamental anaylsis: ICE is a Growth Stock\n",
      "Through our fundamental anaylsis: IDXX is a Value Stock\n",
      "Through our fundamental anaylsis: IFF is a Growth Stock\n",
      "Through our fundamental anaylsis: IGT is a Growth Stock\n",
      "Through our fundamental anaylsis: ILMN is a Value Stock\n",
      "Through our fundamental anaylsis: INCY is a Value Stock\n",
      "Through our fundamental anaylsis: INFO is a Value Stock\n",
      "Through our fundamental anaylsis: INTC is a Growth Stock\n",
      "Through our fundamental anaylsis: INTU is a Value Stock\n",
      "Through our fundamental anaylsis: IP is a Growth Stock\n",
      "Through our fundamental anaylsis: IPG is a Growth Stock\n",
      "Through our fundamental anaylsis: IR is a Growth Stock\n",
      "Through our fundamental anaylsis: IRM is a Value Stock\n",
      "Through our fundamental anaylsis: ISRG is a Value Stock\n",
      "Through our fundamental anaylsis: IT is a Value Stock\n",
      "Through our fundamental anaylsis: ITT is a Growth Stock\n",
      "Through our fundamental anaylsis: ITW is a Growth Stock\n",
      "Through our fundamental anaylsis: IVZ is a Growth Stock\n",
      "Through our fundamental anaylsis: JBHT is a Growth Stock\n",
      "Through our fundamental anaylsis: JBL is a Value Stock\n",
      "Through our fundamental anaylsis: JCI is a Growth Stock\n",
      "Through our fundamental anaylsis: JCP is a Value Stock\n",
      "Through our fundamental anaylsis: JEC is a Growth Stock\n",
      "Through our fundamental anaylsis: JNJ is a Growth Stock\n",
      "Through our fundamental anaylsis: JNPR is a Value Stock\n",
      "Through our fundamental anaylsis: JPM is a Growth Stock\n",
      "Through our fundamental anaylsis: JWN is a Growth Stock\n",
      "Through our fundamental anaylsis: K is a Growth Stock\n",
      "Through our fundamental anaylsis: KBH is a Growth Stock\n",
      "Through our fundamental anaylsis: KEY is a Growth Stock\n",
      "Through our fundamental anaylsis: KHC is a Value Stock\n",
      "Through our fundamental anaylsis: KIM is a Growth Stock\n",
      "Through our fundamental anaylsis: KLAC is a Growth Stock\n",
      "Through our fundamental anaylsis: KMB is a Growth Stock\n",
      "Through our fundamental anaylsis: KMI is a Value Stock\n",
      "Through our fundamental anaylsis: KMX is a Growth Stock\n",
      "Through our fundamental anaylsis: KO is a Growth Stock\n",
      "Through our fundamental anaylsis: KR is a Growth Stock\n",
      "Through our fundamental anaylsis: KSS is a Growth Stock\n",
      "Through our fundamental anaylsis: KSU is a Growth Stock\n",
      "Through our fundamental anaylsis: LEG is a Growth Stock\n",
      "Through our fundamental anaylsis: LEN is a Growth Stock\n",
      "Through our fundamental anaylsis: LH is a Growth Stock\n",
      "Through our fundamental anaylsis: LIFE is a Value Stock\n",
      "Through our fundamental anaylsis: LKQ is a Growth Stock\n",
      "Through our fundamental anaylsis: LLY is a Growth Stock\n",
      "Through our fundamental anaylsis: LM is a Growth Stock\n",
      "Through our fundamental anaylsis: LMT is a Growth Stock\n",
      "Through our fundamental anaylsis: LNC is a Growth Stock\n",
      "Through our fundamental anaylsis: LNT is a Growth Stock\n",
      "Through our fundamental anaylsis: LOW is a Growth Stock\n",
      "Through our fundamental anaylsis: LRCX is a Value Stock\n",
      "Through our fundamental anaylsis: LSI is a Value Stock\n",
      "Through our fundamental anaylsis: LSTR is a Growth Stock\n",
      "Through our fundamental anaylsis: LUV is a Growth Stock\n",
      "Through our fundamental anaylsis: LYB is a Growth Stock\n",
      "Through our fundamental anaylsis: M is a Growth Stock\n",
      "Through our fundamental anaylsis: MA is a Value Stock\n",
      "Through our fundamental anaylsis: MAA is a Value Stock\n",
      "Through our fundamental anaylsis: MAC is a Value Stock\n",
      "Through our fundamental anaylsis: MAR is a Growth Stock\n",
      "Through our fundamental anaylsis: MAS is a Value Stock\n",
      "Through our fundamental anaylsis: MAT is a Growth Stock\n",
      "Through our fundamental anaylsis: MBI is a Value Stock\n",
      "Through our fundamental anaylsis: MCD is a Growth Stock\n",
      "Through our fundamental anaylsis: MCHP is a Value Stock\n",
      "Through our fundamental anaylsis: MCK is a Growth Stock\n",
      "Through our fundamental anaylsis: MCO is a Growth Stock\n",
      "Through our fundamental anaylsis: MDP is a Growth Stock\n",
      "Through our fundamental anaylsis: MDT is a Value Stock\n",
      "Through our fundamental anaylsis: MED is a Value Stock\n",
      "Through our fundamental anaylsis: MET is a Growth Stock\n",
      "Through our fundamental anaylsis: MGM is a Value Stock\n",
      "Through our fundamental anaylsis: MHK is a Growth Stock\n",
      "Through our fundamental anaylsis: MKC is a Growth Stock\n",
      "Through our fundamental anaylsis: MLM is a Value Stock\n",
      "Through our fundamental anaylsis: MMC is a Growth Stock\n",
      "Through our fundamental anaylsis: MMM is a Growth Stock\n",
      "Through our fundamental anaylsis: MNK is a Growth Stock\n",
      "Through our fundamental anaylsis: MNST is a Value Stock\n",
      "Through our fundamental anaylsis: MO is a Growth Stock\n",
      "Through our fundamental anaylsis: MOS is a Growth Stock\n",
      "Through our fundamental anaylsis: MPC is a Growth Stock\n",
      "Through our fundamental anaylsis: MRK is a Growth Stock\n",
      "Through our fundamental anaylsis: MRO is a Growth Stock\n",
      "Through our fundamental anaylsis: MS is a Growth Stock\n",
      "Through our fundamental anaylsis: MSFT is a Value Stock\n",
      "Through our fundamental anaylsis: MTB is a Growth Stock\n",
      "Through our fundamental anaylsis: MTD is a Growth Stock\n",
      "Through our fundamental anaylsis: MTG is a Growth Stock\n",
      "Through our fundamental anaylsis: MTW is a Value Stock\n",
      "Through our fundamental anaylsis: MU is a Value Stock\n",
      "Through our fundamental anaylsis: MUR is a Growth Stock\n",
      "Through our fundamental anaylsis: MYL is a Growth Stock\n",
      "Through our fundamental anaylsis: NAV is a Value Stock\n",
      "Through our fundamental anaylsis: NAVI is a Growth Stock\n",
      "Through our fundamental anaylsis: NBL is a Growth Stock\n",
      "Through our fundamental anaylsis: NBR is a Value Stock\n",
      "Through our fundamental anaylsis: NCLH is a Growth Stock\n",
      "Through our fundamental anaylsis: NDAQ is a Growth Stock\n",
      "Through our fundamental anaylsis: NE is a Growth Stock\n",
      "Through our fundamental anaylsis: FPL is a Growth Stock\n",
      "Through our fundamental anaylsis: NEM is a Value Stock\n",
      "Through our fundamental anaylsis: NFLX is a Value Stock\n",
      "Through our fundamental anaylsis: NI is a Growth Stock\n",
      "Through our fundamental anaylsis: NKE is a Growth Stock\n",
      "Through our fundamental anaylsis: NLSN is a Value Stock\n",
      "Through our fundamental anaylsis: NOC is a Growth Stock\n",
      "Through our fundamental anaylsis: NOV is a Growth Stock\n",
      "Through our fundamental anaylsis: NRG is a Growth Stock\n",
      "Through our fundamental anaylsis: NSC is a Growth Stock\n",
      "Through our fundamental anaylsis: NTAP is a Value Stock\n",
      "Through our fundamental anaylsis: NTRS is a Growth Stock\n",
      "Through our fundamental anaylsis: NUE is a Growth Stock\n",
      "Through our fundamental anaylsis: NUS is a Growth Stock\n",
      "Through our fundamental anaylsis: NVDA is a Value Stock\n",
      "Through our fundamental anaylsis: NWL is a Value Stock\n",
      "Through our fundamental anaylsis: NYT is a Value Stock\n",
      "Through our fundamental anaylsis: O is a Value Stock\n",
      "Through our fundamental anaylsis: ODP is a Growth Stock\n",
      "Through our fundamental anaylsis: OFLX is a Value Stock\n",
      "Through our fundamental anaylsis: OI is a Value Stock\n",
      "Through our fundamental anaylsis: OKE is a Growth Stock\n",
      "Through our fundamental anaylsis: OMC is a Growth Stock\n",
      "Through our fundamental anaylsis: ORCL is a Growth Stock\n",
      "Through our fundamental anaylsis: ORLY is a Growth Stock\n",
      "Through our fundamental anaylsis: OXY is a Growth Stock\n",
      "Through our fundamental anaylsis: PAYX is a Value Stock\n",
      "Through our fundamental anaylsis: PBCT is a Growth Stock\n",
      "Through our fundamental anaylsis: PBI is a Growth Stock\n",
      "Through our fundamental anaylsis: PCAR is a Growth Stock\n",
      "Through our fundamental anaylsis: PCG is a Growth Stock\n",
      "Through our fundamental anaylsis: PDCO is a Growth Stock\n",
      "Through our fundamental anaylsis: PEG is a Growth Stock\n",
      "Through our fundamental anaylsis: PEP is a Growth Stock\n",
      "Through our fundamental anaylsis: PETS is a Growth Stock\n",
      "Through our fundamental anaylsis: PFE is a Growth Stock\n",
      "Through our fundamental anaylsis: PFG is a Growth Stock\n",
      "Through our fundamental anaylsis: PFIE is a Value Stock\n",
      "Through our fundamental anaylsis: PG is a Growth Stock\n",
      "Through our fundamental anaylsis: PGR is a Growth Stock\n",
      "Through our fundamental anaylsis: PH is a Growth Stock\n",
      "Through our fundamental anaylsis: PHM is a Growth Stock\n",
      "Through our fundamental anaylsis: PKG is a Growth Stock\n",
      "Through our fundamental anaylsis: PKI is a Value Stock\n",
      "Through our fundamental anaylsis: PLD is a Value Stock\n",
      "Through our fundamental anaylsis: PLL is a Growth Stock\n",
      "Through our fundamental anaylsis: PM is a Growth Stock\n",
      "Through our fundamental anaylsis: PNC is a Growth Stock\n",
      "Through our fundamental anaylsis: PNR is a Growth Stock\n",
      "Through our fundamental anaylsis: PNW is a Growth Stock\n",
      "Through our fundamental anaylsis: PPG is a Growth Stock\n",
      "Through our fundamental anaylsis: PPL is a Growth Stock\n",
      "Through our fundamental anaylsis: PRGO is a Value Stock\n",
      "Through our fundamental anaylsis: PRU is a Growth Stock\n"
     ]
    },
    {
     "name": "stdout",
     "output_type": "stream",
     "text": [
      "Through our fundamental anaylsis: PSA is a Value Stock\n",
      "Through our fundamental anaylsis: PSX is a Growth Stock\n",
      "Through our fundamental anaylsis: PVH is a Growth Stock\n",
      "Through our fundamental anaylsis: PWR is a Growth Stock\n",
      "Through our fundamental anaylsis: PXD is a Growth Stock\n",
      "Through our fundamental anaylsis: PYPL is a Value Stock\n",
      "Through our fundamental anaylsis: QCOM is a Growth Stock\n",
      "Through our fundamental anaylsis: QRVO is a Value Stock\n",
      "Through our fundamental anaylsis: R is a Growth Stock\n",
      "Through our fundamental anaylsis: RAD is a Value Stock\n",
      "Through our fundamental anaylsis: RAVN is a Growth Stock\n",
      "Through our fundamental anaylsis: RCL is a Growth Stock\n",
      "Through our fundamental anaylsis: RE is a Growth Stock\n",
      "Through our fundamental anaylsis: REG is a Value Stock\n",
      "Through our fundamental anaylsis: REGN is a Value Stock\n",
      "Through our fundamental anaylsis: RF is a Growth Stock\n",
      "Through our fundamental anaylsis: RHI is a Value Stock\n",
      "Through our fundamental anaylsis: RIG is a Value Stock\n",
      "Through our fundamental anaylsis: RJF is a Growth Stock\n",
      "Through our fundamental anaylsis: RL is a Growth Stock\n",
      "Through our fundamental anaylsis: RMD is a Value Stock\n",
      "Through our fundamental anaylsis: ROK is a Growth Stock\n",
      "Through our fundamental anaylsis: ROP is a Value Stock\n",
      "Through our fundamental anaylsis: ROST is a Growth Stock\n",
      "Through our fundamental anaylsis: RRC is a Value Stock\n",
      "Through our fundamental anaylsis: RRD is a Value Stock\n",
      "Through our fundamental anaylsis: RSG is a Growth Stock\n",
      "Through our fundamental anaylsis: RTN is a Growth Stock\n",
      "Through our fundamental anaylsis: S is a Value Stock\n",
      "Through our fundamental anaylsis: SAM is a Value Stock\n",
      "Through our fundamental anaylsis: SANM is a Value Stock\n",
      "Through our fundamental anaylsis: SBAC is a Value Stock\n",
      "Through our fundamental anaylsis: SBUX is a Value Stock\n",
      "Through our fundamental anaylsis: SCHW is a Value Stock\n",
      "Through our fundamental anaylsis: SE is a Growth Stock\n",
      "Through our fundamental anaylsis: SEE is a Value Stock\n",
      "Through our fundamental anaylsis: SHW is a Growth Stock\n",
      "Through our fundamental anaylsis: SIG is a Growth Stock\n",
      "Through our fundamental anaylsis: SJM is a Growth Stock\n",
      "Through our fundamental anaylsis: SLB is a Value Stock\n",
      "Through our fundamental anaylsis: SLG is a Growth Stock\n",
      "Through our fundamental anaylsis: SLM is a Growth Stock\n",
      "Through our fundamental anaylsis: SNA is a Growth Stock\n",
      "Through our fundamental anaylsis: SNPS is a Value Stock\n",
      "Through our fundamental anaylsis: SO is a Growth Stock\n",
      "Through our fundamental anaylsis: SPG is a Value Stock\n",
      "Through our fundamental anaylsis: SRCL is a Value Stock\n",
      "Through our fundamental anaylsis: SRE is a Growth Stock\n",
      "Through our fundamental anaylsis: SSP is a Value Stock\n",
      "Through our fundamental anaylsis: STI is a Growth Stock\n",
      "Through our fundamental anaylsis: STT is a Growth Stock\n",
      "Through our fundamental anaylsis: STX is a Growth Stock\n",
      "Through our fundamental anaylsis: STZ is a Growth Stock\n",
      "Through our fundamental anaylsis: SUN is a Growth Stock\n",
      "Through our fundamental anaylsis: SWK is a Growth Stock\n",
      "Through our fundamental anaylsis: SWKS is a Growth Stock\n",
      "Through our fundamental anaylsis: SWN is a Growth Stock\n",
      "Through our fundamental anaylsis: SYF is a Growth Stock\n",
      "Through our fundamental anaylsis: SYK is a Value Stock\n",
      "Through our fundamental anaylsis: SYMC is a Value Stock\n",
      "Through our fundamental anaylsis: SYY is a Growth Stock\n",
      "Through our fundamental anaylsis: T is a Growth Stock\n",
      "Through our fundamental anaylsis: TAP is a Growth Stock\n",
      "Through our fundamental anaylsis: TDC is a Value Stock\n",
      "Through our fundamental anaylsis: TDG is a Value Stock\n",
      "Through our fundamental anaylsis: TEL is a Growth Stock\n",
      "Through our fundamental anaylsis: TER is a Value Stock\n",
      "Through our fundamental anaylsis: TEX is a Growth Stock\n",
      "Through our fundamental anaylsis: TGT is a Growth Stock\n",
      "Through our fundamental anaylsis: THC is a Value Stock\n",
      "Through our fundamental anaylsis: TIF is a Growth Stock\n",
      "Through our fundamental anaylsis: TJX is a Growth Stock\n",
      "Through our fundamental anaylsis: TKR is a Growth Stock\n",
      "Through our fundamental anaylsis: TMO is a Value Stock\n",
      "Through our fundamental anaylsis: TRIP is a Value Stock\n",
      "Through our fundamental anaylsis: TROW is a Growth Stock\n",
      "Through our fundamental anaylsis: TRV is a Growth Stock\n",
      "Through our fundamental anaylsis: TSCO is a Growth Stock\n",
      "Through our fundamental anaylsis: TSLA is a Value Stock\n",
      "Through our fundamental anaylsis: TSN is a Growth Stock\n",
      "Through our fundamental anaylsis: TSS is a Value Stock\n",
      "Through our fundamental anaylsis: TWTR is a Value Stock\n",
      "Through our fundamental anaylsis: TXN is a Growth Stock\n",
      "Through our fundamental anaylsis: TXT is a Growth Stock\n",
      "Through our fundamental anaylsis: UA is a Value Stock\n",
      "Through our fundamental anaylsis: UAL is a Value Stock\n",
      "Through our fundamental anaylsis: UDR is a Value Stock\n",
      "Through our fundamental anaylsis: UG is a Growth Stock\n",
      "Through our fundamental anaylsis: UHS is a Growth Stock\n",
      "Through our fundamental anaylsis: UIS is a Growth Stock\n",
      "Through our fundamental anaylsis: ULTA is a Value Stock\n",
      "Through our fundamental anaylsis: UNH is a Growth Stock\n",
      "Through our fundamental anaylsis: UNM is a Growth Stock\n",
      "Through our fundamental anaylsis: UNP is a Growth Stock\n",
      "Through our fundamental anaylsis: UPS is a Growth Stock\n",
      "Through our fundamental anaylsis: URBN is a Growth Stock\n",
      "Through our fundamental anaylsis: URI is a Value Stock\n",
      "Through our fundamental anaylsis: USB is a Growth Stock\n",
      "Through our fundamental anaylsis: UTX is a Growth Stock\n",
      "Through our fundamental anaylsis: V is a Value Stock\n",
      "Through our fundamental anaylsis: VAR is a Growth Stock\n",
      "Through our fundamental anaylsis: VFC is a Growth Stock\n",
      "Through our fundamental anaylsis: VIA is a Growth Stock\n",
      "Through our fundamental anaylsis: VIVO is a Value Stock\n",
      "Through our fundamental anaylsis: VLO is a Growth Stock\n",
      "Through our fundamental anaylsis: VMC is a Value Stock\n",
      "Through our fundamental anaylsis: VNO is a Value Stock\n",
      "Through our fundamental anaylsis: VRSK is a Value Stock\n",
      "Through our fundamental anaylsis: VRSN is a Value Stock\n",
      "Through our fundamental anaylsis: VRTX is a Value Stock\n",
      "Through our fundamental anaylsis: VTR is a Value Stock\n",
      "Through our fundamental anaylsis: VZ is a Growth Stock\n",
      "Through our fundamental anaylsis: WAT is a Growth Stock\n",
      "Through our fundamental anaylsis: WB is a Growth Stock\n",
      "Through our fundamental anaylsis: WBA is a Growth Stock\n",
      "Through our fundamental anaylsis: WDC is a Growth Stock\n",
      "Through our fundamental anaylsis: WDR is a Growth Stock\n",
      "Through our fundamental anaylsis: WEC is a Growth Stock\n",
      "Through our fundamental anaylsis: WEN is a Value Stock\n",
      "Through our fundamental anaylsis: WFC is a Growth Stock\n",
      "Through our fundamental anaylsis: WHR is a Growth Stock\n",
      "Through our fundamental anaylsis: WINA is a Growth Stock\n",
      "Through our fundamental anaylsis: WIN is a Value Stock\n",
      "Through our fundamental anaylsis: WLTW is a Growth Stock\n",
      "Through our fundamental anaylsis: WM is a Growth Stock\n",
      "Through our fundamental anaylsis: WMB is a Value Stock\n",
      "Through our fundamental anaylsis: WMT is a Growth Stock\n",
      "Through our fundamental anaylsis: WPX is a Value Stock\n",
      "Through our fundamental anaylsis: WRK is a Value Stock\n",
      "Through our fundamental anaylsis: WU is a Growth Stock\n",
      "Through our fundamental anaylsis: WY is a Value Stock\n",
      "Through our fundamental anaylsis: WYNN is a Value Stock\n",
      "Through our fundamental anaylsis: X is a Growth Stock\n",
      "Through our fundamental anaylsis: XEC is a Growth Stock\n",
      "Through our fundamental anaylsis: XEL is a Growth Stock\n",
      "Through our fundamental anaylsis: XLNX is a Growth Stock\n",
      "Through our fundamental anaylsis: XOM is a Growth Stock\n",
      "Through our fundamental anaylsis: XRAY is a Growth Stock\n",
      "Through our fundamental anaylsis: XRX is a Growth Stock\n",
      "Through our fundamental anaylsis: XYL is a Value Stock\n",
      "Through our fundamental anaylsis: YUM is a Growth Stock\n"
     ]
    }
   ],
   "source": [
    "rec_tickers = pd.read_csv('clusters_ticker.csv', sep=\"\\s+\")\n",
    "rect_tickers = rec_tickers['symbol'].tolist()\n",
    "growth_stock = []\n",
    "value_stock = []\n",
    "for ticker in rect_tickers:\n",
    "    test = predictions[predictions['symbol'] == ticker]\n",
    "    growth = test['Growth'].sum()\n",
    "    value = test['Value'].sum()\n",
    "    if growth > value:\n",
    "        print(f'Through our fundamental anaylsis: {ticker} is a Growth Stock')\n",
    "        growth_stock.append(ticker)\n",
    "    else:\n",
    "        print(f'Through our fundamental anaylsis: {ticker} is a Value Stock')\n",
    "        value_stock.append(ticker)"
   ]
  },
  {
   "cell_type": "code",
   "execution_count": 165,
   "metadata": {
    "scrolled": false
   },
   "outputs": [],
   "source": [
    "predictions.to_csv('/Users/flatironschool/UrPortfolio/recommendation_system/prediction_gv.csv', index = False)\n",
    "growth_stock = pd.DataFrame(growth_stock)\n",
    "value_stock = pd.DataFrame(value_stock)\n",
    "growth_stock.to_csv('/Users/flatironschool/UrPortfolio/recommendation_system/growth_stocks.csv', index = False)\n",
    "value_stock.to_csv('/Users/flatironschool/UrPortfolio/recommendation_system/value_stocks.csv', index = False)"
   ]
  },
  {
   "cell_type": "markdown",
   "metadata": {
    "heading_collapsed": true
   },
   "source": [
    "### Random Forest"
   ]
  },
  {
   "cell_type": "code",
   "execution_count": null,
   "metadata": {
    "hidden": true
   },
   "outputs": [],
   "source": [
    "from sklearn.ensemble import RandomForestClassifier"
   ]
  },
  {
   "cell_type": "code",
   "execution_count": null,
   "metadata": {
    "hidden": true
   },
   "outputs": [],
   "source": [
    "rnd_clf = RandomForestClassifier(n_estimators = 500, max_leaf_nodes= 16, n_jobs=-1)"
   ]
  },
  {
   "cell_type": "code",
   "execution_count": null,
   "metadata": {
    "hidden": true
   },
   "outputs": [],
   "source": [
    "rnd_clf.fit(X_train, y_train)"
   ]
  },
  {
   "cell_type": "code",
   "execution_count": null,
   "metadata": {
    "hidden": true
   },
   "outputs": [],
   "source": [
    "y_pred_rf = rnd_clf.predict(X_test)"
   ]
  }
 ],
 "metadata": {
  "kernelspec": {
   "display_name": "Python 3",
   "language": "python",
   "name": "python3"
  },
  "language_info": {
   "codemirror_mode": {
    "name": "ipython",
    "version": 3
   },
   "file_extension": ".py",
   "mimetype": "text/x-python",
   "name": "python",
   "nbconvert_exporter": "python",
   "pygments_lexer": "ipython3",
   "version": "3.7.3"
  }
 },
 "nbformat": 4,
 "nbformat_minor": 2
}
