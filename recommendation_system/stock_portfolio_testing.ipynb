{
 "cells": [
  {
   "cell_type": "code",
   "execution_count": 609,
   "metadata": {},
   "outputs": [],
   "source": [
    "import pandas as pd\n",
    "import numpy as np\n",
    "from sklearn.preprocessing import StandardScaler\n",
    "from sklearn.neighbors import NearestNeighbors\n",
    "from sklearn.metrics import mean_squared_error\n",
    "from math import sqrt\n",
    "import matplotlib.pyplot as plt\n",
    "from matplotlib import style\n",
    "from scipy.stats import norm\n",
    "import plotly.graph_objects as go\n",
    "import numpy as np\n",
    "import inquirer\n",
    "import pickle\n",
    "# allows currency formatting\n",
    "import locale\n",
    "locale.setlocale(locale.LC_ALL, 'en_CA.UTF-8')\n",
    "%matplotlib inline\n",
    "style.use('ggplot')"
   ]
  },
  {
   "cell_type": "code",
   "execution_count": null,
   "metadata": {},
   "outputs": [],
   "source": [
    "#Ask for user name \n",
    "#Ask for user age\n",
    "#Ask for how long of investment\n",
    "# Ask for conservative: 30%, moderate: 50%, risky 80%\n",
    "# Give total amount stocks investing in\n",
    "# Build your portfolio\n",
    "# standard 10 stocks will increase as upgraded\n",
    "# conservative 3 growth, 7 value - out of Top 20 for both growth and value\n",
    "# moderate 5 growth, 5 value - out of Top 20 for both growth and value\n",
    "# risky 8 growth, 2 value - out of Top 20 for both growth and value\n",
    "# save the similar stocks in a dataframe\n",
    "# give their amount they would spend each year \n",
    "# give possible outcomes"
   ]
  },
  {
   "cell_type": "code",
   "execution_count": 610,
   "metadata": {
    "scrolled": true
   },
   "outputs": [],
   "source": [
    "cluster_rec = pd.read_csv('rec_csvs/clusters_rec.csv')\n",
    "growth_stocks = pd.read_csv('rec_csvs/growth_stocks.csv')\n",
    "value_stocks = pd.read_csv('rec_csvs/value_stocks.csv')\n",
    "predictions = pd.read_csv('rec_csvs/prediction_gv.csv')\n",
    "growth_stocks = growth_stocks.rename({'0':'symbol'}, axis = 1)\n",
    "value_stocks = value_stocks.rename({'0':'symbol'}, axis = 1)"
   ]
  },
  {
   "cell_type": "code",
   "execution_count": 611,
   "metadata": {},
   "outputs": [],
   "source": [
    "cluster_rec = cluster_rec.drop(columns= 'Unnamed: 0')"
   ]
  },
  {
   "cell_type": "code",
   "execution_count": 612,
   "metadata": {},
   "outputs": [],
   "source": [
    "# cluster_ticker = pd.DataFrame(cluster_rec['symbol'])\n",
    "# cluster_ticker.to_csv('/Users/flatironschool/UrPortfolio/Classification_Models/clusters_ticker.csv', index = False)"
   ]
  },
  {
   "cell_type": "markdown",
   "metadata": {},
   "source": [
    "###  User Input - What is stock is Growth or Value "
   ]
  },
  {
   "cell_type": "code",
   "execution_count": 613,
   "metadata": {},
   "outputs": [
    {
     "name": "stdout",
     "output_type": "stream",
     "text": [
      "Input a Stock to know if it is Growth or Value: a\n",
      "Through our fundamental anaylsis: A is a Value Stock\n"
     ]
    }
   ],
   "source": [
    "stockz = input('Input a Stock to know if it is Growth or Value: ').upper()\n",
    "prede = predictions[predictions['symbol'] == stockz]\n",
    "growth = test['Growth'].sum()\n",
    "value = test['Value'].sum()\n",
    "if growth > value:\n",
    "    print(f'Through our fundamental anaylsis: {stockz} is a Growth Stock')\n",
    "else:\n",
    "    print(f'Through our fundamental anaylsis: {stockz} is a Value Stock')"
   ]
  },
  {
   "cell_type": "code",
   "execution_count": 614,
   "metadata": {},
   "outputs": [],
   "source": [
    "matching = cluster_rec.set_index('symbol')"
   ]
  },
  {
   "cell_type": "markdown",
   "metadata": {},
   "source": [
    "### Top 20 Value Choices for User"
   ]
  },
  {
   "cell_type": "code",
   "execution_count": 615,
   "metadata": {},
   "outputs": [],
   "source": [
    "value_choices = value_stocks.set_index('symbol')\n",
    "value_choices = value_choices.merge(matching, right_index = True, left_index = True)\n",
    "# value_choices = value_choices.drop(columns ='Unnamed: 0')\n",
    "conservative_value_stocks = value_choices[value_choices['yr_variance'] <= .45].reset_index()\n",
    "moderate_value_stocks = value_choices[(value_choices['yr_variance'] <= .75) & (value_choices['yr_variance']>= .45 )].reset_index()\n",
    "risky_value_stocks = value_choices[(value_choices['yr_variance'] <= 1.) & (value_choices['yr_variance'] >= .75)].reset_index()"
   ]
  },
  {
   "cell_type": "code",
   "execution_count": 616,
   "metadata": {},
   "outputs": [],
   "source": [
    "top_20_conservative_value = conservative_value_stocks.sort_values('avg_yr_returns', ascending = False).head(20)\n",
    "top_20_moderate_value = moderate_value_stocks.sort_values('avg_yr_returns', ascending = False).head(20)\n",
    "top_20_risky_value = risky_value_stocks.sort_values('avg_yr_returns', ascending = False).head(20)"
   ]
  },
  {
   "cell_type": "markdown",
   "metadata": {},
   "source": [
    "### Top 20 Growth Choices For User"
   ]
  },
  {
   "cell_type": "code",
   "execution_count": 617,
   "metadata": {},
   "outputs": [],
   "source": [
    "growth_choices = growth_stocks.set_index('symbol')\n",
    "growth_choices = growth_choices.merge(matching, right_index = True, left_index = True)\n",
    "# growth_choices = growth_choices.drop(columns ='Unnamed: 0')\n",
    "conservative_growth_stocks = growth_choices[growth_choices['yr_variance'] <= .45].reset_index()\n",
    "moderate_growth_stocks = growth_choices[(growth_choices['yr_variance'] <= .75) & (growth_choices['yr_variance']>= .45 )].reset_index()\n",
    "risky_growth_stocks = growth_choices[(growth_choices['yr_variance'] <= 1.) & (growth_choices['yr_variance'] >= .75)].reset_index()\n"
   ]
  },
  {
   "cell_type": "code",
   "execution_count": 618,
   "metadata": {},
   "outputs": [],
   "source": [
    "top_20_conservative_growth = conservative_growth_stocks.sort_values('avg_yr_returns', ascending = False).head(20)\n",
    "top_20_moderate_growth = moderate_growth_stocks.sort_values('avg_yr_returns', ascending = False).head(20)\n",
    "top_20_risky_growth = risky_growth_stocks.sort_values('avg_yr_returns', ascending = False).head(20)"
   ]
  },
  {
   "cell_type": "markdown",
   "metadata": {},
   "source": [
    "### Time Horizon"
   ]
  },
  {
   "cell_type": "code",
   "execution_count": 619,
   "metadata": {},
   "outputs": [],
   "source": [
    "def time_horizon():\n",
    "    time_investing = input('How long would you like to invest for: ')\n",
    "    while True:\n",
    "        try:\n",
    "            time_investing = int(time_investing)\n",
    "            if type(time_investing) == int:\n",
    "                break\n",
    "        except ValueError:\n",
    "            print('Please use digits')\n",
    "            time_investing  = input('How long would you like to invest for: ')\n",
    "    return time_investing"
   ]
  },
  {
   "cell_type": "code",
   "execution_count": 620,
   "metadata": {},
   "outputs": [
    {
     "name": "stdout",
     "output_type": "stream",
     "text": [
      "How long would you like to invest for: 5\n"
     ]
    }
   ],
   "source": [
    "time_horizon = time_horizon()"
   ]
  },
  {
   "cell_type": "markdown",
   "metadata": {},
   "source": [
    "### User Input Choices"
   ]
  },
  {
   "cell_type": "code",
   "execution_count": 590,
   "metadata": {},
   "outputs": [],
   "source": [
    "def user_input_choices():\n",
    "    risk_tolerance = input(\" ----------\\n 1- Conservative\\n 2- Moderate\\n 3- Risky \\n Please choose from the following: \").strip().lower()\n",
    "    while True:\n",
    "        if risk_tolerance == 'conservative' or risk_tolerance == '1':\n",
    "            risk = conservative()\n",
    "            break\n",
    "        elif risk_tolerance == 'moderate' or risk_tolerance == '2': \n",
    "            risk = moderate()\n",
    "            break\n",
    "        elif risk_tolerance == 'risky' or risk_tolerance == '3':   \n",
    "            risk = risky()\n",
    "            break\n",
    "        else:\n",
    "            print(\"invalid input try again\\n ------\")\n",
    "            risk_tolerance = input(\" 1- Conservative\\n 2- Moderate\\n 3- Risky \\n Please choose from the following: \").lower()\n",
    "    risks = risk\n",
    "    return risks"
   ]
  },
  {
   "cell_type": "markdown",
   "metadata": {},
   "source": [
    "###  Risk Tolerance"
   ]
  },
  {
   "cell_type": "code",
   "execution_count": 621,
   "metadata": {
    "code_folding": []
   },
   "outputs": [],
   "source": [
    "def conservative():\n",
    "    counter = 0\n",
    "    counter_2 = 0\n",
    "    value_stocks = []\n",
    "    growth_stocks = []\n",
    "    portfolio = []\n",
    "    Y = []\n",
    "    top_picks_value = top_20_conservative_value['symbol'].tolist()\n",
    "    top_picks_growth = top_20_conservative_growth['symbol'].tolist()\n",
    "    full_stock_value = [top_20_conservative_growth, top_20_conservative_value]\n",
    "    full_stock_value = pd.concat(full_stock_value)\n",
    "    print('------------------------')\n",
    "    print(top_picks_value)\n",
    "    while counter < 3:\n",
    "        user_input = input('Please choose 3 from the top 20 Value Stocks: ').upper()\n",
    "        if user_input in top_picks_value:\n",
    "            counter += 1\n",
    "            value_stocks.append(user_input)\n",
    "            portfolio.append(user_input)\n",
    "        else:\n",
    "            print('Stock Not in List')\n",
    "            print('------------------------')\n",
    "            print(top_picks_value)\n",
    "            continue\n",
    "    print('------------------------')\n",
    "    print(top_picks_growth)\n",
    "    while counter_2 < 7:\n",
    "        user_input_2 = input('Please choose 7 from the top 20 Growth Stocks: ').upper()\n",
    "        if user_input_2 in top_picks_growth:\n",
    "            counter_2 += 1\n",
    "            growth_stocks.append(user_input_2)\n",
    "            portfolio.append(user_input_2)\n",
    "        else:\n",
    "            print('Stock Not in List')\n",
    "            print('------------------------')\n",
    "            print(top_picks_growth)\n",
    "            continue\n",
    "    \n",
    "    for tickers in portfolio:\n",
    "        df = full_stock_value[full_stock_value['symbol'] == tickers]\n",
    "        Y.append(df)\n",
    "    \n",
    "    new_port = pd.concat(Y)\n",
    "    print(new_port)\n",
    "        \n",
    "    return new_port"
   ]
  },
  {
   "cell_type": "code",
   "execution_count": 622,
   "metadata": {},
   "outputs": [],
   "source": [
    "def moderate():\n",
    "    counter = 0\n",
    "    counter_2 = 0\n",
    "    value_stocks = []\n",
    "    growth_stocks = []\n",
    "    portfolio = []\n",
    "    top_picks_value = top_20_moderate_value['symbol'].tolist()\n",
    "    top_picks_growth = top_20_moderate_growth['symbol'].tolist()\n",
    "    full_stock_value = [top_20_moderate_growth, top_20_moderate_value]\n",
    "    full_stock_value = pd.concat(full_stock_value)\n",
    "    print('------------------------')\n",
    "    print(top_picks_value)\n",
    "    while counter < 5:\n",
    "        user_input = input(f'Please choose 5 from the top 20 Value Stocks: ').upper()\n",
    "        if user_input in top_picks_value:\n",
    "            counter += 1\n",
    "            value_stocks.append(user_input)\n",
    "            portfolio.append(user_input)\n",
    "        else:\n",
    "            print('Stock Not in List')\n",
    "            print('------------------------')\n",
    "            print(top_picks_value)\n",
    "            continue\n",
    "    print('------------------------')\n",
    "    print(top_picks_growth)\n",
    "    while counter_2 < 5:\n",
    "        user_input_2 = input('Please choose 5 from the top 20 Growth Stocks: ').upper()\n",
    "        if user_input_2 in top_picks_growth:\n",
    "            counter_2 += 1\n",
    "            growth_stocks.append(user_input_2)\n",
    "            portfolio.append(user_input_2)\n",
    "        else:\n",
    "            print('Stock Not in List')\n",
    "            print('------------------------')\n",
    "            print(top_picks_growth)\n",
    "            continue\n",
    "    Y = []\n",
    "    for tickers in portfolio:\n",
    "        df = full_stock_value[full_stock_value['symbol'] == tickers]\n",
    "        Y.append(df)\n",
    "    \n",
    "    new_port = pd.concat(Y)\n",
    "    print(portfolio)\n",
    "\n",
    "    return portfolio"
   ]
  },
  {
   "cell_type": "code",
   "execution_count": 623,
   "metadata": {},
   "outputs": [],
   "source": [
    "def risky():\n",
    "    counter = 0\n",
    "    counter_2 = 0\n",
    "    value_stocks = []\n",
    "    growth_stocks = []\n",
    "    portfolio = []\n",
    "    top_picks_value = top_20_risky_value['symbol'].tolist()\n",
    "    top_picks_growth = top_20_risky_growth['symbol'].tolist()\n",
    "    full_stock_value = [top_20_risky_growth, top_20_risky_value]\n",
    "    full_stock_value = pd.concat(full_stock_value)\n",
    "    print('------------------------')\n",
    "    print(top_picks_value)\n",
    "    while counter < 3:\n",
    "        user_input = input('Please choose 3 from the top 20 Value Stocks: ').upper()\n",
    "        if user_input in top_picks_value:\n",
    "            counter += 1\n",
    "            value_stocks.append(user_input)\n",
    "            portfolio.append(user_input)\n",
    "        else:\n",
    "            print('Stock Not in List')\n",
    "            print('------------------------')\n",
    "            print(top_picks_value)\n",
    "            continue\n",
    "    print('------------------------')\n",
    "    print(top_picks_growth)\n",
    "    while counter_2 < 8:\n",
    "        user_input_2 = input('Please choose 8 from the top 20 Growth Stocks: ').upper()\n",
    "        if user_input_2 in top_picks_growth:\n",
    "            counter_2 += 1\n",
    "            growth_stocks.append(user_input_2)\n",
    "            portfolio.append(user_input_2)\n",
    "        else:\n",
    "            print('Stock Not in List')\n",
    "            print('------------------------')\n",
    "            print(top_picks_growth)\n",
    "            continue\n",
    "    Y = []\n",
    "    for tickers in portfolio:\n",
    "        df = full_stock_value[full_stock_value['symbol'] == tickers]\n",
    "        Y.append(df)\n",
    "    \n",
    "    new_port = pd.concat(Y)\n",
    "        \n",
    "    return new_port   "
   ]
  },
  {
   "cell_type": "markdown",
   "metadata": {},
   "source": [
    "### Recommender System"
   ]
  },
  {
   "cell_type": "code",
   "execution_count": 624,
   "metadata": {},
   "outputs": [],
   "source": [
    "def processing_recommender_knn(portfolio, cluster_rec):\n",
    "    model_knn = pickle.load(open(\"dash_package/pickles/tfidf.pkl\", \"rb\"))\n",
    "    cluster = cluster_rec\n",
    "    cluster = cluster.sort_values('sharpe_ratio', ascending = True)\n",
    "    stocking = int(cluster.iloc[0][0])\n",
    "    rec_comp_main = cluser.drop(columns ='Unnamed: 0')\n",
    "    rec_test = cluster.drop(columns = ['symbol','company','sector'])\n",
    "    test = [stocking]\n",
    "    dftest = rec_test.iloc[test,:]\n",
    "    distances, indices = model_knn.kneighbors(rec_test, n_neighbors= 50)\n",
    "    stock = pd.DataFrame(indices.T)[test]\n",
    "    stock = stock.set_index(test)\n",
    "    stock = stock.merge(clus, left_index = True, right_index = True)\n",
    "    testing_2 = stock"
   ]
  },
  {
   "cell_type": "code",
   "execution_count": 625,
   "metadata": {},
   "outputs": [],
   "source": [
    "def processing_recommender(portfolio, cluster_rec):\n",
    "    cluster = portfolio\n",
    "    cluster = cluster[cluster['sharpe_ratio'] >= 0]\n",
    "    cluster = cluster.sort_values('sharpe_ratio', ascending = True)\n",
    "    rec_test = cluster_rec.drop(columns = ['symbol','company','Price','sector'])\n",
    "    rec_clust = portfolio.drop(columns = ['symbol','company','sector'])\n",
    "    pip = rec_clust.sort_values('avg_yr_returns', ascending=False)\n",
    "    pip = pip.index[0]\n",
    "    inpt_idx = pip\n",
    "    inpt = rec_test.iloc[inpt_idx]\n",
    "    scores = pd.Series(index=rec_test.index)\n",
    "    scores.iloc[inpt_idx] = -1\n",
    "    for idx, stock in rec_test.drop(index=inpt_idx).iterrows():\n",
    "        diff = 0\n",
    "        for feature in stock.index:\n",
    "            diff += (inpt.loc[feature]-stock.loc[feature])**2\n",
    "        scores.loc[idx] = diff\n",
    "    scores.sort_values()\n",
    "    scores = pd.DataFrame(scores.sort_values())\n",
    "    recommend_err = scores.merge(cluster_rec, left_index = True, right_index = True)\n",
    "    recommend_err = recommend_err.rename({0: 'RMSE'}, axis = 1)\n",
    "    testing = recommend_err.head(10)\n",
    "    return testing"
   ]
  },
  {
   "cell_type": "code",
   "execution_count": 592,
   "metadata": {},
   "outputs": [],
   "source": [
    "recommender = processing_recommender(portfolio, cluster_rec)"
   ]
  },
  {
   "cell_type": "markdown",
   "metadata": {},
   "source": [
    "### Monte Carlo Simulation"
   ]
  },
  {
   "cell_type": "code",
   "execution_count": 626,
   "metadata": {},
   "outputs": [],
   "source": [
    "def monte_carlo(portfolio, time_horizon):\n",
    "    sim = pd.DataFrame()\n",
    "    iterations = 5000\n",
    "\n",
    "    for x in range(iterations):\n",
    "        pv = float(portfolio['Price'].sum()) + 6\n",
    "        expected_return = float(portfolio['avg_yr_returns'].mean())\n",
    "        volatility = float(portfolio['yr_variance'].mean())\n",
    "        time_horizon = time_horizon\n",
    "        annual_investment = pv\n",
    "        stream = []\n",
    "        for i in range(time_horizon):\n",
    "            end = round(pv * (1 + np.random.normal(expected_return,volatility)) + annual_investment,2)\n",
    "\n",
    "            stream.append(end)\n",
    "\n",
    "            pv = end\n",
    "            \n",
    "        sim[x] = stream"
   ]
  },
  {
   "cell_type": "code",
   "execution_count": 627,
   "metadata": {},
   "outputs": [],
   "source": [
    "monte_carlo = monte_carlo(portfolio, time_horizon)"
   ]
  },
  {
   "cell_type": "code",
   "execution_count": 634,
   "metadata": {},
   "outputs": [],
   "source": [
    "def simulator(monte_carlo, portfolio):\n",
    "    \n",
    "    \n",
    "    price_per = float(portfolio['Price'].sum()) + 6\n",
    "    expected_return = float(portfolio['avg_yr_returns'].mean())\n",
    "    volatility = float(portfolio['yr_variance'].mean())\n",
    "    print(f'price per year : {price_per}')\n",
    "    print(f'expected return : {expected_return}')\n",
    "    print(f'risk : {volatility}')\n",
    "    print('------------------')\n",
    "    amount = len(sim)-1\n",
    "    ending_values = sim.loc[amount]\n",
    "    p_tiles = np.percentile(ending_values,[5,10,15])\n",
    "    for p in range(len(p_tiles)):\n",
    "        l = [5,10,15]\n",
    "        print(\"{}%-ile:  \".format(l[p]).rjust(15),\"{}\".format(locale.currency(p_tiles[p], grouping=True)))\n",
    "    \n",
    "    random_x = sim.index\n",
    "    random_y0 = sim[1]\n",
    "    random_y1 = sim[2]\n",
    "    random_y2 = sim[3]\n",
    "    random_y3 = sim[4]\n",
    "    random_y4 = sim[5]\n",
    "\n",
    "    # Create traces\n",
    "    fig = go.Figure()\n",
    "    fig.update_layout(title='Your Portfolio Outcome', \n",
    "                      xaxis_title = 'Years Invested',\n",
    "                     yaxis_title = 'Return')\n",
    "    fig.add_trace(go.Scatter(x=random_x, y=random_y0,\n",
    "                        mode='lines+markers',\n",
    "                        name='stream_1'))\n",
    "    fig.add_trace(go.Scatter(x=random_x, y=random_y1,\n",
    "                        mode='lines+markers',\n",
    "                        name='stream_2'))\n",
    "    fig.add_trace(go.Scatter(x=random_x, y=random_y2,\n",
    "                        mode='lines+markers', \n",
    "                        name='stream_3'))\n",
    "\n",
    "    fig.add_trace(go.Scatter(x=random_x, y=random_y3,\n",
    "                        mode='lines+markers',\n",
    "                        name='stream_4'))\n",
    "    fig.add_trace(go.Scatter(x=random_x, y=random_y4,\n",
    "                        mode='lines+markers', \n",
    "                        name='stream_5'))\n",
    "\n",
    "    return fig "
   ]
  },
  {
   "cell_type": "code",
   "execution_count": 635,
   "metadata": {},
   "outputs": [
    {
     "name": "stdout",
     "output_type": "stream",
     "text": [
      "price per year : 1621.240116596222\n",
      "expected return : 0.27741535105160764\n",
      "risk : 0.3727017785146298\n",
      "------------------\n",
      "      5%-ile:   $1,487.85\n",
      "     10%-ile:   $1,702.39\n",
      "     15%-ile:   $1,874.44\n"
     ]
    }
   ],
   "source": [
    "simulate = simulator(monte_carlo, portfolio)"
   ]
  },
  {
   "cell_type": "markdown",
   "metadata": {
    "heading_collapsed": true
   },
   "source": [
    "###  Practice Testing"
   ]
  },
  {
   "cell_type": "code",
   "execution_count": 410,
   "metadata": {
    "hidden": true
   },
   "outputs": [],
   "source": [
    "###  User Input - Time Horizon, Risk Tolerance"
   ]
  },
  {
   "cell_type": "code",
   "execution_count": 411,
   "metadata": {
    "hidden": true
   },
   "outputs": [],
   "source": [
    "def time_horizon():\n",
    "    time_investing = input('How long would you like to invest for: ')\n",
    "    while True:\n",
    "        try:\n",
    "            time_investing = int(time_investing)\n",
    "            if type(time_investing) == int:\n",
    "                break\n",
    "        except ValueError:\n",
    "            print('Please use digits')\n",
    "            time_investing  = input('How long would you like to invest for: ')\n",
    "    return time_investing\n",
    "\n",
    "\n",
    "def risk_tolerance():\n",
    "    risk_tolerance = input(\" ----------\\n 1- Conservative\\n 2- Moderate\\n 3- Risky \\n Please choose from the following: \").strip().lower()\n",
    "    while True:\n",
    "        if risk_tolerance == 'conservative' or risk_tolerance == '1':\n",
    "            risk_tolerance = 30\n",
    "            break\n",
    "        elif risk_tolerance == 'moderate' or risk_tolerance == '2': \n",
    "            risk_tolerance = 50 \n",
    "            break\n",
    "        elif risk_tolerance == 'risky' or risk_tolerance == '3':   \n",
    "            risk_tolerance = 80\n",
    "            break\n",
    "        else:\n",
    "            print(\"invalid input try again\\n ------\")\n",
    "            risk_tolerance = input(\" 1- Conservative\\n 2- Moderate\\n 3- Risky \\n Please choose from the following: \").lower()\n",
    "    risks = float(risk_tolerance)/100\n",
    "    return risks"
   ]
  },
  {
   "cell_type": "code",
   "execution_count": null,
   "metadata": {
    "hidden": true
   },
   "outputs": [],
   "source": [
    "# risks = input('input your risk: ')\n",
    "cluster = cluster_rec[cluster_rec['yr_variance'] <= risk_tolerance()]\n",
    "cluster = cluster[cluster['sharpe_ratio'] >= 0]\n",
    "cluster.sort_values('sharpe_ratio', ascending = True)\n",
    "stocking = int(cluster.iloc[0][0])\n",
    "#testing trial\n",
    "rec_comp_main = cluster.drop(columns ='Unnamed: 0')\n",
    "rec_test = rec_comp_main.drop(columns = ['symbol','company','sector'])\n",
    "pip = rec_test.sort_values('avg_yr_returns', ascending=False)\n",
    "pip = pip.index[0]\n",
    "scaler = StandardScaler()\n",
    "scaler.fit(rec_test)\n",
    "model_knn = NearestNeighbors(metric = 'cosine', algorithm= 'brute')\n",
    "model_knn.fit(rec_test)\n",
    "\n",
    "# KNN recommender system\n",
    "test = [4]\n",
    "dftest = rec_test.iloc[test,:]\n",
    "distances, indices = model_knn.kneighbors(rec_test, n_neighbors=30)\n",
    "stock = pd.DataFrame(indices.T)[test]\n",
    "stock = stock.set_index(test)\n",
    "stock = stock.merge(rec_comp_main, left_index = True, right_index = True)\n",
    "testing_2 = stock\n",
    "testing_2"
   ]
  },
  {
   "cell_type": "code",
   "execution_count": null,
   "metadata": {
    "hidden": true
   },
   "outputs": [],
   "source": [
    "cluster = cluster[cluster['yr_variance'] == risk_tolerance()]\n",
    "cluster = cluster[cluster['sharpe_ratio'] >= 0]\n",
    "cluster.sort_values('sharpe_ratio', ascending = True)\n",
    "stocking = int(cluster.iloc[0][0])\n",
    "#testing trial\n",
    "rec_test = rec_comp_main.drop(columns = ['symbol', 'Price','company','sector'])\n",
    "pip = rec_test.sort_values('avg_yr_returns', ascending=False)\n",
    "pip = pip.index[0]\n",
    "\n",
    "inpt_idx = pip\n",
    "inpt = rec_test.loc[inpt_idx]\n",
    "scores = pd.Series(index=rec_test.index)\n",
    "scores.loc[inpt_idx] = -1\n",
    "for idx, stock in rec_test.drop(index=inpt_idx).iterrows():\n",
    "    diff = 0\n",
    "    for feature in stock.index:\n",
    "        diff += (inpt.loc[feature]-stock.loc[feature])**2\n",
    "    scores.loc[idx] = diff\n",
    "scores.sort_values()\n",
    "scores = pd.DataFrame(scores.sort_values())\n",
    "recommend_err = scores.merge(rec_comp_main, left_index = True, right_index = True)\n",
    "recommend_err = recommend_err.rename({0: 'RMSE'}, axis = 1)\n",
    "testing = recommend_err.head(4)"
   ]
  },
  {
   "cell_type": "code",
   "execution_count": 225,
   "metadata": {
    "hidden": true
   },
   "outputs": [
    {
     "name": "stdout",
     "output_type": "stream",
     "text": [
      "price per year : 246.67980241775513\n",
      "expected return : 0.25715072226272684\n",
      "risk : 0.2784875816204984\n"
     ]
    }
   ],
   "source": [
    "# Show user price paid per year\n",
    "# Show user expected return\n",
    "# Show user risk factor\n",
    "price_per = float(testing['Price'].sum()) + 6\n",
    "expected_return = float(testing['avg_yr_returns'].mean())\n",
    "volatility = float(testing['yr_variance'].mean())\n",
    "print(f'price per year : {price_per}')\n",
    "print(f'expected return : {expected_return}')\n",
    "print(f'risk : {volatility}')"
   ]
  },
  {
   "cell_type": "code",
   "execution_count": 235,
   "metadata": {
    "hidden": true
   },
   "outputs": [
    {
     "name": "stdout",
     "output_type": "stream",
     "text": [
      "\tReturn     \t\tEnding Value\n",
      "\t0.4431               \t$602.67\n",
      "\t0.207               \t$974.09\n",
      "\t0.3047               \t$1,517.54\n",
      "\t-0.0708               \t$1,656.73\n",
      "\t0.431               \t$2,617.47\n"
     ]
    }
   ],
   "source": [
    "pv = float(testing['Price'].sum()) + 6\n",
    "expected_return = float(testing['avg_yr_returns'].mean())\n",
    "volatility = float(testing['yr_variance'].mean())\n",
    "time_horizon = time_horizon\n",
    "annual_addition = pv\n",
    "\n",
    "print(\"\\tReturn\", \"\\t\\tEnding Value\".rjust(18))\n",
    "for year in range(time_horizon):\n",
    "    market_return = np.random.normal(expected_return, volatility)\n",
    "    fv = pv * (1 + market_return) + annual_addition\n",
    "    print(\"\\t{}\".ljust(10).format(round(market_return,4)), \"\\t{}\".rjust(10).format(locale.currency(fv, grouping=True)))\n",
    "    pv = fv"
   ]
  },
  {
   "cell_type": "code",
   "execution_count": 245,
   "metadata": {
    "hidden": true
   },
   "outputs": [],
   "source": [
    "# 4. Simulate portfolio ending market values \n",
    "\n",
    "sim = pd.DataFrame()\n",
    "iterations = 5000\n",
    "\n",
    "\n",
    "for x in range(iterations):\n",
    "    pv = float(testing['Price'].sum()) + 6\n",
    "    expected_return = float(testing['avg_yr_returns'].mean())\n",
    "    volatility = float(testing['yr_variance'].mean())\n",
    "    time_horizon = time_horizon\n",
    "    annual_investment = pv\n",
    "    stream = []\n",
    "    for i in range(time_horizon):\n",
    "        end = round(pv * (1 + np.random.normal(expected_return,volatility)) + annual_investment,2)\n",
    "        \n",
    "        stream.append(end)\n",
    "\n",
    "        pv = end\n",
    "\n",
    "    \n",
    "    sim[x] = stream"
   ]
  },
  {
   "cell_type": "code",
   "execution_count": 246,
   "metadata": {
    "hidden": true,
    "scrolled": true
   },
   "outputs": [
    {
     "data": {
      "text/html": [
       "<div>\n",
       "<style scoped>\n",
       "    .dataframe tbody tr th:only-of-type {\n",
       "        vertical-align: middle;\n",
       "    }\n",
       "\n",
       "    .dataframe tbody tr th {\n",
       "        vertical-align: top;\n",
       "    }\n",
       "\n",
       "    .dataframe thead th {\n",
       "        text-align: right;\n",
       "    }\n",
       "</style>\n",
       "<table border=\"1\" class=\"dataframe\">\n",
       "  <thead>\n",
       "    <tr style=\"text-align: right;\">\n",
       "      <th></th>\n",
       "      <th>0</th>\n",
       "      <th>1</th>\n",
       "      <th>2</th>\n",
       "      <th>3</th>\n",
       "      <th>4</th>\n",
       "    </tr>\n",
       "  </thead>\n",
       "  <tbody>\n",
       "    <tr>\n",
       "      <th>0</th>\n",
       "      <td>463.09</td>\n",
       "      <td>516.32</td>\n",
       "      <td>528.41</td>\n",
       "      <td>576.76</td>\n",
       "      <td>650.52</td>\n",
       "    </tr>\n",
       "    <tr>\n",
       "      <th>1</th>\n",
       "      <td>863.94</td>\n",
       "      <td>875.74</td>\n",
       "      <td>822.22</td>\n",
       "      <td>931.89</td>\n",
       "      <td>1412.03</td>\n",
       "    </tr>\n",
       "    <tr>\n",
       "      <th>2</th>\n",
       "      <td>1384.23</td>\n",
       "      <td>1017.20</td>\n",
       "      <td>1641.84</td>\n",
       "      <td>1459.06</td>\n",
       "      <td>1806.27</td>\n",
       "    </tr>\n",
       "    <tr>\n",
       "      <th>3</th>\n",
       "      <td>2659.02</td>\n",
       "      <td>1545.62</td>\n",
       "      <td>3008.98</td>\n",
       "      <td>2135.89</td>\n",
       "      <td>1906.47</td>\n",
       "    </tr>\n",
       "    <tr>\n",
       "      <th>4</th>\n",
       "      <td>3307.45</td>\n",
       "      <td>2464.24</td>\n",
       "      <td>4498.86</td>\n",
       "      <td>2894.51</td>\n",
       "      <td>1830.76</td>\n",
       "    </tr>\n",
       "  </tbody>\n",
       "</table>\n",
       "</div>"
      ],
      "text/plain": [
       "         0        1        2        3        4\n",
       "0   463.09   516.32   528.41   576.76   650.52\n",
       "1   863.94   875.74   822.22   931.89  1412.03\n",
       "2  1384.23  1017.20  1641.84  1459.06  1806.27\n",
       "3  2659.02  1545.62  3008.98  2135.89  1906.47\n",
       "4  3307.45  2464.24  4498.86  2894.51  1830.76"
      ]
     },
     "execution_count": 246,
     "metadata": {},
     "output_type": "execute_result"
    }
   ],
   "source": [
    "# 5. Sample first five streams of annual ending values\n",
    "first_five = list(range(5))\n",
    "sim[first_five]"
   ]
  },
  {
   "cell_type": "code",
   "execution_count": 247,
   "metadata": {
    "collapsed": true,
    "hidden": true
   },
   "outputs": [
    {
     "data": {
      "application/vnd.plotly.v1+json": {
       "config": {
        "plotlyServerURL": "https://plot.ly"
       },
       "data": [
        {
         "mode": "lines+markers",
         "name": "stream_1",
         "type": "scatter",
         "x": [
          0,
          1,
          2,
          3,
          4
         ],
         "y": [
          516.32,
          875.74,
          1017.2,
          1545.62,
          2464.24
         ]
        },
        {
         "mode": "lines+markers",
         "name": "stream_2",
         "type": "scatter",
         "x": [
          0,
          1,
          2,
          3,
          4
         ],
         "y": [
          528.41,
          822.22,
          1641.84,
          3008.98,
          4498.86
         ]
        },
        {
         "mode": "lines+markers",
         "name": "stream_3",
         "type": "scatter",
         "x": [
          0,
          1,
          2,
          3,
          4
         ],
         "y": [
          576.76,
          931.89,
          1459.06,
          2135.89,
          2894.51
         ]
        },
        {
         "mode": "lines+markers",
         "name": "stream_4",
         "type": "scatter",
         "x": [
          0,
          1,
          2,
          3,
          4
         ],
         "y": [
          650.52,
          1412.03,
          1806.27,
          1906.47,
          1830.76
         ]
        },
        {
         "mode": "lines+markers",
         "name": "stream_5",
         "type": "scatter",
         "x": [
          0,
          1,
          2,
          3,
          4
         ],
         "y": [
          546.85,
          743.92,
          1292.52,
          2182.29,
          2623.8
         ]
        }
       ],
       "layout": {
        "template": {
         "data": {
          "bar": [
           {
            "error_x": {
             "color": "#2a3f5f"
            },
            "error_y": {
             "color": "#2a3f5f"
            },
            "marker": {
             "line": {
              "color": "#E5ECF6",
              "width": 0.5
             }
            },
            "type": "bar"
           }
          ],
          "barpolar": [
           {
            "marker": {
             "line": {
              "color": "#E5ECF6",
              "width": 0.5
             }
            },
            "type": "barpolar"
           }
          ],
          "carpet": [
           {
            "aaxis": {
             "endlinecolor": "#2a3f5f",
             "gridcolor": "white",
             "linecolor": "white",
             "minorgridcolor": "white",
             "startlinecolor": "#2a3f5f"
            },
            "baxis": {
             "endlinecolor": "#2a3f5f",
             "gridcolor": "white",
             "linecolor": "white",
             "minorgridcolor": "white",
             "startlinecolor": "#2a3f5f"
            },
            "type": "carpet"
           }
          ],
          "choropleth": [
           {
            "colorbar": {
             "outlinewidth": 0,
             "ticks": ""
            },
            "type": "choropleth"
           }
          ],
          "contour": [
           {
            "colorbar": {
             "outlinewidth": 0,
             "ticks": ""
            },
            "colorscale": [
             [
              0,
              "#0d0887"
             ],
             [
              0.1111111111111111,
              "#46039f"
             ],
             [
              0.2222222222222222,
              "#7201a8"
             ],
             [
              0.3333333333333333,
              "#9c179e"
             ],
             [
              0.4444444444444444,
              "#bd3786"
             ],
             [
              0.5555555555555556,
              "#d8576b"
             ],
             [
              0.6666666666666666,
              "#ed7953"
             ],
             [
              0.7777777777777778,
              "#fb9f3a"
             ],
             [
              0.8888888888888888,
              "#fdca26"
             ],
             [
              1,
              "#f0f921"
             ]
            ],
            "type": "contour"
           }
          ],
          "contourcarpet": [
           {
            "colorbar": {
             "outlinewidth": 0,
             "ticks": ""
            },
            "type": "contourcarpet"
           }
          ],
          "heatmap": [
           {
            "colorbar": {
             "outlinewidth": 0,
             "ticks": ""
            },
            "colorscale": [
             [
              0,
              "#0d0887"
             ],
             [
              0.1111111111111111,
              "#46039f"
             ],
             [
              0.2222222222222222,
              "#7201a8"
             ],
             [
              0.3333333333333333,
              "#9c179e"
             ],
             [
              0.4444444444444444,
              "#bd3786"
             ],
             [
              0.5555555555555556,
              "#d8576b"
             ],
             [
              0.6666666666666666,
              "#ed7953"
             ],
             [
              0.7777777777777778,
              "#fb9f3a"
             ],
             [
              0.8888888888888888,
              "#fdca26"
             ],
             [
              1,
              "#f0f921"
             ]
            ],
            "type": "heatmap"
           }
          ],
          "heatmapgl": [
           {
            "colorbar": {
             "outlinewidth": 0,
             "ticks": ""
            },
            "colorscale": [
             [
              0,
              "#0d0887"
             ],
             [
              0.1111111111111111,
              "#46039f"
             ],
             [
              0.2222222222222222,
              "#7201a8"
             ],
             [
              0.3333333333333333,
              "#9c179e"
             ],
             [
              0.4444444444444444,
              "#bd3786"
             ],
             [
              0.5555555555555556,
              "#d8576b"
             ],
             [
              0.6666666666666666,
              "#ed7953"
             ],
             [
              0.7777777777777778,
              "#fb9f3a"
             ],
             [
              0.8888888888888888,
              "#fdca26"
             ],
             [
              1,
              "#f0f921"
             ]
            ],
            "type": "heatmapgl"
           }
          ],
          "histogram": [
           {
            "marker": {
             "colorbar": {
              "outlinewidth": 0,
              "ticks": ""
             }
            },
            "type": "histogram"
           }
          ],
          "histogram2d": [
           {
            "colorbar": {
             "outlinewidth": 0,
             "ticks": ""
            },
            "colorscale": [
             [
              0,
              "#0d0887"
             ],
             [
              0.1111111111111111,
              "#46039f"
             ],
             [
              0.2222222222222222,
              "#7201a8"
             ],
             [
              0.3333333333333333,
              "#9c179e"
             ],
             [
              0.4444444444444444,
              "#bd3786"
             ],
             [
              0.5555555555555556,
              "#d8576b"
             ],
             [
              0.6666666666666666,
              "#ed7953"
             ],
             [
              0.7777777777777778,
              "#fb9f3a"
             ],
             [
              0.8888888888888888,
              "#fdca26"
             ],
             [
              1,
              "#f0f921"
             ]
            ],
            "type": "histogram2d"
           }
          ],
          "histogram2dcontour": [
           {
            "colorbar": {
             "outlinewidth": 0,
             "ticks": ""
            },
            "colorscale": [
             [
              0,
              "#0d0887"
             ],
             [
              0.1111111111111111,
              "#46039f"
             ],
             [
              0.2222222222222222,
              "#7201a8"
             ],
             [
              0.3333333333333333,
              "#9c179e"
             ],
             [
              0.4444444444444444,
              "#bd3786"
             ],
             [
              0.5555555555555556,
              "#d8576b"
             ],
             [
              0.6666666666666666,
              "#ed7953"
             ],
             [
              0.7777777777777778,
              "#fb9f3a"
             ],
             [
              0.8888888888888888,
              "#fdca26"
             ],
             [
              1,
              "#f0f921"
             ]
            ],
            "type": "histogram2dcontour"
           }
          ],
          "mesh3d": [
           {
            "colorbar": {
             "outlinewidth": 0,
             "ticks": ""
            },
            "type": "mesh3d"
           }
          ],
          "parcoords": [
           {
            "line": {
             "colorbar": {
              "outlinewidth": 0,
              "ticks": ""
             }
            },
            "type": "parcoords"
           }
          ],
          "scatter": [
           {
            "marker": {
             "colorbar": {
              "outlinewidth": 0,
              "ticks": ""
             }
            },
            "type": "scatter"
           }
          ],
          "scatter3d": [
           {
            "line": {
             "colorbar": {
              "outlinewidth": 0,
              "ticks": ""
             }
            },
            "marker": {
             "colorbar": {
              "outlinewidth": 0,
              "ticks": ""
             }
            },
            "type": "scatter3d"
           }
          ],
          "scattercarpet": [
           {
            "marker": {
             "colorbar": {
              "outlinewidth": 0,
              "ticks": ""
             }
            },
            "type": "scattercarpet"
           }
          ],
          "scattergeo": [
           {
            "marker": {
             "colorbar": {
              "outlinewidth": 0,
              "ticks": ""
             }
            },
            "type": "scattergeo"
           }
          ],
          "scattergl": [
           {
            "marker": {
             "colorbar": {
              "outlinewidth": 0,
              "ticks": ""
             }
            },
            "type": "scattergl"
           }
          ],
          "scattermapbox": [
           {
            "marker": {
             "colorbar": {
              "outlinewidth": 0,
              "ticks": ""
             }
            },
            "type": "scattermapbox"
           }
          ],
          "scatterpolar": [
           {
            "marker": {
             "colorbar": {
              "outlinewidth": 0,
              "ticks": ""
             }
            },
            "type": "scatterpolar"
           }
          ],
          "scatterpolargl": [
           {
            "marker": {
             "colorbar": {
              "outlinewidth": 0,
              "ticks": ""
             }
            },
            "type": "scatterpolargl"
           }
          ],
          "scatterternary": [
           {
            "marker": {
             "colorbar": {
              "outlinewidth": 0,
              "ticks": ""
             }
            },
            "type": "scatterternary"
           }
          ],
          "surface": [
           {
            "colorbar": {
             "outlinewidth": 0,
             "ticks": ""
            },
            "colorscale": [
             [
              0,
              "#0d0887"
             ],
             [
              0.1111111111111111,
              "#46039f"
             ],
             [
              0.2222222222222222,
              "#7201a8"
             ],
             [
              0.3333333333333333,
              "#9c179e"
             ],
             [
              0.4444444444444444,
              "#bd3786"
             ],
             [
              0.5555555555555556,
              "#d8576b"
             ],
             [
              0.6666666666666666,
              "#ed7953"
             ],
             [
              0.7777777777777778,
              "#fb9f3a"
             ],
             [
              0.8888888888888888,
              "#fdca26"
             ],
             [
              1,
              "#f0f921"
             ]
            ],
            "type": "surface"
           }
          ],
          "table": [
           {
            "cells": {
             "fill": {
              "color": "#EBF0F8"
             },
             "line": {
              "color": "white"
             }
            },
            "header": {
             "fill": {
              "color": "#C8D4E3"
             },
             "line": {
              "color": "white"
             }
            },
            "type": "table"
           }
          ]
         },
         "layout": {
          "annotationdefaults": {
           "arrowcolor": "#2a3f5f",
           "arrowhead": 0,
           "arrowwidth": 1
          },
          "colorscale": {
           "diverging": [
            [
             0,
             "#8e0152"
            ],
            [
             0.1,
             "#c51b7d"
            ],
            [
             0.2,
             "#de77ae"
            ],
            [
             0.3,
             "#f1b6da"
            ],
            [
             0.4,
             "#fde0ef"
            ],
            [
             0.5,
             "#f7f7f7"
            ],
            [
             0.6,
             "#e6f5d0"
            ],
            [
             0.7,
             "#b8e186"
            ],
            [
             0.8,
             "#7fbc41"
            ],
            [
             0.9,
             "#4d9221"
            ],
            [
             1,
             "#276419"
            ]
           ],
           "sequential": [
            [
             0,
             "#0d0887"
            ],
            [
             0.1111111111111111,
             "#46039f"
            ],
            [
             0.2222222222222222,
             "#7201a8"
            ],
            [
             0.3333333333333333,
             "#9c179e"
            ],
            [
             0.4444444444444444,
             "#bd3786"
            ],
            [
             0.5555555555555556,
             "#d8576b"
            ],
            [
             0.6666666666666666,
             "#ed7953"
            ],
            [
             0.7777777777777778,
             "#fb9f3a"
            ],
            [
             0.8888888888888888,
             "#fdca26"
            ],
            [
             1,
             "#f0f921"
            ]
           ],
           "sequentialminus": [
            [
             0,
             "#0d0887"
            ],
            [
             0.1111111111111111,
             "#46039f"
            ],
            [
             0.2222222222222222,
             "#7201a8"
            ],
            [
             0.3333333333333333,
             "#9c179e"
            ],
            [
             0.4444444444444444,
             "#bd3786"
            ],
            [
             0.5555555555555556,
             "#d8576b"
            ],
            [
             0.6666666666666666,
             "#ed7953"
            ],
            [
             0.7777777777777778,
             "#fb9f3a"
            ],
            [
             0.8888888888888888,
             "#fdca26"
            ],
            [
             1,
             "#f0f921"
            ]
           ]
          },
          "colorway": [
           "#636efa",
           "#EF553B",
           "#00cc96",
           "#ab63fa",
           "#FFA15A",
           "#19d3f3",
           "#FF6692",
           "#B6E880",
           "#FF97FF",
           "#FECB52"
          ],
          "font": {
           "color": "#2a3f5f"
          },
          "geo": {
           "bgcolor": "white",
           "lakecolor": "white",
           "landcolor": "#E5ECF6",
           "showlakes": true,
           "showland": true,
           "subunitcolor": "white"
          },
          "hoverlabel": {
           "align": "left"
          },
          "hovermode": "closest",
          "mapbox": {
           "style": "light"
          },
          "paper_bgcolor": "white",
          "plot_bgcolor": "#E5ECF6",
          "polar": {
           "angularaxis": {
            "gridcolor": "white",
            "linecolor": "white",
            "ticks": ""
           },
           "bgcolor": "#E5ECF6",
           "radialaxis": {
            "gridcolor": "white",
            "linecolor": "white",
            "ticks": ""
           }
          },
          "scene": {
           "xaxis": {
            "backgroundcolor": "#E5ECF6",
            "gridcolor": "white",
            "gridwidth": 2,
            "linecolor": "white",
            "showbackground": true,
            "ticks": "",
            "zerolinecolor": "white"
           },
           "yaxis": {
            "backgroundcolor": "#E5ECF6",
            "gridcolor": "white",
            "gridwidth": 2,
            "linecolor": "white",
            "showbackground": true,
            "ticks": "",
            "zerolinecolor": "white"
           },
           "zaxis": {
            "backgroundcolor": "#E5ECF6",
            "gridcolor": "white",
            "gridwidth": 2,
            "linecolor": "white",
            "showbackground": true,
            "ticks": "",
            "zerolinecolor": "white"
           }
          },
          "shapedefaults": {
           "line": {
            "color": "#2a3f5f"
           }
          },
          "ternary": {
           "aaxis": {
            "gridcolor": "white",
            "linecolor": "white",
            "ticks": ""
           },
           "baxis": {
            "gridcolor": "white",
            "linecolor": "white",
            "ticks": ""
           },
           "bgcolor": "#E5ECF6",
           "caxis": {
            "gridcolor": "white",
            "linecolor": "white",
            "ticks": ""
           }
          },
          "title": {
           "x": 0.05
          },
          "xaxis": {
           "automargin": true,
           "gridcolor": "white",
           "linecolor": "white",
           "ticks": "",
           "zerolinecolor": "white",
           "zerolinewidth": 2
          },
          "yaxis": {
           "automargin": true,
           "gridcolor": "white",
           "linecolor": "white",
           "ticks": "",
           "zerolinecolor": "white",
           "zerolinewidth": 2
          }
         }
        }
       }
      },
      "text/html": [
       "<div>\n",
       "        \n",
       "        \n",
       "            <div id=\"c41d9c0e-604e-49d3-ab87-fea865b633c4\" class=\"plotly-graph-div\" style=\"height:525px; width:100%;\"></div>\n",
       "            <script type=\"text/javascript\">\n",
       "                require([\"plotly\"], function(Plotly) {\n",
       "                    window.PLOTLYENV=window.PLOTLYENV || {};\n",
       "                    \n",
       "                if (document.getElementById(\"c41d9c0e-604e-49d3-ab87-fea865b633c4\")) {\n",
       "                    Plotly.newPlot(\n",
       "                        'c41d9c0e-604e-49d3-ab87-fea865b633c4',\n",
       "                        [{\"mode\": \"lines+markers\", \"name\": \"stream_1\", \"type\": \"scatter\", \"x\": [0, 1, 2, 3, 4], \"y\": [516.32, 875.74, 1017.2, 1545.62, 2464.24]}, {\"mode\": \"lines+markers\", \"name\": \"stream_2\", \"type\": \"scatter\", \"x\": [0, 1, 2, 3, 4], \"y\": [528.41, 822.22, 1641.84, 3008.98, 4498.86]}, {\"mode\": \"lines+markers\", \"name\": \"stream_3\", \"type\": \"scatter\", \"x\": [0, 1, 2, 3, 4], \"y\": [576.76, 931.89, 1459.06, 2135.89, 2894.51]}, {\"mode\": \"lines+markers\", \"name\": \"stream_4\", \"type\": \"scatter\", \"x\": [0, 1, 2, 3, 4], \"y\": [650.52, 1412.03, 1806.27, 1906.47, 1830.76]}, {\"mode\": \"lines+markers\", \"name\": \"stream_5\", \"type\": \"scatter\", \"x\": [0, 1, 2, 3, 4], \"y\": [546.85, 743.92, 1292.52, 2182.29, 2623.8]}],\n",
       "                        {\"template\": {\"data\": {\"bar\": [{\"error_x\": {\"color\": \"#2a3f5f\"}, \"error_y\": {\"color\": \"#2a3f5f\"}, \"marker\": {\"line\": {\"color\": \"#E5ECF6\", \"width\": 0.5}}, \"type\": \"bar\"}], \"barpolar\": [{\"marker\": {\"line\": {\"color\": \"#E5ECF6\", \"width\": 0.5}}, \"type\": \"barpolar\"}], \"carpet\": [{\"aaxis\": {\"endlinecolor\": \"#2a3f5f\", \"gridcolor\": \"white\", \"linecolor\": \"white\", \"minorgridcolor\": \"white\", \"startlinecolor\": \"#2a3f5f\"}, \"baxis\": {\"endlinecolor\": \"#2a3f5f\", \"gridcolor\": \"white\", \"linecolor\": \"white\", \"minorgridcolor\": \"white\", \"startlinecolor\": \"#2a3f5f\"}, \"type\": \"carpet\"}], \"choropleth\": [{\"colorbar\": {\"outlinewidth\": 0, \"ticks\": \"\"}, \"type\": \"choropleth\"}], \"contour\": [{\"colorbar\": {\"outlinewidth\": 0, \"ticks\": \"\"}, \"colorscale\": [[0.0, \"#0d0887\"], [0.1111111111111111, \"#46039f\"], [0.2222222222222222, \"#7201a8\"], [0.3333333333333333, \"#9c179e\"], [0.4444444444444444, \"#bd3786\"], [0.5555555555555556, \"#d8576b\"], [0.6666666666666666, \"#ed7953\"], [0.7777777777777778, \"#fb9f3a\"], [0.8888888888888888, \"#fdca26\"], [1.0, \"#f0f921\"]], \"type\": \"contour\"}], \"contourcarpet\": [{\"colorbar\": {\"outlinewidth\": 0, \"ticks\": \"\"}, \"type\": \"contourcarpet\"}], \"heatmap\": [{\"colorbar\": {\"outlinewidth\": 0, \"ticks\": \"\"}, \"colorscale\": [[0.0, \"#0d0887\"], [0.1111111111111111, \"#46039f\"], [0.2222222222222222, \"#7201a8\"], [0.3333333333333333, \"#9c179e\"], [0.4444444444444444, \"#bd3786\"], [0.5555555555555556, \"#d8576b\"], [0.6666666666666666, \"#ed7953\"], [0.7777777777777778, \"#fb9f3a\"], [0.8888888888888888, \"#fdca26\"], [1.0, \"#f0f921\"]], \"type\": \"heatmap\"}], \"heatmapgl\": [{\"colorbar\": {\"outlinewidth\": 0, \"ticks\": \"\"}, \"colorscale\": [[0.0, \"#0d0887\"], [0.1111111111111111, \"#46039f\"], [0.2222222222222222, \"#7201a8\"], [0.3333333333333333, \"#9c179e\"], [0.4444444444444444, \"#bd3786\"], [0.5555555555555556, \"#d8576b\"], [0.6666666666666666, \"#ed7953\"], [0.7777777777777778, \"#fb9f3a\"], [0.8888888888888888, \"#fdca26\"], [1.0, \"#f0f921\"]], \"type\": \"heatmapgl\"}], \"histogram\": [{\"marker\": {\"colorbar\": {\"outlinewidth\": 0, \"ticks\": \"\"}}, \"type\": \"histogram\"}], \"histogram2d\": [{\"colorbar\": {\"outlinewidth\": 0, \"ticks\": \"\"}, \"colorscale\": [[0.0, \"#0d0887\"], [0.1111111111111111, \"#46039f\"], [0.2222222222222222, \"#7201a8\"], [0.3333333333333333, \"#9c179e\"], [0.4444444444444444, \"#bd3786\"], [0.5555555555555556, \"#d8576b\"], [0.6666666666666666, \"#ed7953\"], [0.7777777777777778, \"#fb9f3a\"], [0.8888888888888888, \"#fdca26\"], [1.0, \"#f0f921\"]], \"type\": \"histogram2d\"}], \"histogram2dcontour\": [{\"colorbar\": {\"outlinewidth\": 0, \"ticks\": \"\"}, \"colorscale\": [[0.0, \"#0d0887\"], [0.1111111111111111, \"#46039f\"], [0.2222222222222222, \"#7201a8\"], [0.3333333333333333, \"#9c179e\"], [0.4444444444444444, \"#bd3786\"], [0.5555555555555556, \"#d8576b\"], [0.6666666666666666, \"#ed7953\"], [0.7777777777777778, \"#fb9f3a\"], [0.8888888888888888, \"#fdca26\"], [1.0, \"#f0f921\"]], \"type\": \"histogram2dcontour\"}], \"mesh3d\": [{\"colorbar\": {\"outlinewidth\": 0, \"ticks\": \"\"}, \"type\": \"mesh3d\"}], \"parcoords\": [{\"line\": {\"colorbar\": {\"outlinewidth\": 0, \"ticks\": \"\"}}, \"type\": \"parcoords\"}], \"scatter\": [{\"marker\": {\"colorbar\": {\"outlinewidth\": 0, \"ticks\": \"\"}}, \"type\": \"scatter\"}], \"scatter3d\": [{\"line\": {\"colorbar\": {\"outlinewidth\": 0, \"ticks\": \"\"}}, \"marker\": {\"colorbar\": {\"outlinewidth\": 0, \"ticks\": \"\"}}, \"type\": \"scatter3d\"}], \"scattercarpet\": [{\"marker\": {\"colorbar\": {\"outlinewidth\": 0, \"ticks\": \"\"}}, \"type\": \"scattercarpet\"}], \"scattergeo\": [{\"marker\": {\"colorbar\": {\"outlinewidth\": 0, \"ticks\": \"\"}}, \"type\": \"scattergeo\"}], \"scattergl\": [{\"marker\": {\"colorbar\": {\"outlinewidth\": 0, \"ticks\": \"\"}}, \"type\": \"scattergl\"}], \"scattermapbox\": [{\"marker\": {\"colorbar\": {\"outlinewidth\": 0, \"ticks\": \"\"}}, \"type\": \"scattermapbox\"}], \"scatterpolar\": [{\"marker\": {\"colorbar\": {\"outlinewidth\": 0, \"ticks\": \"\"}}, \"type\": \"scatterpolar\"}], \"scatterpolargl\": [{\"marker\": {\"colorbar\": {\"outlinewidth\": 0, \"ticks\": \"\"}}, \"type\": \"scatterpolargl\"}], \"scatterternary\": [{\"marker\": {\"colorbar\": {\"outlinewidth\": 0, \"ticks\": \"\"}}, \"type\": \"scatterternary\"}], \"surface\": [{\"colorbar\": {\"outlinewidth\": 0, \"ticks\": \"\"}, \"colorscale\": [[0.0, \"#0d0887\"], [0.1111111111111111, \"#46039f\"], [0.2222222222222222, \"#7201a8\"], [0.3333333333333333, \"#9c179e\"], [0.4444444444444444, \"#bd3786\"], [0.5555555555555556, \"#d8576b\"], [0.6666666666666666, \"#ed7953\"], [0.7777777777777778, \"#fb9f3a\"], [0.8888888888888888, \"#fdca26\"], [1.0, \"#f0f921\"]], \"type\": \"surface\"}], \"table\": [{\"cells\": {\"fill\": {\"color\": \"#EBF0F8\"}, \"line\": {\"color\": \"white\"}}, \"header\": {\"fill\": {\"color\": \"#C8D4E3\"}, \"line\": {\"color\": \"white\"}}, \"type\": \"table\"}]}, \"layout\": {\"annotationdefaults\": {\"arrowcolor\": \"#2a3f5f\", \"arrowhead\": 0, \"arrowwidth\": 1}, \"colorscale\": {\"diverging\": [[0, \"#8e0152\"], [0.1, \"#c51b7d\"], [0.2, \"#de77ae\"], [0.3, \"#f1b6da\"], [0.4, \"#fde0ef\"], [0.5, \"#f7f7f7\"], [0.6, \"#e6f5d0\"], [0.7, \"#b8e186\"], [0.8, \"#7fbc41\"], [0.9, \"#4d9221\"], [1, \"#276419\"]], \"sequential\": [[0.0, \"#0d0887\"], [0.1111111111111111, \"#46039f\"], [0.2222222222222222, \"#7201a8\"], [0.3333333333333333, \"#9c179e\"], [0.4444444444444444, \"#bd3786\"], [0.5555555555555556, \"#d8576b\"], [0.6666666666666666, \"#ed7953\"], [0.7777777777777778, \"#fb9f3a\"], [0.8888888888888888, \"#fdca26\"], [1.0, \"#f0f921\"]], \"sequentialminus\": [[0.0, \"#0d0887\"], [0.1111111111111111, \"#46039f\"], [0.2222222222222222, \"#7201a8\"], [0.3333333333333333, \"#9c179e\"], [0.4444444444444444, \"#bd3786\"], [0.5555555555555556, \"#d8576b\"], [0.6666666666666666, \"#ed7953\"], [0.7777777777777778, \"#fb9f3a\"], [0.8888888888888888, \"#fdca26\"], [1.0, \"#f0f921\"]]}, \"colorway\": [\"#636efa\", \"#EF553B\", \"#00cc96\", \"#ab63fa\", \"#FFA15A\", \"#19d3f3\", \"#FF6692\", \"#B6E880\", \"#FF97FF\", \"#FECB52\"], \"font\": {\"color\": \"#2a3f5f\"}, \"geo\": {\"bgcolor\": \"white\", \"lakecolor\": \"white\", \"landcolor\": \"#E5ECF6\", \"showlakes\": true, \"showland\": true, \"subunitcolor\": \"white\"}, \"hoverlabel\": {\"align\": \"left\"}, \"hovermode\": \"closest\", \"mapbox\": {\"style\": \"light\"}, \"paper_bgcolor\": \"white\", \"plot_bgcolor\": \"#E5ECF6\", \"polar\": {\"angularaxis\": {\"gridcolor\": \"white\", \"linecolor\": \"white\", \"ticks\": \"\"}, \"bgcolor\": \"#E5ECF6\", \"radialaxis\": {\"gridcolor\": \"white\", \"linecolor\": \"white\", \"ticks\": \"\"}}, \"scene\": {\"xaxis\": {\"backgroundcolor\": \"#E5ECF6\", \"gridcolor\": \"white\", \"gridwidth\": 2, \"linecolor\": \"white\", \"showbackground\": true, \"ticks\": \"\", \"zerolinecolor\": \"white\"}, \"yaxis\": {\"backgroundcolor\": \"#E5ECF6\", \"gridcolor\": \"white\", \"gridwidth\": 2, \"linecolor\": \"white\", \"showbackground\": true, \"ticks\": \"\", \"zerolinecolor\": \"white\"}, \"zaxis\": {\"backgroundcolor\": \"#E5ECF6\", \"gridcolor\": \"white\", \"gridwidth\": 2, \"linecolor\": \"white\", \"showbackground\": true, \"ticks\": \"\", \"zerolinecolor\": \"white\"}}, \"shapedefaults\": {\"line\": {\"color\": \"#2a3f5f\"}}, \"ternary\": {\"aaxis\": {\"gridcolor\": \"white\", \"linecolor\": \"white\", \"ticks\": \"\"}, \"baxis\": {\"gridcolor\": \"white\", \"linecolor\": \"white\", \"ticks\": \"\"}, \"bgcolor\": \"#E5ECF6\", \"caxis\": {\"gridcolor\": \"white\", \"linecolor\": \"white\", \"ticks\": \"\"}}, \"title\": {\"x\": 0.05}, \"xaxis\": {\"automargin\": true, \"gridcolor\": \"white\", \"linecolor\": \"white\", \"ticks\": \"\", \"zerolinecolor\": \"white\", \"zerolinewidth\": 2}, \"yaxis\": {\"automargin\": true, \"gridcolor\": \"white\", \"linecolor\": \"white\", \"ticks\": \"\", \"zerolinecolor\": \"white\", \"zerolinewidth\": 2}}}},\n",
       "                        {\"responsive\": true}\n",
       "                    ).then(function(){\n",
       "                            \n",
       "var gd = document.getElementById('c41d9c0e-604e-49d3-ab87-fea865b633c4');\n",
       "var x = new MutationObserver(function (mutations, observer) {{\n",
       "        var display = window.getComputedStyle(gd).display;\n",
       "        if (!display || display === 'none') {{\n",
       "            console.log([gd, 'removed!']);\n",
       "            Plotly.purge(gd);\n",
       "            observer.disconnect();\n",
       "        }}\n",
       "}});\n",
       "\n",
       "// Listen for the removal of the full notebook cells\n",
       "var notebookContainer = gd.closest('#notebook-container');\n",
       "if (notebookContainer) {{\n",
       "    x.observe(notebookContainer, {childList: true});\n",
       "}}\n",
       "\n",
       "// Listen for the clearing of the current output cell\n",
       "var outputEl = gd.closest('.output');\n",
       "if (outputEl) {{\n",
       "    x.observe(outputEl, {childList: true});\n",
       "}}\n",
       "\n",
       "                        })\n",
       "                };\n",
       "                });\n",
       "            </script>\n",
       "        </div>"
      ]
     },
     "metadata": {},
     "output_type": "display_data"
    }
   ],
   "source": [
    "random_x = sim.index\n",
    "random_y0 = sim[1]\n",
    "random_y1 = sim[2]\n",
    "random_y2 = sim[3]\n",
    "random_y3 = sim[4]\n",
    "random_y4 = sim[5]\n",
    "\n",
    "# Create traces\n",
    "fig = go.Figure()\n",
    "fig.add_trace(go.Scatter(x=random_x, y=random_y0,\n",
    "                    mode='lines+markers',\n",
    "                    name='stream_1'))\n",
    "fig.add_trace(go.Scatter(x=random_x, y=random_y1,\n",
    "                    mode='lines+markers',\n",
    "                    name='stream_2'))\n",
    "fig.add_trace(go.Scatter(x=random_x, y=random_y2,\n",
    "                    mode='lines+markers', \n",
    "                    name='stream_3'))\n",
    "\n",
    "fig.add_trace(go.Scatter(x=random_x, y=random_y3,\n",
    "                    mode='lines+markers',\n",
    "                    name='stream_4'))\n",
    "fig.add_trace(go.Scatter(x=random_x, y=random_y4,\n",
    "                    mode='lines+markers', \n",
    "                    name='stream_5'))\n",
    "\n",
    "fig.show()"
   ]
  },
  {
   "cell_type": "code",
   "execution_count": 243,
   "metadata": {
    "hidden": true
   },
   "outputs": [
    {
     "name": "stdout",
     "output_type": "stream",
     "text": [
      "Count: 5000\n",
      "Mean:  $14,040.78\n",
      "SD:  $4,429.33\n",
      "Max:  $41,945.76\n",
      "Min:  $4,291.82\n"
     ]
    }
   ],
   "source": [
    "# 7. Generate summary statistics with numpy functions\n",
    "amount = len(sim)-1\n",
    "print(\"Count:\", len(sim.loc[amount]))\n",
    "print(\"Mean: \", locale.currency(np.mean(sim.loc[amount]),grouping=True))\n",
    "print(\"SD: \",locale.currency(np.std(sim.loc[amount]),grouping=True))\n",
    "print(\"Max: \",locale.currency(np.max(sim.loc[amount]), grouping=True))\n",
    "print(\"Min: \", locale.currency(np.min(sim.loc[amount]), grouping=True))"
   ]
  },
  {
   "cell_type": "code",
   "execution_count": 249,
   "metadata": {
    "hidden": true,
    "scrolled": true
   },
   "outputs": [
    {
     "name": "stdout",
     "output_type": "stream",
     "text": [
      "      5%-ile:   $1,487.85\n",
      "     10%-ile:   $1,702.39\n",
      "     15%-ile:   $1,874.44\n",
      "     25%-ile:   $2,145.32\n",
      "     50%-ile:   $2,713.24\n",
      "     75%-ile:   $3,392.91\n"
     ]
    }
   ],
   "source": [
    "#You can get a more comprehensive table of percentiles easily using numpy's percentile function\n",
    "amount = len(sim)-1\n",
    "ending_values = sim.loc[amount]\n",
    "p_tiles = np.percentile(ending_values,[5,10,15,25,50,75])\n",
    "for p in range(len(p_tiles)):\n",
    "    l = [5,10,15,25,50,75]\n",
    "    print(\"{}%-ile:  \".format(l[p]).rjust(15),\"{}\".format(locale.currency(p_tiles[p], grouping=True)))\n",
    "#     print(f\"{l[p]}%-ile:  \",f\"{locale.currency(p_tiles[p], grouping=True)}\")"
   ]
  }
 ],
 "metadata": {
  "kernelspec": {
   "display_name": "Python 3",
   "language": "python",
   "name": "python3"
  },
  "language_info": {
   "codemirror_mode": {
    "name": "ipython",
    "version": 3
   },
   "file_extension": ".py",
   "mimetype": "text/x-python",
   "name": "python",
   "nbconvert_exporter": "python",
   "pygments_lexer": "ipython3",
   "version": "3.7.3"
  }
 },
 "nbformat": 4,
 "nbformat_minor": 2
}
