{
 "cells": [
  {
   "cell_type": "code",
   "execution_count": 62,
   "metadata": {},
   "outputs": [],
   "source": [
    "import pandas as pd\n",
    "import numpy as np\n",
    "from sklearn.preprocessing import StandardScaler\n",
    "from sklearn.neighbors import NearestNeighbors\n",
    "from sklearn.metrics import mean_squared_error\n",
    "from math import sqrt\n",
    "import matplotlib.pyplot as plt\n",
    "from matplotlib import style\n",
    "from scipy.stats import norm\n",
    "import pickle\n",
    "# allows currency formatting\n",
    "import locale\n",
    "locale.setlocale(locale.LC_ALL, 'en_CA.UTF-8')\n",
    "%matplotlib inline\n",
    "style.use('ggplot')"
   ]
  },
  {
   "cell_type": "code",
   "execution_count": 598,
   "metadata": {},
   "outputs": [
    {
     "data": {
      "text/plain": [
       "'/Users/flatironschool/UrPortfolio/recommendation_system'"
      ]
     },
     "execution_count": 598,
     "metadata": {},
     "output_type": "execute_result"
    }
   ],
   "source": [
    "pwd"
   ]
  },
  {
   "cell_type": "code",
   "execution_count": 5,
   "metadata": {},
   "outputs": [],
   "source": [
    "cluster_rec = pd.read_csv('clusters_rec.csv')"
   ]
  },
  {
   "cell_type": "code",
   "execution_count": 70,
   "metadata": {
    "scrolled": false
   },
   "outputs": [
    {
     "name": "stdout",
     "output_type": "stream",
     "text": [
      "input your risk: 30\n",
      "Average amount willing to spend on a stock: 100\n"
     ]
    }
   ],
   "source": [
    "risks = input('input your risk: ')\n",
    "prices = input('Average amount willing to spend on a stock: ')\n",
    "prices = float(prices)\n",
    "risks = float(risks)/100\n",
    "jj = cluster_rec[cluster_rec['yr_variance'] <= risks]\n",
    "jj = jj[jj['Price'] <= prices]\n",
    "jj = jj[jj['sharpe_ratio'] >= 0]\n",
    "jj.sort_values('sharpe_ratio', ascending = True)\n",
    "stocking = int(jj.iloc[0][0])\n",
    "#testing trial\n",
    "rec_comp_main = jj.drop(columns ='Unnamed: 0')\n",
    "rec_test = rec_comp_main.drop(columns = ['symbol','company','sector'])\n",
    "pip = rec_test\n",
    "pip = pip.index[0]"
   ]
  },
  {
   "cell_type": "code",
   "execution_count": 47,
   "metadata": {},
   "outputs": [
    {
     "data": {
      "text/plain": [
       "0.3"
      ]
     },
     "execution_count": 47,
     "metadata": {},
     "output_type": "execute_result"
    }
   ],
   "source": [
    "risks"
   ]
  },
  {
   "cell_type": "markdown",
   "metadata": {},
   "source": [
    "### Scale the Data"
   ]
  },
  {
   "cell_type": "code",
   "execution_count": 63,
   "metadata": {},
   "outputs": [],
   "source": [
    "scaler = StandardScaler()\n",
    "scaler.fit(rec_test)\n",
    "# save the model to disk\n",
    "filename = 'scaler.pickle'\n",
    "pickle.dump(scaler, open(filename, 'wb'))"
   ]
  },
  {
   "cell_type": "markdown",
   "metadata": {},
   "source": [
    "### Fit the Model"
   ]
  },
  {
   "cell_type": "code",
   "execution_count": 64,
   "metadata": {
    "scrolled": true
   },
   "outputs": [],
   "source": [
    "model_knn = NearestNeighbors(metric = 'cosine', algorithm= 'brute')\n",
    "model_knn.fit(rec_test)\n",
    "filename_knn = 'model_knn.pickle'\n",
    "pickle.dump(model_knn, open(filename_knn, 'wb'))"
   ]
  },
  {
   "cell_type": "code",
   "execution_count": null,
   "metadata": {},
   "outputs": [],
   "source": [
    "# Function script running Model"
   ]
  },
  {
   "cell_type": "markdown",
   "metadata": {},
   "source": [
    "### KNN closes related stock"
   ]
  },
  {
   "cell_type": "code",
   "execution_count": 71,
   "metadata": {},
   "outputs": [],
   "source": [
    "# Input the stock number \n",
    "test = [stocking]\n",
    "dftest = rec_test.iloc[test,:]\n",
    "distances, indices = model_knn.kneighbors(rec_test, n_neighbors= 50)\n",
    "stock = pd.DataFrame(indices.T)[test]\n",
    "stock = stock.set_index(test)\n",
    "stock = stock.merge(rec_comp_main, left_index = True, right_index = True)\n",
    "testing_2 = stock"
   ]
  },
  {
   "cell_type": "code",
   "execution_count": 72,
   "metadata": {},
   "outputs": [
    {
     "data": {
      "text/html": [
       "<div>\n",
       "<style scoped>\n",
       "    .dataframe tbody tr th:only-of-type {\n",
       "        vertical-align: middle;\n",
       "    }\n",
       "\n",
       "    .dataframe tbody tr th {\n",
       "        vertical-align: top;\n",
       "    }\n",
       "\n",
       "    .dataframe thead th {\n",
       "        text-align: right;\n",
       "    }\n",
       "</style>\n",
       "<table border=\"1\" class=\"dataframe\">\n",
       "  <thead>\n",
       "    <tr style=\"text-align: right;\">\n",
       "      <th></th>\n",
       "      <th>symbol</th>\n",
       "      <th>avg_yr_returns</th>\n",
       "      <th>yr_variance</th>\n",
       "      <th>sharpe_ratio</th>\n",
       "      <th>cluster</th>\n",
       "      <th>Price</th>\n",
       "      <th>company</th>\n",
       "      <th>sector</th>\n",
       "    </tr>\n",
       "  </thead>\n",
       "  <tbody>\n",
       "    <tr>\n",
       "      <th>5</th>\n",
       "      <td>ABC</td>\n",
       "      <td>0.208920</td>\n",
       "      <td>0.299250</td>\n",
       "      <td>0.115628</td>\n",
       "      <td>0</td>\n",
       "      <td>74.089996</td>\n",
       "      <td>AbbVie Inc.</td>\n",
       "      <td>Healthcare</td>\n",
       "    </tr>\n",
       "    <tr>\n",
       "      <th>44</th>\n",
       "      <td>AME</td>\n",
       "      <td>0.220707</td>\n",
       "      <td>0.280838</td>\n",
       "      <td>0.121299</td>\n",
       "      <td>10</td>\n",
       "      <td>28.523600</td>\n",
       "      <td>Advanced Micro Devices, Inc.</td>\n",
       "      <td>Technology</td>\n",
       "    </tr>\n",
       "    <tr>\n",
       "      <th>8</th>\n",
       "      <td>ACC</td>\n",
       "      <td>0.154778</td>\n",
       "      <td>0.295026</td>\n",
       "      <td>0.060151</td>\n",
       "      <td>0</td>\n",
       "      <td>79.415001</td>\n",
       "      <td>Abbott Laboratories</td>\n",
       "      <td>Healthcare</td>\n",
       "    </tr>\n",
       "    <tr>\n",
       "      <th>56</th>\n",
       "      <td>APD</td>\n",
       "      <td>0.158804</td>\n",
       "      <td>0.271867</td>\n",
       "      <td>0.056117</td>\n",
       "      <td>0</td>\n",
       "      <td>20.525000</td>\n",
       "      <td>Apache Corporation</td>\n",
       "      <td>Basic Materials</td>\n",
       "    </tr>\n",
       "    <tr>\n",
       "      <th>108</th>\n",
       "      <td>CF</td>\n",
       "      <td>0.128420</td>\n",
       "      <td>0.265070</td>\n",
       "      <td>0.023099</td>\n",
       "      <td>11</td>\n",
       "      <td>33.049999</td>\n",
       "      <td>CF Industries Holdings, Inc.</td>\n",
       "      <td>Basic Materials</td>\n",
       "    </tr>\n",
       "  </tbody>\n",
       "</table>\n",
       "</div>"
      ],
      "text/plain": [
       "    symbol  avg_yr_returns  yr_variance  sharpe_ratio  cluster      Price  \\\n",
       "5      ABC        0.208920     0.299250      0.115628        0  74.089996   \n",
       "44     AME        0.220707     0.280838      0.121299       10  28.523600   \n",
       "8      ACC        0.154778     0.295026      0.060151        0  79.415001   \n",
       "56     APD        0.158804     0.271867      0.056117        0  20.525000   \n",
       "108     CF        0.128420     0.265070      0.023099       11  33.049999   \n",
       "\n",
       "                          company           sector  \n",
       "5                     AbbVie Inc.       Healthcare  \n",
       "44   Advanced Micro Devices, Inc.       Technology  \n",
       "8             Abbott Laboratories       Healthcare  \n",
       "56             Apache Corporation  Basic Materials  \n",
       "108  CF Industries Holdings, Inc.  Basic Materials  "
      ]
     },
     "execution_count": 72,
     "metadata": {},
     "output_type": "execute_result"
    }
   ],
   "source": [
    "testing_2"
   ]
  },
  {
   "cell_type": "markdown",
   "metadata": {},
   "source": [
    "### Recommender System best fit stock"
   ]
  },
  {
   "cell_type": "code",
   "execution_count": 52,
   "metadata": {},
   "outputs": [],
   "source": [
    "inpt_idx = pip\n",
    "inpt = rec_test.iloc[inpt_idx]\n",
    "scores = pd.Series(index=rec_test.index)\n",
    "scores.iloc[inpt_idx] = -1\n",
    "for idx, stock in rec_test.drop(index=inpt_idx).iterrows():\n",
    "    diff = 0\n",
    "    for feature in stock.index:\n",
    "        diff += (inpt.loc[feature]-stock.loc[feature])**2\n",
    "    scores.loc[idx] = diff\n",
    "scores.sort_values()\n",
    "scores = pd.DataFrame(scores.sort_values())\n",
    "recommend_err = scores.merge(rec_comp_main, left_index = True, right_index = True)\n",
    "recommend_err = recommend_err.rename({0: 'RMSE'}, axis = 1)\n",
    "testing = recommend_err.head(10)"
   ]
  },
  {
   "cell_type": "code",
   "execution_count": 53,
   "metadata": {},
   "outputs": [
    {
     "data": {
      "text/html": [
       "<div>\n",
       "<style scoped>\n",
       "    .dataframe tbody tr th:only-of-type {\n",
       "        vertical-align: middle;\n",
       "    }\n",
       "\n",
       "    .dataframe tbody tr th {\n",
       "        vertical-align: top;\n",
       "    }\n",
       "\n",
       "    .dataframe thead th {\n",
       "        text-align: right;\n",
       "    }\n",
       "</style>\n",
       "<table border=\"1\" class=\"dataframe\">\n",
       "  <thead>\n",
       "    <tr style=\"text-align: right;\">\n",
       "      <th></th>\n",
       "      <th>RMSE</th>\n",
       "      <th>symbol</th>\n",
       "      <th>avg_yr_returns</th>\n",
       "      <th>yr_variance</th>\n",
       "      <th>sharpe_ratio</th>\n",
       "      <th>cluster</th>\n",
       "      <th>Price</th>\n",
       "      <th>company</th>\n",
       "      <th>sector</th>\n",
       "    </tr>\n",
       "  </thead>\n",
       "  <tbody>\n",
       "    <tr>\n",
       "      <th>11</th>\n",
       "      <td>0.000000</td>\n",
       "      <td>ACN</td>\n",
       "      <td>0.197221</td>\n",
       "      <td>0.299085</td>\n",
       "      <td>0.103878</td>\n",
       "      <td>0</td>\n",
       "      <td>36.450001</td>\n",
       "      <td>AECOM</td>\n",
       "      <td>Services</td>\n",
       "    </tr>\n",
       "    <tr>\n",
       "      <th>319</th>\n",
       "      <td>0.354687</td>\n",
       "      <td>LRCX</td>\n",
       "      <td>0.184756</td>\n",
       "      <td>0.284616</td>\n",
       "      <td>0.086668</td>\n",
       "      <td>0</td>\n",
       "      <td>35.855000</td>\n",
       "      <td>Eli Lilly and Company</td>\n",
       "      <td>Healthcare</td>\n",
       "    </tr>\n",
       "    <tr>\n",
       "      <th>498</th>\n",
       "      <td>1.217340</td>\n",
       "      <td>TROW</td>\n",
       "      <td>0.139829</td>\n",
       "      <td>0.284915</td>\n",
       "      <td>0.041844</td>\n",
       "      <td>0</td>\n",
       "      <td>37.549999</td>\n",
       "      <td>Sysco Corporation</td>\n",
       "      <td>Services</td>\n",
       "    </tr>\n",
       "    <tr>\n",
       "      <th>282</th>\n",
       "      <td>4.849819</td>\n",
       "      <td>IT</td>\n",
       "      <td>0.172205</td>\n",
       "      <td>0.290998</td>\n",
       "      <td>0.076268</td>\n",
       "      <td>0</td>\n",
       "      <td>38.651901</td>\n",
       "      <td>Intuit Inc.</td>\n",
       "      <td>Technology</td>\n",
       "    </tr>\n",
       "    <tr>\n",
       "      <th>220</th>\n",
       "      <td>5.677345</td>\n",
       "      <td>NWS</td>\n",
       "      <td>0.184925</td>\n",
       "      <td>0.286804</td>\n",
       "      <td>0.087585</td>\n",
       "      <td>0</td>\n",
       "      <td>38.832600</td>\n",
       "      <td>First Trust New Opportunities MLP &amp; Energy Fund</td>\n",
       "      <td>Financial</td>\n",
       "    </tr>\n",
       "    <tr>\n",
       "      <th>355</th>\n",
       "      <td>33.930729</td>\n",
       "      <td>MTB</td>\n",
       "      <td>0.192034</td>\n",
       "      <td>0.294283</td>\n",
       "      <td>0.097168</td>\n",
       "      <td>0</td>\n",
       "      <td>42.275002</td>\n",
       "      <td>Monster Beverage Corporation</td>\n",
       "      <td>Consumer Goods</td>\n",
       "    </tr>\n",
       "    <tr>\n",
       "      <th>434</th>\n",
       "      <td>35.702453</td>\n",
       "      <td>RCL</td>\n",
       "      <td>0.177139</td>\n",
       "      <td>0.274411</td>\n",
       "      <td>0.075403</td>\n",
       "      <td>0</td>\n",
       "      <td>30.475000</td>\n",
       "      <td>PPG Industries, Inc.</td>\n",
       "      <td>Basic Materials</td>\n",
       "    </tr>\n",
       "    <tr>\n",
       "      <th>529</th>\n",
       "      <td>95.759926</td>\n",
       "      <td>VNO</td>\n",
       "      <td>0.194407</td>\n",
       "      <td>0.194678</td>\n",
       "      <td>0.051005</td>\n",
       "      <td>0</td>\n",
       "      <td>26.665001</td>\n",
       "      <td>UnitedHealth Group Incorporated</td>\n",
       "      <td>Healthcare</td>\n",
       "    </tr>\n",
       "    <tr>\n",
       "      <th>374</th>\n",
       "      <td>124.995736</td>\n",
       "      <td>NLSN</td>\n",
       "      <td>0.191723</td>\n",
       "      <td>0.247379</td>\n",
       "      <td>0.078870</td>\n",
       "      <td>0</td>\n",
       "      <td>47.630001</td>\n",
       "      <td>Nabors Industries Ltd.</td>\n",
       "      <td>Basic Materials</td>\n",
       "    </tr>\n",
       "    <tr>\n",
       "      <th>15</th>\n",
       "      <td>126.424987</td>\n",
       "      <td>ADP</td>\n",
       "      <td>0.118783</td>\n",
       "      <td>0.242691</td>\n",
       "      <td>0.003750</td>\n",
       "      <td>11</td>\n",
       "      <td>38.775002</td>\n",
       "      <td>Archer-Daniels-Midland Company</td>\n",
       "      <td>Consumer Goods</td>\n",
       "    </tr>\n",
       "  </tbody>\n",
       "</table>\n",
       "</div>"
      ],
      "text/plain": [
       "           RMSE symbol  avg_yr_returns  yr_variance  sharpe_ratio  cluster  \\\n",
       "11     0.000000    ACN        0.197221     0.299085      0.103878        0   \n",
       "319    0.354687   LRCX        0.184756     0.284616      0.086668        0   \n",
       "498    1.217340   TROW        0.139829     0.284915      0.041844        0   \n",
       "282    4.849819     IT        0.172205     0.290998      0.076268        0   \n",
       "220    5.677345    NWS        0.184925     0.286804      0.087585        0   \n",
       "355   33.930729    MTB        0.192034     0.294283      0.097168        0   \n",
       "434   35.702453    RCL        0.177139     0.274411      0.075403        0   \n",
       "529   95.759926    VNO        0.194407     0.194678      0.051005        0   \n",
       "374  124.995736   NLSN        0.191723     0.247379      0.078870        0   \n",
       "15   126.424987    ADP        0.118783     0.242691      0.003750       11   \n",
       "\n",
       "         Price                                          company  \\\n",
       "11   36.450001                                            AECOM   \n",
       "319  35.855000                            Eli Lilly and Company   \n",
       "498  37.549999                                Sysco Corporation   \n",
       "282  38.651901                                      Intuit Inc.   \n",
       "220  38.832600  First Trust New Opportunities MLP & Energy Fund   \n",
       "355  42.275002                     Monster Beverage Corporation   \n",
       "434  30.475000                             PPG Industries, Inc.   \n",
       "529  26.665001                  UnitedHealth Group Incorporated   \n",
       "374  47.630001                           Nabors Industries Ltd.   \n",
       "15   38.775002                   Archer-Daniels-Midland Company   \n",
       "\n",
       "              sector  \n",
       "11          Services  \n",
       "319       Healthcare  \n",
       "498         Services  \n",
       "282       Technology  \n",
       "220        Financial  \n",
       "355   Consumer Goods  \n",
       "434  Basic Materials  \n",
       "529       Healthcare  \n",
       "374  Basic Materials  \n",
       "15    Consumer Goods  "
      ]
     },
     "execution_count": 53,
     "metadata": {},
     "output_type": "execute_result"
    }
   ],
   "source": [
    "testing"
   ]
  },
  {
   "cell_type": "markdown",
   "metadata": {
    "heading_collapsed": true
   },
   "source": [
    "#### Testing Part one"
   ]
  },
  {
   "cell_type": "code",
   "execution_count": 540,
   "metadata": {
    "hidden": true
   },
   "outputs": [],
   "source": [
    "log_returns = np.log(1 + testing['avg_yr_returns'])\n",
    "# testing[''].plot(figsize=(10, 6))\n",
    "# plt.show()"
   ]
  },
  {
   "cell_type": "code",
   "execution_count": 136,
   "metadata": {
    "hidden": true
   },
   "outputs": [],
   "source": [
    "u = testing['avg_yr_returns'].sum()\n",
    "var = testing['yr_variance'].sum()\n",
    "drift = u - (0.5 * var)\n",
    "stdev = log_returns.std()"
   ]
  },
  {
   "cell_type": "code",
   "execution_count": 164,
   "metadata": {
    "hidden": true
   },
   "outputs": [],
   "source": [
    "x = np.random.rand(10, 2)\n",
    "Z = norm.ppf(np.random.rand(10,2))\n",
    "t_intervals = 100\n",
    "iterations = 10\n",
    "daily_returns = np.exp(drift + stdev * norm.ppf(np.random.rand(t_intervals, iterations)))"
   ]
  },
  {
   "cell_type": "code",
   "execution_count": 171,
   "metadata": {
    "hidden": true
   },
   "outputs": [
    {
     "data": {
      "text/plain": [
       "534.7349920272827"
      ]
     },
     "execution_count": 171,
     "metadata": {},
     "output_type": "execute_result"
    }
   ],
   "source": [
    "testing['Price'].sum()"
   ]
  },
  {
   "cell_type": "code",
   "execution_count": 172,
   "metadata": {
    "collapsed": true,
    "hidden": true
   },
   "outputs": [
    {
     "data": {
      "text/html": [
       "<div>\n",
       "<style scoped>\n",
       "    .dataframe tbody tr th:only-of-type {\n",
       "        vertical-align: middle;\n",
       "    }\n",
       "\n",
       "    .dataframe tbody tr th {\n",
       "        vertical-align: top;\n",
       "    }\n",
       "\n",
       "    .dataframe thead th {\n",
       "        text-align: right;\n",
       "    }\n",
       "</style>\n",
       "<table border=\"1\" class=\"dataframe\">\n",
       "  <thead>\n",
       "    <tr style=\"text-align: right;\">\n",
       "      <th></th>\n",
       "      <th>0</th>\n",
       "      <th>1</th>\n",
       "      <th>2</th>\n",
       "      <th>3</th>\n",
       "      <th>4</th>\n",
       "      <th>5</th>\n",
       "      <th>6</th>\n",
       "      <th>7</th>\n",
       "      <th>8</th>\n",
       "      <th>9</th>\n",
       "    </tr>\n",
       "  </thead>\n",
       "  <tbody>\n",
       "    <tr>\n",
       "      <th>0</th>\n",
       "      <td>275.340745</td>\n",
       "      <td>276.523649</td>\n",
       "      <td>276.551109</td>\n",
       "      <td>281.405314</td>\n",
       "      <td>273.879525</td>\n",
       "      <td>280.865285</td>\n",
       "      <td>279.505934</td>\n",
       "      <td>283.514844</td>\n",
       "      <td>276.527208</td>\n",
       "      <td>278.751313</td>\n",
       "    </tr>\n",
       "    <tr>\n",
       "      <th>1</th>\n",
       "      <td>277.930690</td>\n",
       "      <td>284.988908</td>\n",
       "      <td>275.748258</td>\n",
       "      <td>279.856928</td>\n",
       "      <td>283.325903</td>\n",
       "      <td>282.955021</td>\n",
       "      <td>278.578152</td>\n",
       "      <td>276.656956</td>\n",
       "      <td>277.408610</td>\n",
       "      <td>277.744785</td>\n",
       "    </tr>\n",
       "    <tr>\n",
       "      <th>2</th>\n",
       "      <td>274.814052</td>\n",
       "      <td>279.751634</td>\n",
       "      <td>276.938170</td>\n",
       "      <td>276.908032</td>\n",
       "      <td>276.283882</td>\n",
       "      <td>278.932580</td>\n",
       "      <td>281.814310</td>\n",
       "      <td>277.635038</td>\n",
       "      <td>277.406390</td>\n",
       "      <td>281.427970</td>\n",
       "    </tr>\n",
       "    <tr>\n",
       "      <th>3</th>\n",
       "      <td>282.014824</td>\n",
       "      <td>276.102975</td>\n",
       "      <td>277.307941</td>\n",
       "      <td>275.584460</td>\n",
       "      <td>279.565033</td>\n",
       "      <td>278.592130</td>\n",
       "      <td>277.939667</td>\n",
       "      <td>279.707872</td>\n",
       "      <td>279.853822</td>\n",
       "      <td>276.157153</td>\n",
       "    </tr>\n",
       "    <tr>\n",
       "      <th>4</th>\n",
       "      <td>275.440108</td>\n",
       "      <td>277.515331</td>\n",
       "      <td>275.035728</td>\n",
       "      <td>278.394599</td>\n",
       "      <td>276.728886</td>\n",
       "      <td>275.355836</td>\n",
       "      <td>276.818664</td>\n",
       "      <td>276.878397</td>\n",
       "      <td>278.773008</td>\n",
       "      <td>277.138837</td>\n",
       "    </tr>\n",
       "    <tr>\n",
       "      <th>5</th>\n",
       "      <td>278.084428</td>\n",
       "      <td>274.912820</td>\n",
       "      <td>280.259944</td>\n",
       "      <td>278.212391</td>\n",
       "      <td>279.909466</td>\n",
       "      <td>279.590143</td>\n",
       "      <td>278.941751</td>\n",
       "      <td>280.130459</td>\n",
       "      <td>279.257827</td>\n",
       "      <td>283.303288</td>\n",
       "    </tr>\n",
       "    <tr>\n",
       "      <th>6</th>\n",
       "      <td>274.862878</td>\n",
       "      <td>280.899876</td>\n",
       "      <td>278.272872</td>\n",
       "      <td>279.338549</td>\n",
       "      <td>273.978404</td>\n",
       "      <td>277.040092</td>\n",
       "      <td>280.006050</td>\n",
       "      <td>272.596956</td>\n",
       "      <td>271.660734</td>\n",
       "      <td>278.771602</td>\n",
       "    </tr>\n",
       "    <tr>\n",
       "      <th>7</th>\n",
       "      <td>275.963040</td>\n",
       "      <td>275.946426</td>\n",
       "      <td>277.131963</td>\n",
       "      <td>279.725295</td>\n",
       "      <td>283.429735</td>\n",
       "      <td>276.030484</td>\n",
       "      <td>279.852186</td>\n",
       "      <td>275.903417</td>\n",
       "      <td>281.412602</td>\n",
       "      <td>276.899021</td>\n",
       "    </tr>\n",
       "    <tr>\n",
       "      <th>8</th>\n",
       "      <td>279.042270</td>\n",
       "      <td>280.102458</td>\n",
       "      <td>276.440035</td>\n",
       "      <td>276.590081</td>\n",
       "      <td>277.872282</td>\n",
       "      <td>276.563330</td>\n",
       "      <td>278.364098</td>\n",
       "      <td>282.881531</td>\n",
       "      <td>279.855889</td>\n",
       "      <td>278.664056</td>\n",
       "    </tr>\n",
       "    <tr>\n",
       "      <th>9</th>\n",
       "      <td>276.221650</td>\n",
       "      <td>278.780448</td>\n",
       "      <td>274.936499</td>\n",
       "      <td>280.865882</td>\n",
       "      <td>279.052907</td>\n",
       "      <td>273.035538</td>\n",
       "      <td>277.847780</td>\n",
       "      <td>271.471794</td>\n",
       "      <td>279.655027</td>\n",
       "      <td>276.428689</td>\n",
       "    </tr>\n",
       "    <tr>\n",
       "      <th>10</th>\n",
       "      <td>282.422750</td>\n",
       "      <td>271.654488</td>\n",
       "      <td>278.325832</td>\n",
       "      <td>274.426550</td>\n",
       "      <td>279.819902</td>\n",
       "      <td>279.098126</td>\n",
       "      <td>279.745109</td>\n",
       "      <td>279.583632</td>\n",
       "      <td>270.446011</td>\n",
       "      <td>281.555611</td>\n",
       "    </tr>\n",
       "    <tr>\n",
       "      <th>11</th>\n",
       "      <td>281.361253</td>\n",
       "      <td>279.080716</td>\n",
       "      <td>276.764533</td>\n",
       "      <td>269.941515</td>\n",
       "      <td>274.371233</td>\n",
       "      <td>276.188418</td>\n",
       "      <td>278.212749</td>\n",
       "      <td>278.014614</td>\n",
       "      <td>281.578800</td>\n",
       "      <td>276.608175</td>\n",
       "    </tr>\n",
       "    <tr>\n",
       "      <th>12</th>\n",
       "      <td>276.751568</td>\n",
       "      <td>275.167643</td>\n",
       "      <td>276.197202</td>\n",
       "      <td>281.429727</td>\n",
       "      <td>280.181223</td>\n",
       "      <td>279.614266</td>\n",
       "      <td>277.936755</td>\n",
       "      <td>280.846740</td>\n",
       "      <td>278.842425</td>\n",
       "      <td>277.397668</td>\n",
       "    </tr>\n",
       "    <tr>\n",
       "      <th>13</th>\n",
       "      <td>280.715156</td>\n",
       "      <td>276.097396</td>\n",
       "      <td>276.363020</td>\n",
       "      <td>277.814835</td>\n",
       "      <td>280.971492</td>\n",
       "      <td>279.986398</td>\n",
       "      <td>278.072310</td>\n",
       "      <td>272.586482</td>\n",
       "      <td>280.294957</td>\n",
       "      <td>280.141465</td>\n",
       "    </tr>\n",
       "    <tr>\n",
       "      <th>14</th>\n",
       "      <td>275.503000</td>\n",
       "      <td>276.377164</td>\n",
       "      <td>280.658781</td>\n",
       "      <td>277.049490</td>\n",
       "      <td>280.644445</td>\n",
       "      <td>278.696976</td>\n",
       "      <td>277.007629</td>\n",
       "      <td>278.851350</td>\n",
       "      <td>273.395138</td>\n",
       "      <td>276.306069</td>\n",
       "    </tr>\n",
       "    <tr>\n",
       "      <th>15</th>\n",
       "      <td>278.159271</td>\n",
       "      <td>278.303985</td>\n",
       "      <td>278.841835</td>\n",
       "      <td>275.948360</td>\n",
       "      <td>278.794011</td>\n",
       "      <td>278.378319</td>\n",
       "      <td>277.906924</td>\n",
       "      <td>272.897868</td>\n",
       "      <td>277.069960</td>\n",
       "      <td>278.878325</td>\n",
       "    </tr>\n",
       "    <tr>\n",
       "      <th>16</th>\n",
       "      <td>282.582911</td>\n",
       "      <td>283.534397</td>\n",
       "      <td>278.160156</td>\n",
       "      <td>283.183485</td>\n",
       "      <td>278.940517</td>\n",
       "      <td>276.745499</td>\n",
       "      <td>276.611095</td>\n",
       "      <td>288.113645</td>\n",
       "      <td>282.781589</td>\n",
       "      <td>280.504174</td>\n",
       "    </tr>\n",
       "    <tr>\n",
       "      <th>17</th>\n",
       "      <td>282.503144</td>\n",
       "      <td>279.937566</td>\n",
       "      <td>273.317440</td>\n",
       "      <td>285.047100</td>\n",
       "      <td>280.822759</td>\n",
       "      <td>278.542138</td>\n",
       "      <td>280.905818</td>\n",
       "      <td>281.254735</td>\n",
       "      <td>276.304491</td>\n",
       "      <td>280.979124</td>\n",
       "    </tr>\n",
       "    <tr>\n",
       "      <th>18</th>\n",
       "      <td>283.185367</td>\n",
       "      <td>280.151625</td>\n",
       "      <td>288.889296</td>\n",
       "      <td>282.047453</td>\n",
       "      <td>278.032867</td>\n",
       "      <td>275.049373</td>\n",
       "      <td>280.186482</td>\n",
       "      <td>281.647835</td>\n",
       "      <td>275.610361</td>\n",
       "      <td>279.649257</td>\n",
       "    </tr>\n",
       "    <tr>\n",
       "      <th>19</th>\n",
       "      <td>277.527971</td>\n",
       "      <td>273.175883</td>\n",
       "      <td>277.460783</td>\n",
       "      <td>278.047652</td>\n",
       "      <td>274.205215</td>\n",
       "      <td>276.531665</td>\n",
       "      <td>278.981656</td>\n",
       "      <td>275.180514</td>\n",
       "      <td>276.875389</td>\n",
       "      <td>280.622157</td>\n",
       "    </tr>\n",
       "    <tr>\n",
       "      <th>20</th>\n",
       "      <td>276.910874</td>\n",
       "      <td>280.779389</td>\n",
       "      <td>275.133681</td>\n",
       "      <td>276.134436</td>\n",
       "      <td>280.631676</td>\n",
       "      <td>272.466976</td>\n",
       "      <td>271.783157</td>\n",
       "      <td>284.048877</td>\n",
       "      <td>280.907700</td>\n",
       "      <td>278.173914</td>\n",
       "    </tr>\n",
       "    <tr>\n",
       "      <th>21</th>\n",
       "      <td>281.797147</td>\n",
       "      <td>278.920364</td>\n",
       "      <td>277.091257</td>\n",
       "      <td>279.107967</td>\n",
       "      <td>282.633822</td>\n",
       "      <td>277.804496</td>\n",
       "      <td>276.820817</td>\n",
       "      <td>274.467871</td>\n",
       "      <td>285.860580</td>\n",
       "      <td>274.796478</td>\n",
       "    </tr>\n",
       "    <tr>\n",
       "      <th>22</th>\n",
       "      <td>274.235143</td>\n",
       "      <td>284.005163</td>\n",
       "      <td>276.402779</td>\n",
       "      <td>275.891671</td>\n",
       "      <td>284.121198</td>\n",
       "      <td>275.043605</td>\n",
       "      <td>279.914023</td>\n",
       "      <td>279.910314</td>\n",
       "      <td>277.793822</td>\n",
       "      <td>279.113461</td>\n",
       "    </tr>\n",
       "    <tr>\n",
       "      <th>23</th>\n",
       "      <td>279.344557</td>\n",
       "      <td>281.193239</td>\n",
       "      <td>278.627202</td>\n",
       "      <td>283.255985</td>\n",
       "      <td>278.375583</td>\n",
       "      <td>284.688517</td>\n",
       "      <td>277.980245</td>\n",
       "      <td>279.528768</td>\n",
       "      <td>277.865251</td>\n",
       "      <td>274.334752</td>\n",
       "    </tr>\n",
       "    <tr>\n",
       "      <th>24</th>\n",
       "      <td>284.896555</td>\n",
       "      <td>275.101932</td>\n",
       "      <td>278.116492</td>\n",
       "      <td>281.091453</td>\n",
       "      <td>277.585169</td>\n",
       "      <td>277.679174</td>\n",
       "      <td>282.866393</td>\n",
       "      <td>273.526544</td>\n",
       "      <td>276.745607</td>\n",
       "      <td>281.856914</td>\n",
       "    </tr>\n",
       "    <tr>\n",
       "      <th>25</th>\n",
       "      <td>279.092661</td>\n",
       "      <td>276.105576</td>\n",
       "      <td>280.311425</td>\n",
       "      <td>274.828624</td>\n",
       "      <td>276.852934</td>\n",
       "      <td>281.752404</td>\n",
       "      <td>281.093227</td>\n",
       "      <td>278.364582</td>\n",
       "      <td>282.276418</td>\n",
       "      <td>285.044090</td>\n",
       "    </tr>\n",
       "    <tr>\n",
       "      <th>26</th>\n",
       "      <td>275.761426</td>\n",
       "      <td>279.612400</td>\n",
       "      <td>286.344755</td>\n",
       "      <td>271.208670</td>\n",
       "      <td>277.964316</td>\n",
       "      <td>279.716080</td>\n",
       "      <td>277.639755</td>\n",
       "      <td>278.741920</td>\n",
       "      <td>273.670576</td>\n",
       "      <td>274.559450</td>\n",
       "    </tr>\n",
       "    <tr>\n",
       "      <th>27</th>\n",
       "      <td>277.106831</td>\n",
       "      <td>277.668494</td>\n",
       "      <td>277.298390</td>\n",
       "      <td>282.134112</td>\n",
       "      <td>277.446034</td>\n",
       "      <td>277.604984</td>\n",
       "      <td>274.550785</td>\n",
       "      <td>276.206203</td>\n",
       "      <td>276.562241</td>\n",
       "      <td>276.098040</td>\n",
       "    </tr>\n",
       "    <tr>\n",
       "      <th>28</th>\n",
       "      <td>280.718139</td>\n",
       "      <td>280.964097</td>\n",
       "      <td>277.411044</td>\n",
       "      <td>277.378984</td>\n",
       "      <td>279.029453</td>\n",
       "      <td>277.449738</td>\n",
       "      <td>278.414897</td>\n",
       "      <td>279.172097</td>\n",
       "      <td>274.975207</td>\n",
       "      <td>277.321871</td>\n",
       "    </tr>\n",
       "    <tr>\n",
       "      <th>29</th>\n",
       "      <td>282.327843</td>\n",
       "      <td>279.668685</td>\n",
       "      <td>276.951839</td>\n",
       "      <td>275.784049</td>\n",
       "      <td>281.818543</td>\n",
       "      <td>278.899633</td>\n",
       "      <td>275.360396</td>\n",
       "      <td>278.633033</td>\n",
       "      <td>276.497377</td>\n",
       "      <td>278.116233</td>\n",
       "    </tr>\n",
       "    <tr>\n",
       "      <th>...</th>\n",
       "      <td>...</td>\n",
       "      <td>...</td>\n",
       "      <td>...</td>\n",
       "      <td>...</td>\n",
       "      <td>...</td>\n",
       "      <td>...</td>\n",
       "      <td>...</td>\n",
       "      <td>...</td>\n",
       "      <td>...</td>\n",
       "      <td>...</td>\n",
       "    </tr>\n",
       "    <tr>\n",
       "      <th>70</th>\n",
       "      <td>279.140236</td>\n",
       "      <td>279.299684</td>\n",
       "      <td>277.515202</td>\n",
       "      <td>274.497618</td>\n",
       "      <td>279.484874</td>\n",
       "      <td>275.426014</td>\n",
       "      <td>276.461322</td>\n",
       "      <td>277.666097</td>\n",
       "      <td>277.921201</td>\n",
       "      <td>279.879247</td>\n",
       "    </tr>\n",
       "    <tr>\n",
       "      <th>71</th>\n",
       "      <td>276.837790</td>\n",
       "      <td>280.634878</td>\n",
       "      <td>278.736143</td>\n",
       "      <td>274.251256</td>\n",
       "      <td>271.546623</td>\n",
       "      <td>278.322333</td>\n",
       "      <td>279.439384</td>\n",
       "      <td>277.367600</td>\n",
       "      <td>277.811756</td>\n",
       "      <td>276.101672</td>\n",
       "    </tr>\n",
       "    <tr>\n",
       "      <th>72</th>\n",
       "      <td>281.678160</td>\n",
       "      <td>274.935604</td>\n",
       "      <td>276.936637</td>\n",
       "      <td>274.510338</td>\n",
       "      <td>273.763779</td>\n",
       "      <td>280.139909</td>\n",
       "      <td>279.399025</td>\n",
       "      <td>281.294141</td>\n",
       "      <td>275.137620</td>\n",
       "      <td>275.122354</td>\n",
       "    </tr>\n",
       "    <tr>\n",
       "      <th>73</th>\n",
       "      <td>278.065333</td>\n",
       "      <td>275.650296</td>\n",
       "      <td>281.551749</td>\n",
       "      <td>276.422065</td>\n",
       "      <td>279.635530</td>\n",
       "      <td>276.907234</td>\n",
       "      <td>278.264221</td>\n",
       "      <td>276.443555</td>\n",
       "      <td>270.321767</td>\n",
       "      <td>279.676476</td>\n",
       "    </tr>\n",
       "    <tr>\n",
       "      <th>74</th>\n",
       "      <td>281.912452</td>\n",
       "      <td>281.032039</td>\n",
       "      <td>274.932480</td>\n",
       "      <td>276.191854</td>\n",
       "      <td>279.625210</td>\n",
       "      <td>278.112400</td>\n",
       "      <td>281.951717</td>\n",
       "      <td>280.441785</td>\n",
       "      <td>275.695596</td>\n",
       "      <td>275.530951</td>\n",
       "    </tr>\n",
       "    <tr>\n",
       "      <th>75</th>\n",
       "      <td>275.611423</td>\n",
       "      <td>273.862215</td>\n",
       "      <td>272.427647</td>\n",
       "      <td>281.102097</td>\n",
       "      <td>278.861766</td>\n",
       "      <td>273.521594</td>\n",
       "      <td>278.877548</td>\n",
       "      <td>276.704152</td>\n",
       "      <td>278.789395</td>\n",
       "      <td>275.244460</td>\n",
       "    </tr>\n",
       "    <tr>\n",
       "      <th>76</th>\n",
       "      <td>277.991072</td>\n",
       "      <td>273.113796</td>\n",
       "      <td>277.487233</td>\n",
       "      <td>281.385578</td>\n",
       "      <td>278.460250</td>\n",
       "      <td>278.597572</td>\n",
       "      <td>276.263143</td>\n",
       "      <td>279.293120</td>\n",
       "      <td>281.499495</td>\n",
       "      <td>276.687139</td>\n",
       "    </tr>\n",
       "    <tr>\n",
       "      <th>77</th>\n",
       "      <td>275.979357</td>\n",
       "      <td>282.496032</td>\n",
       "      <td>278.734057</td>\n",
       "      <td>280.588957</td>\n",
       "      <td>276.893929</td>\n",
       "      <td>277.877168</td>\n",
       "      <td>278.520261</td>\n",
       "      <td>280.881339</td>\n",
       "      <td>274.510177</td>\n",
       "      <td>275.076799</td>\n",
       "    </tr>\n",
       "    <tr>\n",
       "      <th>78</th>\n",
       "      <td>277.400150</td>\n",
       "      <td>274.169871</td>\n",
       "      <td>275.045525</td>\n",
       "      <td>274.452715</td>\n",
       "      <td>278.240552</td>\n",
       "      <td>279.537796</td>\n",
       "      <td>280.829010</td>\n",
       "      <td>275.013486</td>\n",
       "      <td>278.387777</td>\n",
       "      <td>277.785372</td>\n",
       "    </tr>\n",
       "    <tr>\n",
       "      <th>79</th>\n",
       "      <td>274.521177</td>\n",
       "      <td>274.947630</td>\n",
       "      <td>278.233470</td>\n",
       "      <td>276.949318</td>\n",
       "      <td>281.769133</td>\n",
       "      <td>272.761265</td>\n",
       "      <td>274.021237</td>\n",
       "      <td>280.315229</td>\n",
       "      <td>275.864594</td>\n",
       "      <td>280.547926</td>\n",
       "    </tr>\n",
       "    <tr>\n",
       "      <th>80</th>\n",
       "      <td>279.008792</td>\n",
       "      <td>273.099001</td>\n",
       "      <td>277.395793</td>\n",
       "      <td>281.247107</td>\n",
       "      <td>285.947599</td>\n",
       "      <td>278.895646</td>\n",
       "      <td>276.605648</td>\n",
       "      <td>282.633211</td>\n",
       "      <td>282.312824</td>\n",
       "      <td>281.382837</td>\n",
       "    </tr>\n",
       "    <tr>\n",
       "      <th>81</th>\n",
       "      <td>282.500768</td>\n",
       "      <td>273.703345</td>\n",
       "      <td>279.780488</td>\n",
       "      <td>281.530336</td>\n",
       "      <td>277.174876</td>\n",
       "      <td>278.036003</td>\n",
       "      <td>277.817257</td>\n",
       "      <td>278.724322</td>\n",
       "      <td>280.474171</td>\n",
       "      <td>276.424505</td>\n",
       "    </tr>\n",
       "    <tr>\n",
       "      <th>82</th>\n",
       "      <td>279.729745</td>\n",
       "      <td>277.258549</td>\n",
       "      <td>281.339833</td>\n",
       "      <td>280.452539</td>\n",
       "      <td>277.419728</td>\n",
       "      <td>278.686420</td>\n",
       "      <td>280.737785</td>\n",
       "      <td>277.475523</td>\n",
       "      <td>277.267579</td>\n",
       "      <td>276.497905</td>\n",
       "    </tr>\n",
       "    <tr>\n",
       "      <th>83</th>\n",
       "      <td>283.475122</td>\n",
       "      <td>279.511412</td>\n",
       "      <td>279.725120</td>\n",
       "      <td>276.578135</td>\n",
       "      <td>285.419558</td>\n",
       "      <td>276.167978</td>\n",
       "      <td>278.623334</td>\n",
       "      <td>279.089930</td>\n",
       "      <td>280.475070</td>\n",
       "      <td>278.539466</td>\n",
       "    </tr>\n",
       "    <tr>\n",
       "      <th>84</th>\n",
       "      <td>277.241650</td>\n",
       "      <td>279.044527</td>\n",
       "      <td>276.313402</td>\n",
       "      <td>281.170226</td>\n",
       "      <td>286.599886</td>\n",
       "      <td>278.103975</td>\n",
       "      <td>268.774852</td>\n",
       "      <td>278.445282</td>\n",
       "      <td>277.601093</td>\n",
       "      <td>276.072623</td>\n",
       "    </tr>\n",
       "    <tr>\n",
       "      <th>85</th>\n",
       "      <td>280.284827</td>\n",
       "      <td>278.065339</td>\n",
       "      <td>278.357474</td>\n",
       "      <td>279.338071</td>\n",
       "      <td>275.681992</td>\n",
       "      <td>275.071902</td>\n",
       "      <td>276.667517</td>\n",
       "      <td>280.102586</td>\n",
       "      <td>274.068928</td>\n",
       "      <td>277.293021</td>\n",
       "    </tr>\n",
       "    <tr>\n",
       "      <th>86</th>\n",
       "      <td>279.789401</td>\n",
       "      <td>274.997320</td>\n",
       "      <td>277.116670</td>\n",
       "      <td>276.267420</td>\n",
       "      <td>277.778565</td>\n",
       "      <td>277.868376</td>\n",
       "      <td>278.529703</td>\n",
       "      <td>276.668178</td>\n",
       "      <td>277.025154</td>\n",
       "      <td>282.414772</td>\n",
       "    </tr>\n",
       "    <tr>\n",
       "      <th>87</th>\n",
       "      <td>274.523817</td>\n",
       "      <td>278.471805</td>\n",
       "      <td>276.652667</td>\n",
       "      <td>281.571546</td>\n",
       "      <td>278.129806</td>\n",
       "      <td>275.578304</td>\n",
       "      <td>274.089894</td>\n",
       "      <td>281.247197</td>\n",
       "      <td>280.515663</td>\n",
       "      <td>280.964666</td>\n",
       "    </tr>\n",
       "    <tr>\n",
       "      <th>88</th>\n",
       "      <td>276.990964</td>\n",
       "      <td>277.276546</td>\n",
       "      <td>275.002314</td>\n",
       "      <td>277.405502</td>\n",
       "      <td>278.615395</td>\n",
       "      <td>279.992210</td>\n",
       "      <td>278.145663</td>\n",
       "      <td>274.127996</td>\n",
       "      <td>275.165102</td>\n",
       "      <td>279.446134</td>\n",
       "    </tr>\n",
       "    <tr>\n",
       "      <th>89</th>\n",
       "      <td>281.111998</td>\n",
       "      <td>277.462916</td>\n",
       "      <td>274.199040</td>\n",
       "      <td>279.055163</td>\n",
       "      <td>278.052714</td>\n",
       "      <td>279.088717</td>\n",
       "      <td>278.885519</td>\n",
       "      <td>279.483632</td>\n",
       "      <td>278.063301</td>\n",
       "      <td>286.482642</td>\n",
       "    </tr>\n",
       "    <tr>\n",
       "      <th>90</th>\n",
       "      <td>279.376971</td>\n",
       "      <td>275.233288</td>\n",
       "      <td>278.077220</td>\n",
       "      <td>283.613290</td>\n",
       "      <td>273.300171</td>\n",
       "      <td>275.250410</td>\n",
       "      <td>280.627916</td>\n",
       "      <td>282.150747</td>\n",
       "      <td>276.945010</td>\n",
       "      <td>278.095670</td>\n",
       "    </tr>\n",
       "    <tr>\n",
       "      <th>91</th>\n",
       "      <td>281.995349</td>\n",
       "      <td>276.924485</td>\n",
       "      <td>279.413197</td>\n",
       "      <td>277.338654</td>\n",
       "      <td>280.628781</td>\n",
       "      <td>277.980974</td>\n",
       "      <td>278.889854</td>\n",
       "      <td>273.180055</td>\n",
       "      <td>282.510792</td>\n",
       "      <td>275.946588</td>\n",
       "    </tr>\n",
       "    <tr>\n",
       "      <th>92</th>\n",
       "      <td>277.444667</td>\n",
       "      <td>274.479453</td>\n",
       "      <td>278.084252</td>\n",
       "      <td>275.514255</td>\n",
       "      <td>274.242588</td>\n",
       "      <td>280.897239</td>\n",
       "      <td>287.108574</td>\n",
       "      <td>283.020418</td>\n",
       "      <td>282.530275</td>\n",
       "      <td>279.855841</td>\n",
       "    </tr>\n",
       "    <tr>\n",
       "      <th>93</th>\n",
       "      <td>277.047607</td>\n",
       "      <td>279.129103</td>\n",
       "      <td>278.116905</td>\n",
       "      <td>277.486839</td>\n",
       "      <td>277.053481</td>\n",
       "      <td>280.464406</td>\n",
       "      <td>277.977179</td>\n",
       "      <td>278.219221</td>\n",
       "      <td>272.262241</td>\n",
       "      <td>277.629051</td>\n",
       "    </tr>\n",
       "    <tr>\n",
       "      <th>94</th>\n",
       "      <td>283.077048</td>\n",
       "      <td>277.456525</td>\n",
       "      <td>272.623584</td>\n",
       "      <td>279.195295</td>\n",
       "      <td>276.389653</td>\n",
       "      <td>277.882206</td>\n",
       "      <td>278.556419</td>\n",
       "      <td>278.597037</td>\n",
       "      <td>273.372858</td>\n",
       "      <td>276.078605</td>\n",
       "    </tr>\n",
       "    <tr>\n",
       "      <th>95</th>\n",
       "      <td>278.409834</td>\n",
       "      <td>276.945571</td>\n",
       "      <td>276.735747</td>\n",
       "      <td>275.823037</td>\n",
       "      <td>278.134883</td>\n",
       "      <td>279.344104</td>\n",
       "      <td>279.097421</td>\n",
       "      <td>280.621336</td>\n",
       "      <td>276.216706</td>\n",
       "      <td>279.662357</td>\n",
       "    </tr>\n",
       "    <tr>\n",
       "      <th>96</th>\n",
       "      <td>276.958465</td>\n",
       "      <td>283.524790</td>\n",
       "      <td>278.404730</td>\n",
       "      <td>274.911893</td>\n",
       "      <td>284.466428</td>\n",
       "      <td>276.766916</td>\n",
       "      <td>278.165681</td>\n",
       "      <td>278.023455</td>\n",
       "      <td>273.989949</td>\n",
       "      <td>277.860129</td>\n",
       "    </tr>\n",
       "    <tr>\n",
       "      <th>97</th>\n",
       "      <td>274.085189</td>\n",
       "      <td>277.778726</td>\n",
       "      <td>278.508262</td>\n",
       "      <td>282.091619</td>\n",
       "      <td>279.487623</td>\n",
       "      <td>278.017888</td>\n",
       "      <td>274.599986</td>\n",
       "      <td>273.702300</td>\n",
       "      <td>280.143562</td>\n",
       "      <td>278.711156</td>\n",
       "    </tr>\n",
       "    <tr>\n",
       "      <th>98</th>\n",
       "      <td>271.348195</td>\n",
       "      <td>284.507391</td>\n",
       "      <td>275.600154</td>\n",
       "      <td>280.646187</td>\n",
       "      <td>278.854858</td>\n",
       "      <td>275.826385</td>\n",
       "      <td>274.646120</td>\n",
       "      <td>277.217899</td>\n",
       "      <td>280.789355</td>\n",
       "      <td>285.120920</td>\n",
       "    </tr>\n",
       "    <tr>\n",
       "      <th>99</th>\n",
       "      <td>276.136121</td>\n",
       "      <td>280.804978</td>\n",
       "      <td>275.701879</td>\n",
       "      <td>272.307967</td>\n",
       "      <td>278.667034</td>\n",
       "      <td>283.554686</td>\n",
       "      <td>277.999999</td>\n",
       "      <td>276.733609</td>\n",
       "      <td>273.452576</td>\n",
       "      <td>280.944552</td>\n",
       "    </tr>\n",
       "  </tbody>\n",
       "</table>\n",
       "<p>100 rows × 10 columns</p>\n",
       "</div>"
      ],
      "text/plain": [
       "             0           1           2           3           4           5  \\\n",
       "0   275.340745  276.523649  276.551109  281.405314  273.879525  280.865285   \n",
       "1   277.930690  284.988908  275.748258  279.856928  283.325903  282.955021   \n",
       "2   274.814052  279.751634  276.938170  276.908032  276.283882  278.932580   \n",
       "3   282.014824  276.102975  277.307941  275.584460  279.565033  278.592130   \n",
       "4   275.440108  277.515331  275.035728  278.394599  276.728886  275.355836   \n",
       "5   278.084428  274.912820  280.259944  278.212391  279.909466  279.590143   \n",
       "6   274.862878  280.899876  278.272872  279.338549  273.978404  277.040092   \n",
       "7   275.963040  275.946426  277.131963  279.725295  283.429735  276.030484   \n",
       "8   279.042270  280.102458  276.440035  276.590081  277.872282  276.563330   \n",
       "9   276.221650  278.780448  274.936499  280.865882  279.052907  273.035538   \n",
       "10  282.422750  271.654488  278.325832  274.426550  279.819902  279.098126   \n",
       "11  281.361253  279.080716  276.764533  269.941515  274.371233  276.188418   \n",
       "12  276.751568  275.167643  276.197202  281.429727  280.181223  279.614266   \n",
       "13  280.715156  276.097396  276.363020  277.814835  280.971492  279.986398   \n",
       "14  275.503000  276.377164  280.658781  277.049490  280.644445  278.696976   \n",
       "15  278.159271  278.303985  278.841835  275.948360  278.794011  278.378319   \n",
       "16  282.582911  283.534397  278.160156  283.183485  278.940517  276.745499   \n",
       "17  282.503144  279.937566  273.317440  285.047100  280.822759  278.542138   \n",
       "18  283.185367  280.151625  288.889296  282.047453  278.032867  275.049373   \n",
       "19  277.527971  273.175883  277.460783  278.047652  274.205215  276.531665   \n",
       "20  276.910874  280.779389  275.133681  276.134436  280.631676  272.466976   \n",
       "21  281.797147  278.920364  277.091257  279.107967  282.633822  277.804496   \n",
       "22  274.235143  284.005163  276.402779  275.891671  284.121198  275.043605   \n",
       "23  279.344557  281.193239  278.627202  283.255985  278.375583  284.688517   \n",
       "24  284.896555  275.101932  278.116492  281.091453  277.585169  277.679174   \n",
       "25  279.092661  276.105576  280.311425  274.828624  276.852934  281.752404   \n",
       "26  275.761426  279.612400  286.344755  271.208670  277.964316  279.716080   \n",
       "27  277.106831  277.668494  277.298390  282.134112  277.446034  277.604984   \n",
       "28  280.718139  280.964097  277.411044  277.378984  279.029453  277.449738   \n",
       "29  282.327843  279.668685  276.951839  275.784049  281.818543  278.899633   \n",
       "..         ...         ...         ...         ...         ...         ...   \n",
       "70  279.140236  279.299684  277.515202  274.497618  279.484874  275.426014   \n",
       "71  276.837790  280.634878  278.736143  274.251256  271.546623  278.322333   \n",
       "72  281.678160  274.935604  276.936637  274.510338  273.763779  280.139909   \n",
       "73  278.065333  275.650296  281.551749  276.422065  279.635530  276.907234   \n",
       "74  281.912452  281.032039  274.932480  276.191854  279.625210  278.112400   \n",
       "75  275.611423  273.862215  272.427647  281.102097  278.861766  273.521594   \n",
       "76  277.991072  273.113796  277.487233  281.385578  278.460250  278.597572   \n",
       "77  275.979357  282.496032  278.734057  280.588957  276.893929  277.877168   \n",
       "78  277.400150  274.169871  275.045525  274.452715  278.240552  279.537796   \n",
       "79  274.521177  274.947630  278.233470  276.949318  281.769133  272.761265   \n",
       "80  279.008792  273.099001  277.395793  281.247107  285.947599  278.895646   \n",
       "81  282.500768  273.703345  279.780488  281.530336  277.174876  278.036003   \n",
       "82  279.729745  277.258549  281.339833  280.452539  277.419728  278.686420   \n",
       "83  283.475122  279.511412  279.725120  276.578135  285.419558  276.167978   \n",
       "84  277.241650  279.044527  276.313402  281.170226  286.599886  278.103975   \n",
       "85  280.284827  278.065339  278.357474  279.338071  275.681992  275.071902   \n",
       "86  279.789401  274.997320  277.116670  276.267420  277.778565  277.868376   \n",
       "87  274.523817  278.471805  276.652667  281.571546  278.129806  275.578304   \n",
       "88  276.990964  277.276546  275.002314  277.405502  278.615395  279.992210   \n",
       "89  281.111998  277.462916  274.199040  279.055163  278.052714  279.088717   \n",
       "90  279.376971  275.233288  278.077220  283.613290  273.300171  275.250410   \n",
       "91  281.995349  276.924485  279.413197  277.338654  280.628781  277.980974   \n",
       "92  277.444667  274.479453  278.084252  275.514255  274.242588  280.897239   \n",
       "93  277.047607  279.129103  278.116905  277.486839  277.053481  280.464406   \n",
       "94  283.077048  277.456525  272.623584  279.195295  276.389653  277.882206   \n",
       "95  278.409834  276.945571  276.735747  275.823037  278.134883  279.344104   \n",
       "96  276.958465  283.524790  278.404730  274.911893  284.466428  276.766916   \n",
       "97  274.085189  277.778726  278.508262  282.091619  279.487623  278.017888   \n",
       "98  271.348195  284.507391  275.600154  280.646187  278.854858  275.826385   \n",
       "99  276.136121  280.804978  275.701879  272.307967  278.667034  283.554686   \n",
       "\n",
       "             6           7           8           9  \n",
       "0   279.505934  283.514844  276.527208  278.751313  \n",
       "1   278.578152  276.656956  277.408610  277.744785  \n",
       "2   281.814310  277.635038  277.406390  281.427970  \n",
       "3   277.939667  279.707872  279.853822  276.157153  \n",
       "4   276.818664  276.878397  278.773008  277.138837  \n",
       "5   278.941751  280.130459  279.257827  283.303288  \n",
       "6   280.006050  272.596956  271.660734  278.771602  \n",
       "7   279.852186  275.903417  281.412602  276.899021  \n",
       "8   278.364098  282.881531  279.855889  278.664056  \n",
       "9   277.847780  271.471794  279.655027  276.428689  \n",
       "10  279.745109  279.583632  270.446011  281.555611  \n",
       "11  278.212749  278.014614  281.578800  276.608175  \n",
       "12  277.936755  280.846740  278.842425  277.397668  \n",
       "13  278.072310  272.586482  280.294957  280.141465  \n",
       "14  277.007629  278.851350  273.395138  276.306069  \n",
       "15  277.906924  272.897868  277.069960  278.878325  \n",
       "16  276.611095  288.113645  282.781589  280.504174  \n",
       "17  280.905818  281.254735  276.304491  280.979124  \n",
       "18  280.186482  281.647835  275.610361  279.649257  \n",
       "19  278.981656  275.180514  276.875389  280.622157  \n",
       "20  271.783157  284.048877  280.907700  278.173914  \n",
       "21  276.820817  274.467871  285.860580  274.796478  \n",
       "22  279.914023  279.910314  277.793822  279.113461  \n",
       "23  277.980245  279.528768  277.865251  274.334752  \n",
       "24  282.866393  273.526544  276.745607  281.856914  \n",
       "25  281.093227  278.364582  282.276418  285.044090  \n",
       "26  277.639755  278.741920  273.670576  274.559450  \n",
       "27  274.550785  276.206203  276.562241  276.098040  \n",
       "28  278.414897  279.172097  274.975207  277.321871  \n",
       "29  275.360396  278.633033  276.497377  278.116233  \n",
       "..         ...         ...         ...         ...  \n",
       "70  276.461322  277.666097  277.921201  279.879247  \n",
       "71  279.439384  277.367600  277.811756  276.101672  \n",
       "72  279.399025  281.294141  275.137620  275.122354  \n",
       "73  278.264221  276.443555  270.321767  279.676476  \n",
       "74  281.951717  280.441785  275.695596  275.530951  \n",
       "75  278.877548  276.704152  278.789395  275.244460  \n",
       "76  276.263143  279.293120  281.499495  276.687139  \n",
       "77  278.520261  280.881339  274.510177  275.076799  \n",
       "78  280.829010  275.013486  278.387777  277.785372  \n",
       "79  274.021237  280.315229  275.864594  280.547926  \n",
       "80  276.605648  282.633211  282.312824  281.382837  \n",
       "81  277.817257  278.724322  280.474171  276.424505  \n",
       "82  280.737785  277.475523  277.267579  276.497905  \n",
       "83  278.623334  279.089930  280.475070  278.539466  \n",
       "84  268.774852  278.445282  277.601093  276.072623  \n",
       "85  276.667517  280.102586  274.068928  277.293021  \n",
       "86  278.529703  276.668178  277.025154  282.414772  \n",
       "87  274.089894  281.247197  280.515663  280.964666  \n",
       "88  278.145663  274.127996  275.165102  279.446134  \n",
       "89  278.885519  279.483632  278.063301  286.482642  \n",
       "90  280.627916  282.150747  276.945010  278.095670  \n",
       "91  278.889854  273.180055  282.510792  275.946588  \n",
       "92  287.108574  283.020418  282.530275  279.855841  \n",
       "93  277.977179  278.219221  272.262241  277.629051  \n",
       "94  278.556419  278.597037  273.372858  276.078605  \n",
       "95  279.097421  280.621336  276.216706  279.662357  \n",
       "96  278.165681  278.023455  273.989949  277.860129  \n",
       "97  274.599986  273.702300  280.143562  278.711156  \n",
       "98  274.646120  277.217899  280.789355  285.120920  \n",
       "99  277.999999  276.733609  273.452576  280.944552  \n",
       "\n",
       "[100 rows x 10 columns]"
      ]
     },
     "execution_count": 172,
     "metadata": {},
     "output_type": "execute_result"
    }
   ],
   "source": [
    "pd.DataFrame(np.e**daily_returns * 100)"
   ]
  },
  {
   "cell_type": "code",
   "execution_count": 167,
   "metadata": {
    "hidden": true
   },
   "outputs": [],
   "source": [
    "#stock price of today\n",
    "S0 = testing['Price'].sum()"
   ]
  },
  {
   "cell_type": "code",
   "execution_count": 168,
   "metadata": {
    "hidden": true
   },
   "outputs": [],
   "source": [
    "price_list = np.zeros_like(daily_returns)\n",
    "price_list[0] = S0\n",
    "for t in range(1, t_intervals):\n",
    "    price_list[t] = price_list[t - 1] * daily_returns[t]"
   ]
  },
  {
   "cell_type": "code",
   "execution_count": 169,
   "metadata": {
    "hidden": true,
    "scrolled": true
   },
   "outputs": [
    {
     "data": {
      "image/png": "[encoded data removed]",
      "text/plain": [
       "<Figure size 720x432 with 1 Axes>"
      ]
     },
     "metadata": {},
     "output_type": "display_data"
    }
   ],
   "source": [
    "plt.figure(figsize=(10,6))\n",
    "plt.plot(price_list)\n",
    "plt.show()"
   ]
  },
  {
   "cell_type": "code",
   "execution_count": null,
   "metadata": {
    "hidden": true
   },
   "outputs": [],
   "source": []
  },
  {
   "cell_type": "markdown",
   "metadata": {},
   "source": [
    "#### Testing Part 2"
   ]
  },
  {
   "cell_type": "code",
   "execution_count": 54,
   "metadata": {},
   "outputs": [
    {
     "name": "stdout",
     "output_type": "stream",
     "text": [
      "price per year : 379.1595058441162\n",
      "expected return : 0.17530214730326055\n",
      "risk : 0.26998595202589426\n"
     ]
    }
   ],
   "source": [
    "price_per = float(testing['Price'].sum()) + 6\n",
    "expected_return = float(testing['avg_yr_returns'].mean())\n",
    "volatility = float(testing['yr_variance'].mean())\n",
    "print(f'price per year : {price_per}')\n",
    "print(f'expected return : {expected_return}')\n",
    "print(f'risk : {volatility}')"
   ]
  },
  {
   "cell_type": "code",
   "execution_count": 56,
   "metadata": {},
   "outputs": [],
   "source": [
    "# 4. Simulate portfolio ending market values \n",
    "\n",
    "sim = pd.DataFrame()\n",
    "iterations = 5000\n",
    "\n",
    "\n",
    "for x in range(iterations):\n",
    "    pv = float(testing['Price'].sum()) + 6\n",
    "    expected_return = float(testing['avg_yr_returns'].mean())\n",
    "    volatility = float(testing['yr_variance'].mean())\n",
    "    time_horizon = 5\n",
    "    annual_investment = pv\n",
    "    stream = []\n",
    "    for i in range(time_horizon):\n",
    "        end = round(pv * (1 + np.random.normal(expected_return,volatility)) + annual_investment,2)\n",
    "        \n",
    "        stream.append(end)\n",
    "\n",
    "        pv = end\n",
    "\n",
    "    \n",
    "    sim[x] = stream"
   ]
  },
  {
   "cell_type": "code",
   "execution_count": 57,
   "metadata": {},
   "outputs": [
    {
     "data": {
      "text/html": [
       "<div>\n",
       "<style scoped>\n",
       "    .dataframe tbody tr th:only-of-type {\n",
       "        vertical-align: middle;\n",
       "    }\n",
       "\n",
       "    .dataframe tbody tr th {\n",
       "        vertical-align: top;\n",
       "    }\n",
       "\n",
       "    .dataframe thead th {\n",
       "        text-align: right;\n",
       "    }\n",
       "</style>\n",
       "<table border=\"1\" class=\"dataframe\">\n",
       "  <thead>\n",
       "    <tr style=\"text-align: right;\">\n",
       "      <th></th>\n",
       "      <th>0</th>\n",
       "      <th>1</th>\n",
       "      <th>2</th>\n",
       "      <th>3</th>\n",
       "      <th>4</th>\n",
       "    </tr>\n",
       "  </thead>\n",
       "  <tbody>\n",
       "    <tr>\n",
       "      <th>0</th>\n",
       "      <td>1099.17</td>\n",
       "      <td>762.97</td>\n",
       "      <td>886.62</td>\n",
       "      <td>704.68</td>\n",
       "      <td>755.59</td>\n",
       "    </tr>\n",
       "    <tr>\n",
       "      <th>1</th>\n",
       "      <td>1746.94</td>\n",
       "      <td>1113.88</td>\n",
       "      <td>1389.77</td>\n",
       "      <td>1231.76</td>\n",
       "      <td>1098.21</td>\n",
       "    </tr>\n",
       "    <tr>\n",
       "      <th>2</th>\n",
       "      <td>1073.59</td>\n",
       "      <td>1391.28</td>\n",
       "      <td>1593.30</td>\n",
       "      <td>2124.46</td>\n",
       "      <td>1718.90</td>\n",
       "    </tr>\n",
       "    <tr>\n",
       "      <th>3</th>\n",
       "      <td>2042.11</td>\n",
       "      <td>2303.76</td>\n",
       "      <td>2037.54</td>\n",
       "      <td>2639.71</td>\n",
       "      <td>2559.06</td>\n",
       "    </tr>\n",
       "    <tr>\n",
       "      <th>4</th>\n",
       "      <td>3010.59</td>\n",
       "      <td>2776.69</td>\n",
       "      <td>3343.72</td>\n",
       "      <td>4132.18</td>\n",
       "      <td>3166.16</td>\n",
       "    </tr>\n",
       "  </tbody>\n",
       "</table>\n",
       "</div>"
      ],
      "text/plain": [
       "         0        1        2        3        4\n",
       "0  1099.17   762.97   886.62   704.68   755.59\n",
       "1  1746.94  1113.88  1389.77  1231.76  1098.21\n",
       "2  1073.59  1391.28  1593.30  2124.46  1718.90\n",
       "3  2042.11  2303.76  2037.54  2639.71  2559.06\n",
       "4  3010.59  2776.69  3343.72  4132.18  3166.16"
      ]
     },
     "execution_count": 57,
     "metadata": {},
     "output_type": "execute_result"
    }
   ],
   "source": [
    "# 5. Sample first five streams of annual ending values\n",
    "first_five = list(range(5))\n",
    "sim[first_five]"
   ]
  },
  {
   "cell_type": "code",
   "execution_count": 58,
   "metadata": {},
   "outputs": [
    {
     "data": {
      "application/vnd.plotly.v1+json": {
       "config": {
        "plotlyServerURL": "https://plot.ly"
       },
       "data": [
        {
         "mode": "lines+markers",
         "name": "stream_1",
         "type": "scatter",
         "x": [
          0,
          1,
          2,
          3,
          4
         ],
         "y": [
          762.97,
          1113.88,
          1391.28,
          2303.76,
          2776.69
         ]
        },
        {
         "mode": "lines+markers",
         "name": "stream_2",
         "type": "scatter",
         "x": [
          0,
          1,
          2,
          3,
          4
         ],
         "y": [
          886.62,
          1389.77,
          1593.3,
          2037.54,
          3343.72
         ]
        },
        {
         "mode": "lines+markers",
         "name": "stream_3",
         "type": "scatter",
         "x": [
          0,
          1,
          2,
          3,
          4
         ],
         "y": [
          704.68,
          1231.76,
          2124.46,
          2639.71,
          4132.18
         ]
        },
        {
         "mode": "lines+markers",
         "name": "stream_4",
         "type": "scatter",
         "x": [
          0,
          1,
          2,
          3,
          4
         ],
         "y": [
          755.59,
          1098.21,
          1718.9,
          2559.06,
          3166.16
         ]
        },
        {
         "mode": "lines+markers",
         "name": "stream_5",
         "type": "scatter",
         "x": [
          0,
          1,
          2,
          3,
          4
         ],
         "y": [
          935.02,
          1926.68,
          2830.47,
          2136.64,
          1928.21
         ]
        }
       ],
       "layout": {
        "template": {
         "data": {
          "bar": [
           {
            "error_x": {
             "color": "#2a3f5f"
            },
            "error_y": {
             "color": "#2a3f5f"
            },
            "marker": {
             "line": {
              "color": "#E5ECF6",
              "width": 0.5
             }
            },
            "type": "bar"
           }
          ],
          "barpolar": [
           {
            "marker": {
             "line": {
              "color": "#E5ECF6",
              "width": 0.5
             }
            },
            "type": "barpolar"
           }
          ],
          "carpet": [
           {
            "aaxis": {
             "endlinecolor": "#2a3f5f",
             "gridcolor": "white",
             "linecolor": "white",
             "minorgridcolor": "white",
             "startlinecolor": "#2a3f5f"
            },
            "baxis": {
             "endlinecolor": "#2a3f5f",
             "gridcolor": "white",
             "linecolor": "white",
             "minorgridcolor": "white",
             "startlinecolor": "#2a3f5f"
            },
            "type": "carpet"
           }
          ],
          "choropleth": [
           {
            "colorbar": {
             "outlinewidth": 0,
             "ticks": ""
            },
            "type": "choropleth"
           }
          ],
          "contour": [
           {
            "colorbar": {
             "outlinewidth": 0,
             "ticks": ""
            },
            "colorscale": [
             [
              0,
              "#0d0887"
             ],
             [
              0.1111111111111111,
              "#46039f"
             ],
             [
              0.2222222222222222,
              "#7201a8"
             ],
             [
              0.3333333333333333,
              "#9c179e"
             ],
             [
              0.4444444444444444,
              "#bd3786"
             ],
             [
              0.5555555555555556,
              "#d8576b"
             ],
             [
              0.6666666666666666,
              "#ed7953"
             ],
             [
              0.7777777777777778,
              "#fb9f3a"
             ],
             [
              0.8888888888888888,
              "#fdca26"
             ],
             [
              1,
              "#f0f921"
             ]
            ],
            "type": "contour"
           }
          ],
          "contourcarpet": [
           {
            "colorbar": {
             "outlinewidth": 0,
             "ticks": ""
            },
            "type": "contourcarpet"
           }
          ],
          "heatmap": [
           {
            "colorbar": {
             "outlinewidth": 0,
             "ticks": ""
            },
            "colorscale": [
             [
              0,
              "#0d0887"
             ],
             [
              0.1111111111111111,
              "#46039f"
             ],
             [
              0.2222222222222222,
              "#7201a8"
             ],
             [
              0.3333333333333333,
              "#9c179e"
             ],
             [
              0.4444444444444444,
              "#bd3786"
             ],
             [
              0.5555555555555556,
              "#d8576b"
             ],
             [
              0.6666666666666666,
              "#ed7953"
             ],
             [
              0.7777777777777778,
              "#fb9f3a"
             ],
             [
              0.8888888888888888,
              "#fdca26"
             ],
             [
              1,
              "#f0f921"
             ]
            ],
            "type": "heatmap"
           }
          ],
          "heatmapgl": [
           {
            "colorbar": {
             "outlinewidth": 0,
             "ticks": ""
            },
            "colorscale": [
             [
              0,
              "#0d0887"
             ],
             [
              0.1111111111111111,
              "#46039f"
             ],
             [
              0.2222222222222222,
              "#7201a8"
             ],
             [
              0.3333333333333333,
              "#9c179e"
             ],
             [
              0.4444444444444444,
              "#bd3786"
             ],
             [
              0.5555555555555556,
              "#d8576b"
             ],
             [
              0.6666666666666666,
              "#ed7953"
             ],
             [
              0.7777777777777778,
              "#fb9f3a"
             ],
             [
              0.8888888888888888,
              "#fdca26"
             ],
             [
              1,
              "#f0f921"
             ]
            ],
            "type": "heatmapgl"
           }
          ],
          "histogram": [
           {
            "marker": {
             "colorbar": {
              "outlinewidth": 0,
              "ticks": ""
             }
            },
            "type": "histogram"
           }
          ],
          "histogram2d": [
           {
            "colorbar": {
             "outlinewidth": 0,
             "ticks": ""
            },
            "colorscale": [
             [
              0,
              "#0d0887"
             ],
             [
              0.1111111111111111,
              "#46039f"
             ],
             [
              0.2222222222222222,
              "#7201a8"
             ],
             [
              0.3333333333333333,
              "#9c179e"
             ],
             [
              0.4444444444444444,
              "#bd3786"
             ],
             [
              0.5555555555555556,
              "#d8576b"
             ],
             [
              0.6666666666666666,
              "#ed7953"
             ],
             [
              0.7777777777777778,
              "#fb9f3a"
             ],
             [
              0.8888888888888888,
              "#fdca26"
             ],
             [
              1,
              "#f0f921"
             ]
            ],
            "type": "histogram2d"
           }
          ],
          "histogram2dcontour": [
           {
            "colorbar": {
             "outlinewidth": 0,
             "ticks": ""
            },
            "colorscale": [
             [
              0,
              "#0d0887"
             ],
             [
              0.1111111111111111,
              "#46039f"
             ],
             [
              0.2222222222222222,
              "#7201a8"
             ],
             [
              0.3333333333333333,
              "#9c179e"
             ],
             [
              0.4444444444444444,
              "#bd3786"
             ],
             [
              0.5555555555555556,
              "#d8576b"
             ],
             [
              0.6666666666666666,
              "#ed7953"
             ],
             [
              0.7777777777777778,
              "#fb9f3a"
             ],
             [
              0.8888888888888888,
              "#fdca26"
             ],
             [
              1,
              "#f0f921"
             ]
            ],
            "type": "histogram2dcontour"
           }
          ],
          "mesh3d": [
           {
            "colorbar": {
             "outlinewidth": 0,
             "ticks": ""
            },
            "type": "mesh3d"
           }
          ],
          "parcoords": [
           {
            "line": {
             "colorbar": {
              "outlinewidth": 0,
              "ticks": ""
             }
            },
            "type": "parcoords"
           }
          ],
          "scatter": [
           {
            "marker": {
             "colorbar": {
              "outlinewidth": 0,
              "ticks": ""
             }
            },
            "type": "scatter"
           }
          ],
          "scatter3d": [
           {
            "line": {
             "colorbar": {
              "outlinewidth": 0,
              "ticks": ""
             }
            },
            "marker": {
             "colorbar": {
              "outlinewidth": 0,
              "ticks": ""
             }
            },
            "type": "scatter3d"
           }
          ],
          "scattercarpet": [
           {
            "marker": {
             "colorbar": {
              "outlinewidth": 0,
              "ticks": ""
             }
            },
            "type": "scattercarpet"
           }
          ],
          "scattergeo": [
           {
            "marker": {
             "colorbar": {
              "outlinewidth": 0,
              "ticks": ""
             }
            },
            "type": "scattergeo"
           }
          ],
          "scattergl": [
           {
            "marker": {
             "colorbar": {
              "outlinewidth": 0,
              "ticks": ""
             }
            },
            "type": "scattergl"
           }
          ],
          "scattermapbox": [
           {
            "marker": {
             "colorbar": {
              "outlinewidth": 0,
              "ticks": ""
             }
            },
            "type": "scattermapbox"
           }
          ],
          "scatterpolar": [
           {
            "marker": {
             "colorbar": {
              "outlinewidth": 0,
              "ticks": ""
             }
            },
            "type": "scatterpolar"
           }
          ],
          "scatterpolargl": [
           {
            "marker": {
             "colorbar": {
              "outlinewidth": 0,
              "ticks": ""
             }
            },
            "type": "scatterpolargl"
           }
          ],
          "scatterternary": [
           {
            "marker": {
             "colorbar": {
              "outlinewidth": 0,
              "ticks": ""
             }
            },
            "type": "scatterternary"
           }
          ],
          "surface": [
           {
            "colorbar": {
             "outlinewidth": 0,
             "ticks": ""
            },
            "colorscale": [
             [
              0,
              "#0d0887"
             ],
             [
              0.1111111111111111,
              "#46039f"
             ],
             [
              0.2222222222222222,
              "#7201a8"
             ],
             [
              0.3333333333333333,
              "#9c179e"
             ],
             [
              0.4444444444444444,
              "#bd3786"
             ],
             [
              0.5555555555555556,
              "#d8576b"
             ],
             [
              0.6666666666666666,
              "#ed7953"
             ],
             [
              0.7777777777777778,
              "#fb9f3a"
             ],
             [
              0.8888888888888888,
              "#fdca26"
             ],
             [
              1,
              "#f0f921"
             ]
            ],
            "type": "surface"
           }
          ],
          "table": [
           {
            "cells": {
             "fill": {
              "color": "#EBF0F8"
             },
             "line": {
              "color": "white"
             }
            },
            "header": {
             "fill": {
              "color": "#C8D4E3"
             },
             "line": {
              "color": "white"
             }
            },
            "type": "table"
           }
          ]
         },
         "layout": {
          "annotationdefaults": {
           "arrowcolor": "#2a3f5f",
           "arrowhead": 0,
           "arrowwidth": 1
          },
          "colorscale": {
           "diverging": [
            [
             0,
             "#8e0152"
            ],
            [
             0.1,
             "#c51b7d"
            ],
            [
             0.2,
             "#de77ae"
            ],
            [
             0.3,
             "#f1b6da"
            ],
            [
             0.4,
             "#fde0ef"
            ],
            [
             0.5,
             "#f7f7f7"
            ],
            [
             0.6,
             "#e6f5d0"
            ],
            [
             0.7,
             "#b8e186"
            ],
            [
             0.8,
             "#7fbc41"
            ],
            [
             0.9,
             "#4d9221"
            ],
            [
             1,
             "#276419"
            ]
           ],
           "sequential": [
            [
             0,
             "#0d0887"
            ],
            [
             0.1111111111111111,
             "#46039f"
            ],
            [
             0.2222222222222222,
             "#7201a8"
            ],
            [
             0.3333333333333333,
             "#9c179e"
            ],
            [
             0.4444444444444444,
             "#bd3786"
            ],
            [
             0.5555555555555556,
             "#d8576b"
            ],
            [
             0.6666666666666666,
             "#ed7953"
            ],
            [
             0.7777777777777778,
             "#fb9f3a"
            ],
            [
             0.8888888888888888,
             "#fdca26"
            ],
            [
             1,
             "#f0f921"
            ]
           ],
           "sequentialminus": [
            [
             0,
             "#0d0887"
            ],
            [
             0.1111111111111111,
             "#46039f"
            ],
            [
             0.2222222222222222,
             "#7201a8"
            ],
            [
             0.3333333333333333,
             "#9c179e"
            ],
            [
             0.4444444444444444,
             "#bd3786"
            ],
            [
             0.5555555555555556,
             "#d8576b"
            ],
            [
             0.6666666666666666,
             "#ed7953"
            ],
            [
             0.7777777777777778,
             "#fb9f3a"
            ],
            [
             0.8888888888888888,
             "#fdca26"
            ],
            [
             1,
             "#f0f921"
            ]
           ]
          },
          "colorway": [
           "#636efa",
           "#EF553B",
           "#00cc96",
           "#ab63fa",
           "#FFA15A",
           "#19d3f3",
           "#FF6692",
           "#B6E880",
           "#FF97FF",
           "#FECB52"
          ],
          "font": {
           "color": "#2a3f5f"
          },
          "geo": {
           "bgcolor": "white",
           "lakecolor": "white",
           "landcolor": "#E5ECF6",
           "showlakes": true,
           "showland": true,
           "subunitcolor": "white"
          },
          "hoverlabel": {
           "align": "left"
          },
          "hovermode": "closest",
          "mapbox": {
           "style": "light"
          },
          "paper_bgcolor": "white",
          "plot_bgcolor": "#E5ECF6",
          "polar": {
           "angularaxis": {
            "gridcolor": "white",
            "linecolor": "white",
            "ticks": ""
           },
           "bgcolor": "#E5ECF6",
           "radialaxis": {
            "gridcolor": "white",
            "linecolor": "white",
            "ticks": ""
           }
          },
          "scene": {
           "xaxis": {
            "backgroundcolor": "#E5ECF6",
            "gridcolor": "white",
            "gridwidth": 2,
            "linecolor": "white",
            "showbackground": true,
            "ticks": "",
            "zerolinecolor": "white"
           },
           "yaxis": {
            "backgroundcolor": "#E5ECF6",
            "gridcolor": "white",
            "gridwidth": 2,
            "linecolor": "white",
            "showbackground": true,
            "ticks": "",
            "zerolinecolor": "white"
           },
           "zaxis": {
            "backgroundcolor": "#E5ECF6",
            "gridcolor": "white",
            "gridwidth": 2,
            "linecolor": "white",
            "showbackground": true,
            "ticks": "",
            "zerolinecolor": "white"
           }
          },
          "shapedefaults": {
           "line": {
            "color": "#2a3f5f"
           }
          },
          "ternary": {
           "aaxis": {
            "gridcolor": "white",
            "linecolor": "white",
            "ticks": ""
           },
           "baxis": {
            "gridcolor": "white",
            "linecolor": "white",
            "ticks": ""
           },
           "bgcolor": "#E5ECF6",
           "caxis": {
            "gridcolor": "white",
            "linecolor": "white",
            "ticks": ""
           }
          },
          "title": {
           "x": 0.05
          },
          "xaxis": {
           "automargin": true,
           "gridcolor": "white",
           "linecolor": "white",
           "ticks": "",
           "zerolinecolor": "white",
           "zerolinewidth": 2
          },
          "yaxis": {
           "automargin": true,
           "gridcolor": "white",
           "linecolor": "white",
           "ticks": "",
           "zerolinecolor": "white",
           "zerolinewidth": 2
          }
         }
        }
       }
      },
      "text/html": [
       "<div>\n",
       "        \n",
       "        \n",
       "            <div id=\"8d37b500-fe8d-4870-94e4-ee98bf18d42b\" class=\"plotly-graph-div\" style=\"height:525px; width:100%;\"></div>\n",
       "            <script type=\"text/javascript\">\n",
       "                require([\"plotly\"], function(Plotly) {\n",
       "                    window.PLOTLYENV=window.PLOTLYENV || {};\n",
       "                    \n",
       "                if (document.getElementById(\"8d37b500-fe8d-4870-94e4-ee98bf18d42b\")) {\n",
       "                    Plotly.newPlot(\n",
       "                        '8d37b500-fe8d-4870-94e4-ee98bf18d42b',\n",
       "                        [{\"mode\": \"lines+markers\", \"name\": \"stream_1\", \"type\": \"scatter\", \"x\": [0, 1, 2, 3, 4], \"y\": [762.97, 1113.88, 1391.28, 2303.76, 2776.69]}, {\"mode\": \"lines+markers\", \"name\": \"stream_2\", \"type\": \"scatter\", \"x\": [0, 1, 2, 3, 4], \"y\": [886.62, 1389.77, 1593.3, 2037.54, 3343.72]}, {\"mode\": \"lines+markers\", \"name\": \"stream_3\", \"type\": \"scatter\", \"x\": [0, 1, 2, 3, 4], \"y\": [704.68, 1231.76, 2124.46, 2639.71, 4132.18]}, {\"mode\": \"lines+markers\", \"name\": \"stream_4\", \"type\": \"scatter\", \"x\": [0, 1, 2, 3, 4], \"y\": [755.59, 1098.21, 1718.9, 2559.06, 3166.16]}, {\"mode\": \"lines+markers\", \"name\": \"stream_5\", \"type\": \"scatter\", \"x\": [0, 1, 2, 3, 4], \"y\": [935.02, 1926.68, 2830.47, 2136.64, 1928.21]}],\n",
       "                        {\"template\": {\"data\": {\"bar\": [{\"error_x\": {\"color\": \"#2a3f5f\"}, \"error_y\": {\"color\": \"#2a3f5f\"}, \"marker\": {\"line\": {\"color\": \"#E5ECF6\", \"width\": 0.5}}, \"type\": \"bar\"}], \"barpolar\": [{\"marker\": {\"line\": {\"color\": \"#E5ECF6\", \"width\": 0.5}}, \"type\": \"barpolar\"}], \"carpet\": [{\"aaxis\": {\"endlinecolor\": \"#2a3f5f\", \"gridcolor\": \"white\", \"linecolor\": \"white\", \"minorgridcolor\": \"white\", \"startlinecolor\": \"#2a3f5f\"}, \"baxis\": {\"endlinecolor\": \"#2a3f5f\", \"gridcolor\": \"white\", \"linecolor\": \"white\", \"minorgridcolor\": \"white\", \"startlinecolor\": \"#2a3f5f\"}, \"type\": \"carpet\"}], \"choropleth\": [{\"colorbar\": {\"outlinewidth\": 0, \"ticks\": \"\"}, \"type\": \"choropleth\"}], \"contour\": [{\"colorbar\": {\"outlinewidth\": 0, \"ticks\": \"\"}, \"colorscale\": [[0.0, \"#0d0887\"], [0.1111111111111111, \"#46039f\"], [0.2222222222222222, \"#7201a8\"], [0.3333333333333333, \"#9c179e\"], [0.4444444444444444, \"#bd3786\"], [0.5555555555555556, \"#d8576b\"], [0.6666666666666666, \"#ed7953\"], [0.7777777777777778, \"#fb9f3a\"], [0.8888888888888888, \"#fdca26\"], [1.0, \"#f0f921\"]], \"type\": \"contour\"}], \"contourcarpet\": [{\"colorbar\": {\"outlinewidth\": 0, \"ticks\": \"\"}, \"type\": \"contourcarpet\"}], \"heatmap\": [{\"colorbar\": {\"outlinewidth\": 0, \"ticks\": \"\"}, \"colorscale\": [[0.0, \"#0d0887\"], [0.1111111111111111, \"#46039f\"], [0.2222222222222222, \"#7201a8\"], [0.3333333333333333, \"#9c179e\"], [0.4444444444444444, \"#bd3786\"], [0.5555555555555556, \"#d8576b\"], [0.6666666666666666, \"#ed7953\"], [0.7777777777777778, \"#fb9f3a\"], [0.8888888888888888, \"#fdca26\"], [1.0, \"#f0f921\"]], \"type\": \"heatmap\"}], \"heatmapgl\": [{\"colorbar\": {\"outlinewidth\": 0, \"ticks\": \"\"}, \"colorscale\": [[0.0, \"#0d0887\"], [0.1111111111111111, \"#46039f\"], [0.2222222222222222, \"#7201a8\"], [0.3333333333333333, \"#9c179e\"], [0.4444444444444444, \"#bd3786\"], [0.5555555555555556, \"#d8576b\"], [0.6666666666666666, \"#ed7953\"], [0.7777777777777778, \"#fb9f3a\"], [0.8888888888888888, \"#fdca26\"], [1.0, \"#f0f921\"]], \"type\": \"heatmapgl\"}], \"histogram\": [{\"marker\": {\"colorbar\": {\"outlinewidth\": 0, \"ticks\": \"\"}}, \"type\": \"histogram\"}], \"histogram2d\": [{\"colorbar\": {\"outlinewidth\": 0, \"ticks\": \"\"}, \"colorscale\": [[0.0, \"#0d0887\"], [0.1111111111111111, \"#46039f\"], [0.2222222222222222, \"#7201a8\"], [0.3333333333333333, \"#9c179e\"], [0.4444444444444444, \"#bd3786\"], [0.5555555555555556, \"#d8576b\"], [0.6666666666666666, \"#ed7953\"], [0.7777777777777778, \"#fb9f3a\"], [0.8888888888888888, \"#fdca26\"], [1.0, \"#f0f921\"]], \"type\": \"histogram2d\"}], \"histogram2dcontour\": [{\"colorbar\": {\"outlinewidth\": 0, \"ticks\": \"\"}, \"colorscale\": [[0.0, \"#0d0887\"], [0.1111111111111111, \"#46039f\"], [0.2222222222222222, \"#7201a8\"], [0.3333333333333333, \"#9c179e\"], [0.4444444444444444, \"#bd3786\"], [0.5555555555555556, \"#d8576b\"], [0.6666666666666666, \"#ed7953\"], [0.7777777777777778, \"#fb9f3a\"], [0.8888888888888888, \"#fdca26\"], [1.0, \"#f0f921\"]], \"type\": \"histogram2dcontour\"}], \"mesh3d\": [{\"colorbar\": {\"outlinewidth\": 0, \"ticks\": \"\"}, \"type\": \"mesh3d\"}], \"parcoords\": [{\"line\": {\"colorbar\": {\"outlinewidth\": 0, \"ticks\": \"\"}}, \"type\": \"parcoords\"}], \"scatter\": [{\"marker\": {\"colorbar\": {\"outlinewidth\": 0, \"ticks\": \"\"}}, \"type\": \"scatter\"}], \"scatter3d\": [{\"line\": {\"colorbar\": {\"outlinewidth\": 0, \"ticks\": \"\"}}, \"marker\": {\"colorbar\": {\"outlinewidth\": 0, \"ticks\": \"\"}}, \"type\": \"scatter3d\"}], \"scattercarpet\": [{\"marker\": {\"colorbar\": {\"outlinewidth\": 0, \"ticks\": \"\"}}, \"type\": \"scattercarpet\"}], \"scattergeo\": [{\"marker\": {\"colorbar\": {\"outlinewidth\": 0, \"ticks\": \"\"}}, \"type\": \"scattergeo\"}], \"scattergl\": [{\"marker\": {\"colorbar\": {\"outlinewidth\": 0, \"ticks\": \"\"}}, \"type\": \"scattergl\"}], \"scattermapbox\": [{\"marker\": {\"colorbar\": {\"outlinewidth\": 0, \"ticks\": \"\"}}, \"type\": \"scattermapbox\"}], \"scatterpolar\": [{\"marker\": {\"colorbar\": {\"outlinewidth\": 0, \"ticks\": \"\"}}, \"type\": \"scatterpolar\"}], \"scatterpolargl\": [{\"marker\": {\"colorbar\": {\"outlinewidth\": 0, \"ticks\": \"\"}}, \"type\": \"scatterpolargl\"}], \"scatterternary\": [{\"marker\": {\"colorbar\": {\"outlinewidth\": 0, \"ticks\": \"\"}}, \"type\": \"scatterternary\"}], \"surface\": [{\"colorbar\": {\"outlinewidth\": 0, \"ticks\": \"\"}, \"colorscale\": [[0.0, \"#0d0887\"], [0.1111111111111111, \"#46039f\"], [0.2222222222222222, \"#7201a8\"], [0.3333333333333333, \"#9c179e\"], [0.4444444444444444, \"#bd3786\"], [0.5555555555555556, \"#d8576b\"], [0.6666666666666666, \"#ed7953\"], [0.7777777777777778, \"#fb9f3a\"], [0.8888888888888888, \"#fdca26\"], [1.0, \"#f0f921\"]], \"type\": \"surface\"}], \"table\": [{\"cells\": {\"fill\": {\"color\": \"#EBF0F8\"}, \"line\": {\"color\": \"white\"}}, \"header\": {\"fill\": {\"color\": \"#C8D4E3\"}, \"line\": {\"color\": \"white\"}}, \"type\": \"table\"}]}, \"layout\": {\"annotationdefaults\": {\"arrowcolor\": \"#2a3f5f\", \"arrowhead\": 0, \"arrowwidth\": 1}, \"colorscale\": {\"diverging\": [[0, \"#8e0152\"], [0.1, \"#c51b7d\"], [0.2, \"#de77ae\"], [0.3, \"#f1b6da\"], [0.4, \"#fde0ef\"], [0.5, \"#f7f7f7\"], [0.6, \"#e6f5d0\"], [0.7, \"#b8e186\"], [0.8, \"#7fbc41\"], [0.9, \"#4d9221\"], [1, \"#276419\"]], \"sequential\": [[0.0, \"#0d0887\"], [0.1111111111111111, \"#46039f\"], [0.2222222222222222, \"#7201a8\"], [0.3333333333333333, \"#9c179e\"], [0.4444444444444444, \"#bd3786\"], [0.5555555555555556, \"#d8576b\"], [0.6666666666666666, \"#ed7953\"], [0.7777777777777778, \"#fb9f3a\"], [0.8888888888888888, \"#fdca26\"], [1.0, \"#f0f921\"]], \"sequentialminus\": [[0.0, \"#0d0887\"], [0.1111111111111111, \"#46039f\"], [0.2222222222222222, \"#7201a8\"], [0.3333333333333333, \"#9c179e\"], [0.4444444444444444, \"#bd3786\"], [0.5555555555555556, \"#d8576b\"], [0.6666666666666666, \"#ed7953\"], [0.7777777777777778, \"#fb9f3a\"], [0.8888888888888888, \"#fdca26\"], [1.0, \"#f0f921\"]]}, \"colorway\": [\"#636efa\", \"#EF553B\", \"#00cc96\", \"#ab63fa\", \"#FFA15A\", \"#19d3f3\", \"#FF6692\", \"#B6E880\", \"#FF97FF\", \"#FECB52\"], \"font\": {\"color\": \"#2a3f5f\"}, \"geo\": {\"bgcolor\": \"white\", \"lakecolor\": \"white\", \"landcolor\": \"#E5ECF6\", \"showlakes\": true, \"showland\": true, \"subunitcolor\": \"white\"}, \"hoverlabel\": {\"align\": \"left\"}, \"hovermode\": \"closest\", \"mapbox\": {\"style\": \"light\"}, \"paper_bgcolor\": \"white\", \"plot_bgcolor\": \"#E5ECF6\", \"polar\": {\"angularaxis\": {\"gridcolor\": \"white\", \"linecolor\": \"white\", \"ticks\": \"\"}, \"bgcolor\": \"#E5ECF6\", \"radialaxis\": {\"gridcolor\": \"white\", \"linecolor\": \"white\", \"ticks\": \"\"}}, \"scene\": {\"xaxis\": {\"backgroundcolor\": \"#E5ECF6\", \"gridcolor\": \"white\", \"gridwidth\": 2, \"linecolor\": \"white\", \"showbackground\": true, \"ticks\": \"\", \"zerolinecolor\": \"white\"}, \"yaxis\": {\"backgroundcolor\": \"#E5ECF6\", \"gridcolor\": \"white\", \"gridwidth\": 2, \"linecolor\": \"white\", \"showbackground\": true, \"ticks\": \"\", \"zerolinecolor\": \"white\"}, \"zaxis\": {\"backgroundcolor\": \"#E5ECF6\", \"gridcolor\": \"white\", \"gridwidth\": 2, \"linecolor\": \"white\", \"showbackground\": true, \"ticks\": \"\", \"zerolinecolor\": \"white\"}}, \"shapedefaults\": {\"line\": {\"color\": \"#2a3f5f\"}}, \"ternary\": {\"aaxis\": {\"gridcolor\": \"white\", \"linecolor\": \"white\", \"ticks\": \"\"}, \"baxis\": {\"gridcolor\": \"white\", \"linecolor\": \"white\", \"ticks\": \"\"}, \"bgcolor\": \"#E5ECF6\", \"caxis\": {\"gridcolor\": \"white\", \"linecolor\": \"white\", \"ticks\": \"\"}}, \"title\": {\"x\": 0.05}, \"xaxis\": {\"automargin\": true, \"gridcolor\": \"white\", \"linecolor\": \"white\", \"ticks\": \"\", \"zerolinecolor\": \"white\", \"zerolinewidth\": 2}, \"yaxis\": {\"automargin\": true, \"gridcolor\": \"white\", \"linecolor\": \"white\", \"ticks\": \"\", \"zerolinecolor\": \"white\", \"zerolinewidth\": 2}}}},\n",
       "                        {\"responsive\": true}\n",
       "                    ).then(function(){\n",
       "                            \n",
       "var gd = document.getElementById('8d37b500-fe8d-4870-94e4-ee98bf18d42b');\n",
       "var x = new MutationObserver(function (mutations, observer) {{\n",
       "        var display = window.getComputedStyle(gd).display;\n",
       "        if (!display || display === 'none') {{\n",
       "            console.log([gd, 'removed!']);\n",
       "            Plotly.purge(gd);\n",
       "            observer.disconnect();\n",
       "        }}\n",
       "}});\n",
       "\n",
       "// Listen for the removal of the full notebook cells\n",
       "var notebookContainer = gd.closest('#notebook-container');\n",
       "if (notebookContainer) {{\n",
       "    x.observe(notebookContainer, {childList: true});\n",
       "}}\n",
       "\n",
       "// Listen for the clearing of the current output cell\n",
       "var outputEl = gd.closest('.output');\n",
       "if (outputEl) {{\n",
       "    x.observe(outputEl, {childList: true});\n",
       "}}\n",
       "\n",
       "                        })\n",
       "                };\n",
       "                });\n",
       "            </script>\n",
       "        </div>"
      ]
     },
     "metadata": {},
     "output_type": "display_data"
    }
   ],
   "source": [
    "import plotly.graph_objects as go\n",
    "\n",
    "# Create random data with numpy\n",
    "import numpy as np\n",
    "\n",
    "\n",
    "random_x = sim.index\n",
    "random_y0 = sim[1]\n",
    "random_y1 = sim[2]\n",
    "random_y2 = sim[3]\n",
    "random_y3 = sim[4]\n",
    "random_y4 = sim[5]\n",
    "\n",
    "# Create traces\n",
    "fig = go.Figure()\n",
    "fig.add_trace(go.Scatter(x=random_x, y=random_y0,\n",
    "                    mode='lines+markers',\n",
    "                    name='stream_1'))\n",
    "fig.add_trace(go.Scatter(x=random_x, y=random_y1,\n",
    "                    mode='lines+markers',\n",
    "                    name='stream_2'))\n",
    "fig.add_trace(go.Scatter(x=random_x, y=random_y2,\n",
    "                    mode='lines+markers', \n",
    "                    name='stream_3'))\n",
    "\n",
    "fig.add_trace(go.Scatter(x=random_x, y=random_y3,\n",
    "                    mode='lines+markers',\n",
    "                    name='stream_4'))\n",
    "fig.add_trace(go.Scatter(x=random_x, y=random_y4,\n",
    "                    mode='lines+markers', \n",
    "                    name='stream_5'))\n",
    "\n",
    "fig.show()"
   ]
  },
  {
   "cell_type": "code",
   "execution_count": 59,
   "metadata": {
    "code_folding": [
     0
    ]
   },
   "outputs": [
    {
     "name": "stdout",
     "output_type": "stream",
     "text": [
      "Count: 5000\n",
      "Mean:  $3,538.12\n",
      "SD:  $1,183.63\n",
      "Max:  $10,175.56\n",
      "Min:  $704.50\n"
     ]
    }
   ],
   "source": [
    "# 7. Generate summary statistics with numpy functions\n",
    "amount = len(sim)-1\n",
    "print(\"Count:\", len(sim.loc[amount]))\n",
    "print(\"Mean: \", locale.currency(np.mean(sim.loc[amount]),grouping=True))\n",
    "print(\"SD: \",locale.currency(np.std(sim.loc[amount]),grouping=True))\n",
    "print(\"Max: \",locale.currency(np.max(sim.loc[amount]), grouping=True))\n",
    "print(\"Min: \", locale.currency(np.min(sim.loc[amount]), grouping=True))"
   ]
  },
  {
   "cell_type": "code",
   "execution_count": 60,
   "metadata": {
    "code_folding": [
     0,
     3
    ],
    "scrolled": true
   },
   "outputs": [
    {
     "name": "stdout",
     "output_type": "stream",
     "text": [
      "      5%-ile:   $1,903.00\n",
      "     10%-ile:   $2,185.34\n",
      "     15%-ile:   $2,377.44\n",
      "     25%-ile:   $2,694.47\n",
      "     50%-ile:   $3,363.76\n",
      "     75%-ile:   $4,213.14\n"
     ]
    }
   ],
   "source": [
    "#You can get a more comprehensive table of percentiles easily using numpy's percentile function\n",
    "ending_values = sim.loc[amount]\n",
    "p_tiles = np.percentile(ending_values,[5,10,15,25,50,75])\n",
    "for p in range(len(p_tiles)):\n",
    "    l = [5,10,15,25,50,75]\n",
    "    print(\"{}%-ile:  \".format(l[p]).rjust(15),\"{}\".format(locale.currency(p_tiles[p], grouping=True)))\n",
    "#     print(f\"{l[p]}%-ile:  \",f\"{locale.currency(p_tiles[p], grouping=True)}\")"
   ]
  },
  {
   "cell_type": "code",
   "execution_count": null,
   "metadata": {},
   "outputs": [],
   "source": [
    "# 3. Generating one possible future value based on market history; I will use 9% expected return with 18% volatility\n",
    "\n",
    "pv = float(testing['Price'].sum()) + 6\n",
    "expected_return = float(testing['avg_yr_returns'].mean())\n",
    "volatility = float(testing['yr_variance'].mean())\n",
    "time_horizon = 5\n",
    "annual_addition = pv\n",
    "\n",
    "print(\"\\tReturn\", \"\\t\\tEnding Value\".rjust(18))\n",
    "for year in range(time_horizon):\n",
    "    market_return = np.random.normal(expected_return, volatility)\n",
    "    fv = pv * (1 + market_return) + annual_addition\n",
    "    print(\"\\t{}\".ljust(10).format(round(market_return,4)), \"\\t{}\".rjust(10).format(locale.currency(fv, grouping=True)))\n",
    "    pv = fv"
   ]
  }
 ],
 "metadata": {
  "kernelspec": {
   "display_name": "Python 3",
   "language": "python",
   "name": "python3"
  },
  "language_info": {
   "codemirror_mode": {
    "name": "ipython",
    "version": 3
   },
   "file_extension": ".py",
   "mimetype": "text/x-python",
   "name": "python",
   "nbconvert_exporter": "python",
   "pygments_lexer": "ipython3",
   "version": "3.7.3"
  }
 },
 "nbformat": 4,
 "nbformat_minor": 2
}
